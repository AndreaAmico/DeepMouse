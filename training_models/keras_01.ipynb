{
 "cells": [
  {
   "cell_type": "code",
   "execution_count": 6,
   "metadata": {},
   "outputs": [],
   "source": [
    "import tensorflow as tf\n",
    "import pandas as pd\n",
    "import numpy as np\n",
    "import matplotlib.pyplot as plt\n",
    "\n",
    "from keras.preprocessing import sequence\n",
    "from keras.models import Sequential\n",
    "from keras.layers import Dense\n",
    "from keras.layers import LSTM\n",
    "\n",
    "from keras.optimizers import Adam\n",
    "from keras.models import load_model\n",
    "from keras.callbacks import ModelCheckpoint\n",
    "\n",
    "from sklearn.model_selection import train_test_split\n",
    "from sklearn.metrics import accuracy_score\n",
    "\n",
    "%matplotlib inline\n",
    "version = '01'"
   ]
  },
  {
   "cell_type": "markdown",
   "metadata": {},
   "source": [
    "## Dataset loading"
   ]
  },
  {
   "cell_type": "code",
   "execution_count": 7,
   "metadata": {},
   "outputs": [],
   "source": [
    "right = pd.read_csv(\"../data/right.txt\", header=None).values.tolist()\n",
    "left = pd.read_csv(\"../data/left.txt\", header=None).values.tolist()"
   ]
  },
  {
   "cell_type": "markdown",
   "metadata": {},
   "source": [
    "## Pre-processing"
   ]
  },
  {
   "cell_type": "code",
   "execution_count": 8,
   "metadata": {},
   "outputs": [],
   "source": [
    "batch_size = 200\n",
    "batch_right = [right[i:i + batch_size] for i in range(0, len(right), batch_size)]\n",
    "batch_left = [left[i:i + batch_size] for i in range(0, len(left), batch_size)]\n",
    "\n",
    "X = np.array(batch_right + batch_left)\n",
    "y = np.array([0]*len(batch_right) + [1]*len(batch_left))"
   ]
  },
  {
   "cell_type": "code",
   "execution_count": 9,
   "metadata": {},
   "outputs": [
    {
     "name": "stdout",
     "output_type": "stream",
     "text": [
      "X shape: (600, 200, 2)\n",
      "y shape: (600,)\n"
     ]
    }
   ],
   "source": [
    "print(f'X shape: {X.shape}\\ny shape: {y.shape}')"
   ]
  },
  {
   "cell_type": "code",
   "execution_count": 10,
   "metadata": {},
   "outputs": [
    {
     "data": {
      "image/png": "[encoded data removed]",
      "text/plain": [
       "<Figure size 432x288 with 2 Axes>"
      ]
     },
     "metadata": {
      "needs_background": "light"
     },
     "output_type": "display_data"
    }
   ],
   "source": [
    "import matplotlib.cm as cm\n",
    "batch_index = 26\n",
    "\n",
    "colors = np.linspace(0, 2000, X.shape[1])\n",
    "\n",
    "sc = plt.scatter(X[batch_index,:,0], X[batch_index,:,1] , c=colors, cmap='viridis')\n",
    "clb = plt.colorbar()\n",
    "clb.set_label('Time (ms)')\n",
    "plt.xlabel('mouse x-coordinate (px)')\n",
    "plt.ylabel('mouse y-coordinate (px)')\n",
    "plt.xlim(500, 700)\n",
    "plt.ylim(300, 550)\n",
    "plt.xticks(np.arange(500, 701, 50));\n",
    "\n",
    "#plt.savefig('../plots/batch_example.png')"
   ]
  },
  {
   "cell_type": "markdown",
   "metadata": {},
   "source": [
    "## Training/dev/test set splitting"
   ]
  },
  {
   "cell_type": "code",
   "execution_count": 11,
   "metadata": {},
   "outputs": [],
   "source": [
    "X_train, X_test, y_train, y_test = train_test_split(X, y, test_size=0.30, random_state=1)\n",
    "X_dev, X_test, y_dev, y_test = train_test_split(X_train, y_train, test_size=0.5, random_state=1)"
   ]
  },
  {
   "cell_type": "markdown",
   "metadata": {},
   "source": [
    "## Model definition"
   ]
  },
  {
   "cell_type": "code",
   "execution_count": 20,
   "metadata": {},
   "outputs": [
    {
     "name": "stdout",
     "output_type": "stream",
     "text": [
      "_________________________________________________________________\n",
      "Layer (type)                 Output Shape              Param #   \n",
      "=================================================================\n",
      "lstm_1 (LSTM)                (None, 256)               265216    \n",
      "_________________________________________________________________\n",
      "dense_1 (Dense)              (None, 1)                 257       \n",
      "=================================================================\n",
      "Total params: 265,473\n",
      "Trainable params: 265,473\n",
      "Non-trainable params: 0\n",
      "_________________________________________________________________\n"
     ]
    }
   ],
   "source": [
    "model = Sequential()\n",
    "model.add(LSTM(256, input_shape=(batch_size, 2)))\n",
    "model.add(Dense(1, activation='sigmoid'))\n",
    "\n",
    "model.summary()"
   ]
  },
  {
   "cell_type": "markdown",
   "metadata": {},
   "source": [
    "## Model training"
   ]
  },
  {
   "cell_type": "code",
   "execution_count": 21,
   "metadata": {
    "scrolled": true
   },
   "outputs": [
    {
     "name": "stdout",
     "output_type": "stream",
     "text": [
      "Train on 420 samples, validate on 210 samples\n",
      "Epoch 1/200\n",
      "420/420 [==============================] - 4s 9ms/step - loss: 0.7069 - acc: 0.5786 - val_loss: 0.6725 - val_acc: 0.5429\n",
      "Epoch 2/200\n",
      "420/420 [==============================] - 2s 4ms/step - loss: 0.6786 - acc: 0.5286 - val_loss: 0.6689 - val_acc: 0.5286\n",
      "Epoch 3/200\n",
      "420/420 [==============================] - 2s 4ms/step - loss: 0.6588 - acc: 0.5714 - val_loss: 0.6367 - val_acc: 0.6238\n",
      "Epoch 4/200\n",
      "420/420 [==============================] - 2s 5ms/step - loss: 0.6536 - acc: 0.5976 - val_loss: 0.6265 - val_acc: 0.6286\n",
      "Epoch 5/200\n",
      "420/420 [==============================] - 2s 4ms/step - loss: 0.6405 - acc: 0.6167 - val_loss: 0.6375 - val_acc: 0.6524\n",
      "Epoch 6/200\n",
      "420/420 [==============================] - 2s 4ms/step - loss: 0.6398 - acc: 0.6190 - val_loss: 0.6339 - val_acc: 0.6429\n",
      "Epoch 7/200\n",
      "420/420 [==============================] - 3s 6ms/step - loss: 0.6468 - acc: 0.6143 - val_loss: 0.6240 - val_acc: 0.6476\n",
      "Epoch 8/200\n",
      "420/420 [==============================] - 2s 6ms/step - loss: 0.6343 - acc: 0.6143 - val_loss: 0.6232 - val_acc: 0.6381\n",
      "Epoch 9/200\n",
      "420/420 [==============================] - 3s 6ms/step - loss: 0.6370 - acc: 0.6190 - val_loss: 0.6187 - val_acc: 0.6571\n",
      "Epoch 10/200\n",
      "420/420 [==============================] - 3s 6ms/step - loss: 0.6320 - acc: 0.6381 - val_loss: 0.6119 - val_acc: 0.6619\n",
      "Epoch 11/200\n",
      "420/420 [==============================] - 3s 6ms/step - loss: 0.6287 - acc: 0.6286 - val_loss: 0.6142 - val_acc: 0.6524\n",
      "Epoch 12/200\n",
      "420/420 [==============================] - 3s 6ms/step - loss: 0.6303 - acc: 0.6214 - val_loss: 0.6086 - val_acc: 0.6762\n",
      "Epoch 13/200\n",
      "420/420 [==============================] - 3s 6ms/step - loss: 0.6241 - acc: 0.6452 - val_loss: 0.6058 - val_acc: 0.6810\n",
      "Epoch 14/200\n",
      "420/420 [==============================] - 3s 6ms/step - loss: 0.6225 - acc: 0.6333 - val_loss: 0.6047 - val_acc: 0.6667\n",
      "Epoch 15/200\n",
      "420/420 [==============================] - 3s 6ms/step - loss: 0.6224 - acc: 0.6381 - val_loss: 0.6088 - val_acc: 0.6810\n",
      "Epoch 16/200\n",
      "420/420 [==============================] - 2s 6ms/step - loss: 0.6221 - acc: 0.6548 - val_loss: 0.6060 - val_acc: 0.6762\n",
      "Epoch 17/200\n",
      "420/420 [==============================] - 2s 6ms/step - loss: 0.6189 - acc: 0.6429 - val_loss: 0.6019 - val_acc: 0.6857\n",
      "Epoch 18/200\n",
      "420/420 [==============================] - 2s 6ms/step - loss: 0.6182 - acc: 0.6595 - val_loss: 0.6004 - val_acc: 0.7000\n",
      "Epoch 19/200\n",
      "420/420 [==============================] - 3s 6ms/step - loss: 0.6197 - acc: 0.6500 - val_loss: 0.6028 - val_acc: 0.6714\n",
      "Epoch 20/200\n",
      "420/420 [==============================] - 3s 6ms/step - loss: 0.6188 - acc: 0.6381 - val_loss: 0.5983 - val_acc: 0.6714\n",
      "Epoch 21/200\n",
      "420/420 [==============================] - 3s 6ms/step - loss: 0.6178 - acc: 0.6452 - val_loss: 0.6071 - val_acc: 0.6905\n",
      "Epoch 22/200\n",
      "420/420 [==============================] - 2s 6ms/step - loss: 0.6226 - acc: 0.6595 - val_loss: 0.6075 - val_acc: 0.7000\n",
      "Epoch 23/200\n",
      "420/420 [==============================] - 3s 6ms/step - loss: 0.6242 - acc: 0.6357 - val_loss: 0.6003 - val_acc: 0.6714\n",
      "Epoch 24/200\n",
      "420/420 [==============================] - 3s 6ms/step - loss: 0.6177 - acc: 0.6405 - val_loss: 0.5994 - val_acc: 0.7000\n",
      "Epoch 25/200\n",
      "420/420 [==============================] - 2s 6ms/step - loss: 0.6176 - acc: 0.6548 - val_loss: 0.6027 - val_acc: 0.7190\n",
      "Epoch 26/200\n",
      "420/420 [==============================] - 2s 6ms/step - loss: 0.6138 - acc: 0.6833 - val_loss: 0.5974 - val_acc: 0.7143\n",
      "Epoch 27/200\n",
      "420/420 [==============================] - 2s 6ms/step - loss: 0.6178 - acc: 0.6690 - val_loss: 0.5947 - val_acc: 0.7190\n",
      "Epoch 28/200\n",
      "420/420 [==============================] - 2s 6ms/step - loss: 0.6139 - acc: 0.6643 - val_loss: 0.5911 - val_acc: 0.6857\n",
      "Epoch 29/200\n",
      "420/420 [==============================] - 3s 6ms/step - loss: 0.6123 - acc: 0.6500 - val_loss: 0.5880 - val_acc: 0.6952\n",
      "Epoch 30/200\n",
      "420/420 [==============================] - 3s 6ms/step - loss: 0.6119 - acc: 0.6690 - val_loss: 0.5861 - val_acc: 0.7048\n",
      "Epoch 31/200\n",
      "420/420 [==============================] - 3s 6ms/step - loss: 0.6170 - acc: 0.6619 - val_loss: 0.5894 - val_acc: 0.7143\n",
      "Epoch 32/200\n",
      "420/420 [==============================] - 2s 6ms/step - loss: 0.6164 - acc: 0.6405 - val_loss: 0.5844 - val_acc: 0.6857\n",
      "Epoch 33/200\n",
      "420/420 [==============================] - 3s 6ms/step - loss: 0.6101 - acc: 0.6548 - val_loss: 0.5875 - val_acc: 0.7000\n",
      "Epoch 34/200\n",
      "420/420 [==============================] - 2s 6ms/step - loss: 0.6106 - acc: 0.6690 - val_loss: 0.5998 - val_acc: 0.7143\n",
      "Epoch 35/200\n",
      "420/420 [==============================] - 2s 6ms/step - loss: 0.6120 - acc: 0.6571 - val_loss: 0.5792 - val_acc: 0.7048\n",
      "Epoch 36/200\n",
      "420/420 [==============================] - 2s 6ms/step - loss: 0.6109 - acc: 0.6714 - val_loss: 0.5764 - val_acc: 0.7190\n",
      "Epoch 37/200\n",
      "420/420 [==============================] - 3s 6ms/step - loss: 0.6022 - acc: 0.6833 - val_loss: 0.5753 - val_acc: 0.7238\n",
      "Epoch 38/200\n",
      "420/420 [==============================] - 2s 6ms/step - loss: 0.6018 - acc: 0.6690 - val_loss: 0.5779 - val_acc: 0.6905\n",
      "Epoch 39/200\n",
      "420/420 [==============================] - 3s 6ms/step - loss: 0.6091 - acc: 0.6619 - val_loss: 0.5794 - val_acc: 0.7190\n",
      "Epoch 40/200\n",
      "420/420 [==============================] - 3s 6ms/step - loss: 0.6027 - acc: 0.6690 - val_loss: 0.5769 - val_acc: 0.7143\n",
      "Epoch 41/200\n",
      "420/420 [==============================] - 3s 6ms/step - loss: 0.6026 - acc: 0.6690 - val_loss: 0.5769 - val_acc: 0.7095\n",
      "Epoch 42/200\n",
      "420/420 [==============================] - 2s 6ms/step - loss: 0.5984 - acc: 0.6619 - val_loss: 0.5776 - val_acc: 0.7000\n",
      "Epoch 43/200\n",
      "420/420 [==============================] - 2s 6ms/step - loss: 0.6032 - acc: 0.6667 - val_loss: 0.5813 - val_acc: 0.7143\n",
      "Epoch 44/200\n",
      "420/420 [==============================] - 2s 6ms/step - loss: 0.6017 - acc: 0.6786 - val_loss: 0.5755 - val_acc: 0.7048\n",
      "Epoch 45/200\n",
      "420/420 [==============================] - 2s 6ms/step - loss: 0.5996 - acc: 0.6833 - val_loss: 0.5814 - val_acc: 0.7190\n",
      "Epoch 46/200\n",
      "420/420 [==============================] - 2s 6ms/step - loss: 0.5975 - acc: 0.7024 - val_loss: 0.5741 - val_acc: 0.7095\n",
      "Epoch 47/200\n",
      "420/420 [==============================] - 2s 6ms/step - loss: 0.5992 - acc: 0.6786 - val_loss: 0.5661 - val_acc: 0.7095\n",
      "Epoch 48/200\n",
      "420/420 [==============================] - 2s 6ms/step - loss: 0.5980 - acc: 0.6929 - val_loss: 0.5674 - val_acc: 0.7143\n",
      "Epoch 49/200\n",
      "420/420 [==============================] - 2s 6ms/step - loss: 0.5978 - acc: 0.6929 - val_loss: 0.5785 - val_acc: 0.7000\n",
      "Epoch 50/200\n",
      "420/420 [==============================] - 2s 6ms/step - loss: 0.6051 - acc: 0.6738 - val_loss: 0.5864 - val_acc: 0.7143\n",
      "Epoch 51/200\n",
      "420/420 [==============================] - 2s 6ms/step - loss: 0.6126 - acc: 0.6786 - val_loss: 0.5867 - val_acc: 0.7048\n",
      "Epoch 52/200\n",
      "420/420 [==============================] - 2s 6ms/step - loss: 0.6000 - acc: 0.6714 - val_loss: 0.5778 - val_acc: 0.6857\n",
      "Epoch 53/200\n",
      "420/420 [==============================] - 2s 6ms/step - loss: 0.6078 - acc: 0.6619 - val_loss: 0.5786 - val_acc: 0.7524\n",
      "Epoch 54/200\n",
      "420/420 [==============================] - 2s 6ms/step - loss: 0.6053 - acc: 0.7119 - val_loss: 0.5756 - val_acc: 0.7524\n",
      "Epoch 55/200\n",
      "420/420 [==============================] - 2s 6ms/step - loss: 0.6012 - acc: 0.6429 - val_loss: 0.5700 - val_acc: 0.6810\n",
      "Epoch 56/200\n",
      "420/420 [==============================] - 2s 6ms/step - loss: 0.6023 - acc: 0.6476 - val_loss: 0.5780 - val_acc: 0.7095\n",
      "Epoch 57/200\n",
      "420/420 [==============================] - 2s 6ms/step - loss: 0.6015 - acc: 0.6810 - val_loss: 0.5666 - val_acc: 0.7429\n",
      "Epoch 58/200\n",
      "420/420 [==============================] - 2s 6ms/step - loss: 0.6001 - acc: 0.6857 - val_loss: 0.5630 - val_acc: 0.7429\n",
      "Epoch 59/200\n",
      "420/420 [==============================] - 2s 6ms/step - loss: 0.5920 - acc: 0.7000 - val_loss: 0.5715 - val_acc: 0.7381\n",
      "Epoch 60/200\n",
      "420/420 [==============================] - 2s 6ms/step - loss: 0.5950 - acc: 0.7095 - val_loss: 0.5642 - val_acc: 0.7810\n",
      "Epoch 61/200\n",
      "420/420 [==============================] - 2s 6ms/step - loss: 0.5968 - acc: 0.6976 - val_loss: 0.5620 - val_acc: 0.7381\n"
     ]
    },
    {
     "name": "stdout",
     "output_type": "stream",
     "text": [
      "Epoch 62/200\n",
      "420/420 [==============================] - 2s 6ms/step - loss: 0.5885 - acc: 0.6929 - val_loss: 0.5657 - val_acc: 0.7381\n",
      "Epoch 63/200\n",
      "420/420 [==============================] - 2s 6ms/step - loss: 0.5942 - acc: 0.6929 - val_loss: 0.5686 - val_acc: 0.7619\n",
      "Epoch 64/200\n",
      "420/420 [==============================] - 2s 6ms/step - loss: 0.5890 - acc: 0.7048 - val_loss: 0.5611 - val_acc: 0.7524\n",
      "Epoch 65/200\n",
      "420/420 [==============================] - 2s 6ms/step - loss: 0.5885 - acc: 0.6929 - val_loss: 0.5708 - val_acc: 0.7190\n",
      "Epoch 66/200\n",
      "420/420 [==============================] - 2s 6ms/step - loss: 0.5942 - acc: 0.6429 - val_loss: 0.5650 - val_acc: 0.7143\n",
      "Epoch 67/200\n",
      "420/420 [==============================] - 3s 6ms/step - loss: 0.5855 - acc: 0.7024 - val_loss: 0.5664 - val_acc: 0.7190\n",
      "Epoch 68/200\n",
      "420/420 [==============================] - 2s 6ms/step - loss: 0.5882 - acc: 0.6881 - val_loss: 0.5620 - val_acc: 0.7524\n",
      "Epoch 69/200\n",
      "420/420 [==============================] - 2s 6ms/step - loss: 0.5882 - acc: 0.6786 - val_loss: 0.5640 - val_acc: 0.7238\n",
      "Epoch 70/200\n",
      "420/420 [==============================] - 2s 6ms/step - loss: 0.5866 - acc: 0.6857 - val_loss: 0.5684 - val_acc: 0.7381\n",
      "Epoch 71/200\n",
      "420/420 [==============================] - 2s 6ms/step - loss: 0.5893 - acc: 0.6738 - val_loss: 0.5679 - val_acc: 0.7095\n",
      "Epoch 72/200\n",
      "420/420 [==============================] - 2s 6ms/step - loss: 0.5889 - acc: 0.6714 - val_loss: 0.5591 - val_acc: 0.7048\n",
      "Epoch 73/200\n",
      "420/420 [==============================] - 3s 6ms/step - loss: 0.5855 - acc: 0.6714 - val_loss: 0.5647 - val_acc: 0.7571\n",
      "Epoch 74/200\n",
      "420/420 [==============================] - 3s 7ms/step - loss: 0.5875 - acc: 0.6952 - val_loss: 0.5560 - val_acc: 0.7476\n",
      "Epoch 75/200\n",
      "420/420 [==============================] - 2s 6ms/step - loss: 0.5824 - acc: 0.7167 - val_loss: 0.5594 - val_acc: 0.7476\n",
      "Epoch 76/200\n",
      "420/420 [==============================] - 2s 6ms/step - loss: 0.5800 - acc: 0.7190 - val_loss: 0.5552 - val_acc: 0.7571\n",
      "Epoch 77/200\n",
      "420/420 [==============================] - 2s 6ms/step - loss: 0.5803 - acc: 0.7048 - val_loss: 0.5510 - val_acc: 0.7619\n",
      "Epoch 78/200\n",
      "420/420 [==============================] - 2s 6ms/step - loss: 0.5783 - acc: 0.7119 - val_loss: 0.5577 - val_acc: 0.7762\n",
      "Epoch 79/200\n",
      "420/420 [==============================] - 2s 6ms/step - loss: 0.5796 - acc: 0.7095 - val_loss: 0.5552 - val_acc: 0.7429\n",
      "Epoch 80/200\n",
      "420/420 [==============================] - 2s 6ms/step - loss: 0.5818 - acc: 0.7048 - val_loss: 0.5635 - val_acc: 0.7619\n",
      "Epoch 81/200\n",
      "420/420 [==============================] - 3s 6ms/step - loss: 0.5770 - acc: 0.7000 - val_loss: 0.5526 - val_acc: 0.7524\n",
      "Epoch 82/200\n",
      "420/420 [==============================] - 3s 6ms/step - loss: 0.5843 - acc: 0.7095 - val_loss: 0.5558 - val_acc: 0.7429\n",
      "Epoch 83/200\n",
      "420/420 [==============================] - 2s 6ms/step - loss: 0.5830 - acc: 0.7000 - val_loss: 0.5519 - val_acc: 0.7476\n",
      "Epoch 84/200\n",
      "420/420 [==============================] - 2s 6ms/step - loss: 0.5840 - acc: 0.6881 - val_loss: 0.5548 - val_acc: 0.7476\n",
      "Epoch 85/200\n",
      "420/420 [==============================] - 2s 6ms/step - loss: 0.5806 - acc: 0.7000 - val_loss: 0.5502 - val_acc: 0.7381\n",
      "Epoch 86/200\n",
      "420/420 [==============================] - 2s 6ms/step - loss: 0.5805 - acc: 0.6952 - val_loss: 0.5543 - val_acc: 0.7476\n",
      "Epoch 87/200\n",
      "420/420 [==============================] - 2s 6ms/step - loss: 0.5815 - acc: 0.7000 - val_loss: 0.5615 - val_acc: 0.7286\n",
      "Epoch 88/200\n",
      "420/420 [==============================] - 2s 6ms/step - loss: 0.5840 - acc: 0.6881 - val_loss: 0.5614 - val_acc: 0.7190\n",
      "Epoch 89/200\n",
      "420/420 [==============================] - 2s 6ms/step - loss: 0.5737 - acc: 0.7167 - val_loss: 0.5540 - val_acc: 0.7333\n",
      "Epoch 90/200\n",
      "420/420 [==============================] - 2s 6ms/step - loss: 0.5780 - acc: 0.6905 - val_loss: 0.5481 - val_acc: 0.7476\n",
      "Epoch 91/200\n",
      "420/420 [==============================] - 2s 6ms/step - loss: 0.5765 - acc: 0.7095 - val_loss: 0.5462 - val_acc: 0.7429\n",
      "Epoch 92/200\n",
      "420/420 [==============================] - 2s 6ms/step - loss: 0.5713 - acc: 0.7119 - val_loss: 0.5487 - val_acc: 0.7381\n",
      "Epoch 93/200\n",
      "420/420 [==============================] - 2s 6ms/step - loss: 0.5739 - acc: 0.7024 - val_loss: 0.5507 - val_acc: 0.7619\n",
      "Epoch 94/200\n",
      "420/420 [==============================] - 2s 6ms/step - loss: 0.5756 - acc: 0.7024 - val_loss: 0.5499 - val_acc: 0.7333\n",
      "Epoch 95/200\n",
      "420/420 [==============================] - 2s 6ms/step - loss: 0.5732 - acc: 0.6952 - val_loss: 0.5508 - val_acc: 0.7095\n",
      "Epoch 96/200\n",
      "420/420 [==============================] - 2s 6ms/step - loss: 0.5737 - acc: 0.6929 - val_loss: 0.5523 - val_acc: 0.7190\n",
      "Epoch 97/200\n",
      "420/420 [==============================] - 2s 6ms/step - loss: 0.5675 - acc: 0.7071 - val_loss: 0.5444 - val_acc: 0.7190\n",
      "Epoch 98/200\n",
      "420/420 [==============================] - 2s 6ms/step - loss: 0.5669 - acc: 0.6976 - val_loss: 0.5399 - val_acc: 0.7381\n",
      "Epoch 99/200\n",
      "420/420 [==============================] - 2s 6ms/step - loss: 0.5675 - acc: 0.7000 - val_loss: 0.5363 - val_acc: 0.7190\n",
      "Epoch 100/200\n",
      "420/420 [==============================] - 2s 6ms/step - loss: 0.5658 - acc: 0.7143 - val_loss: 0.5390 - val_acc: 0.7429\n",
      "Epoch 101/200\n",
      "420/420 [==============================] - 2s 6ms/step - loss: 0.5617 - acc: 0.7167 - val_loss: 0.5391 - val_acc: 0.7333\n",
      "Epoch 102/200\n",
      "420/420 [==============================] - 2s 6ms/step - loss: 0.5624 - acc: 0.6976 - val_loss: 0.5320 - val_acc: 0.7476\n",
      "Epoch 103/200\n",
      "420/420 [==============================] - 3s 7ms/step - loss: 0.5562 - acc: 0.7143 - val_loss: 0.5344 - val_acc: 0.7476\n",
      "Epoch 104/200\n",
      "420/420 [==============================] - 3s 7ms/step - loss: 0.5665 - acc: 0.6976 - val_loss: 0.5316 - val_acc: 0.7476\n",
      "Epoch 105/200\n",
      "420/420 [==============================] - 2s 6ms/step - loss: 0.5635 - acc: 0.7048 - val_loss: 0.5295 - val_acc: 0.7571\n",
      "Epoch 106/200\n",
      "420/420 [==============================] - 2s 6ms/step - loss: 0.5654 - acc: 0.7143 - val_loss: 0.5373 - val_acc: 0.7476\n",
      "Epoch 107/200\n",
      "420/420 [==============================] - 2s 6ms/step - loss: 0.5598 - acc: 0.7095 - val_loss: 0.5356 - val_acc: 0.7190\n",
      "Epoch 108/200\n",
      "420/420 [==============================] - 2s 6ms/step - loss: 0.5675 - acc: 0.7071 - val_loss: 0.5404 - val_acc: 0.7143\n",
      "Epoch 109/200\n",
      "420/420 [==============================] - 2s 6ms/step - loss: 0.5604 - acc: 0.7167 - val_loss: 0.5308 - val_acc: 0.7429\n",
      "Epoch 110/200\n",
      "420/420 [==============================] - 2s 6ms/step - loss: 0.5582 - acc: 0.7238 - val_loss: 0.5409 - val_acc: 0.7381\n",
      "Epoch 111/200\n",
      "420/420 [==============================] - 2s 6ms/step - loss: 0.5616 - acc: 0.7167 - val_loss: 0.5271 - val_acc: 0.7476\n",
      "Epoch 112/200\n",
      "420/420 [==============================] - 2s 6ms/step - loss: 0.5726 - acc: 0.6881 - val_loss: 0.5422 - val_acc: 0.7190\n",
      "Epoch 113/200\n",
      "420/420 [==============================] - 3s 6ms/step - loss: 0.5653 - acc: 0.7262 - val_loss: 0.5495 - val_acc: 0.7238\n",
      "Epoch 114/200\n",
      "420/420 [==============================] - 3s 6ms/step - loss: 0.5685 - acc: 0.7024 - val_loss: 0.5418 - val_acc: 0.7333\n",
      "Epoch 115/200\n",
      "420/420 [==============================] - 3s 6ms/step - loss: 0.5648 - acc: 0.7143 - val_loss: 0.5401 - val_acc: 0.7524\n",
      "Epoch 116/200\n",
      "420/420 [==============================] - 3s 6ms/step - loss: 0.5697 - acc: 0.6905 - val_loss: 0.5328 - val_acc: 0.7238\n",
      "Epoch 117/200\n",
      "420/420 [==============================] - 3s 6ms/step - loss: 0.5692 - acc: 0.7000 - val_loss: 0.5452 - val_acc: 0.7095\n",
      "Epoch 118/200\n",
      "420/420 [==============================] - 3s 6ms/step - loss: 0.5643 - acc: 0.7000 - val_loss: 0.5629 - val_acc: 0.6857\n",
      "Epoch 119/200\n",
      "420/420 [==============================] - 2s 6ms/step - loss: 0.5780 - acc: 0.6976 - val_loss: 0.5489 - val_acc: 0.7238\n",
      "Epoch 120/200\n",
      "420/420 [==============================] - 3s 6ms/step - loss: 0.5714 - acc: 0.6976 - val_loss: 0.5415 - val_acc: 0.7381\n",
      "Epoch 121/200\n",
      "420/420 [==============================] - 3s 6ms/step - loss: 0.5760 - acc: 0.6881 - val_loss: 0.5391 - val_acc: 0.7476\n",
      "Epoch 122/200\n",
      "420/420 [==============================] - 3s 6ms/step - loss: 0.5679 - acc: 0.7167 - val_loss: 0.5392 - val_acc: 0.7571\n"
     ]
    },
    {
     "name": "stdout",
     "output_type": "stream",
     "text": [
      "Epoch 123/200\n",
      "420/420 [==============================] - 3s 6ms/step - loss: 0.5658 - acc: 0.7143 - val_loss: 0.5511 - val_acc: 0.7381\n",
      "Epoch 124/200\n",
      "420/420 [==============================] - 3s 6ms/step - loss: 0.5637 - acc: 0.7048 - val_loss: 0.5375 - val_acc: 0.7476\n",
      "Epoch 125/200\n",
      "420/420 [==============================] - 3s 6ms/step - loss: 0.5592 - acc: 0.7238 - val_loss: 0.5354 - val_acc: 0.7429\n",
      "Epoch 126/200\n",
      "420/420 [==============================] - 2s 6ms/step - loss: 0.5617 - acc: 0.7214 - val_loss: 0.5349 - val_acc: 0.7476\n",
      "Epoch 127/200\n",
      "420/420 [==============================] - 3s 6ms/step - loss: 0.5627 - acc: 0.7214 - val_loss: 0.5400 - val_acc: 0.7524\n",
      "Epoch 128/200\n",
      "420/420 [==============================] - 3s 7ms/step - loss: 0.5640 - acc: 0.7190 - val_loss: 0.5297 - val_acc: 0.7429\n",
      "Epoch 129/200\n",
      "420/420 [==============================] - 3s 6ms/step - loss: 0.5620 - acc: 0.7071 - val_loss: 0.5344 - val_acc: 0.7381\n",
      "Epoch 130/200\n",
      "420/420 [==============================] - 3s 6ms/step - loss: 0.5593 - acc: 0.7048 - val_loss: 0.5282 - val_acc: 0.7381\n",
      "Epoch 131/200\n",
      "420/420 [==============================] - 3s 6ms/step - loss: 0.5570 - acc: 0.7238 - val_loss: 0.5285 - val_acc: 0.7381\n",
      "Epoch 132/200\n",
      "420/420 [==============================] - 2s 6ms/step - loss: 0.5560 - acc: 0.7190 - val_loss: 0.5274 - val_acc: 0.7619\n",
      "Epoch 133/200\n",
      "420/420 [==============================] - 3s 7ms/step - loss: 0.5553 - acc: 0.7357 - val_loss: 0.5280 - val_acc: 0.7524\n",
      "Epoch 134/200\n",
      "420/420 [==============================] - 3s 6ms/step - loss: 0.5522 - acc: 0.7238 - val_loss: 0.5200 - val_acc: 0.7429\n",
      "Epoch 135/200\n",
      "420/420 [==============================] - 3s 6ms/step - loss: 0.5535 - acc: 0.7048 - val_loss: 0.5267 - val_acc: 0.7333\n",
      "Epoch 136/200\n",
      "420/420 [==============================] - 3s 7ms/step - loss: 0.5571 - acc: 0.7286 - val_loss: 0.5271 - val_acc: 0.7429\n",
      "Epoch 137/200\n",
      "420/420 [==============================] - 2s 6ms/step - loss: 0.5626 - acc: 0.7048 - val_loss: 0.5263 - val_acc: 0.7238\n",
      "Epoch 138/200\n",
      "420/420 [==============================] - 3s 6ms/step - loss: 0.5666 - acc: 0.6952 - val_loss: 0.5342 - val_acc: 0.7333\n",
      "Epoch 139/200\n",
      "420/420 [==============================] - 3s 7ms/step - loss: 0.5613 - acc: 0.7238 - val_loss: 0.5316 - val_acc: 0.7476\n",
      "Epoch 140/200\n",
      "420/420 [==============================] - 3s 6ms/step - loss: 0.5683 - acc: 0.7119 - val_loss: 0.5337 - val_acc: 0.7381\n",
      "Epoch 141/200\n",
      "420/420 [==============================] - 2s 6ms/step - loss: 0.5613 - acc: 0.6952 - val_loss: 0.5390 - val_acc: 0.7286\n",
      "Epoch 142/200\n",
      "420/420 [==============================] - 2s 6ms/step - loss: 0.5646 - acc: 0.7214 - val_loss: 0.5282 - val_acc: 0.7476\n",
      "Epoch 143/200\n",
      "420/420 [==============================] - 2s 6ms/step - loss: 0.5592 - acc: 0.7071 - val_loss: 0.5434 - val_acc: 0.7190\n",
      "Epoch 144/200\n",
      "420/420 [==============================] - 2s 6ms/step - loss: 0.5608 - acc: 0.7048 - val_loss: 0.5240 - val_acc: 0.7524\n",
      "Epoch 145/200\n",
      "420/420 [==============================] - 2s 6ms/step - loss: 0.5601 - acc: 0.7000 - val_loss: 0.5315 - val_acc: 0.7190\n",
      "Epoch 146/200\n",
      "420/420 [==============================] - 3s 6ms/step - loss: 0.5538 - acc: 0.7143 - val_loss: 0.5252 - val_acc: 0.7524\n",
      "Epoch 147/200\n",
      "420/420 [==============================] - 3s 6ms/step - loss: 0.5546 - acc: 0.7167 - val_loss: 0.5249 - val_acc: 0.7381\n",
      "Epoch 148/200\n",
      "420/420 [==============================] - 3s 6ms/step - loss: 0.5509 - acc: 0.7214 - val_loss: 0.5190 - val_acc: 0.7429\n",
      "Epoch 149/200\n",
      "420/420 [==============================] - 3s 6ms/step - loss: 0.5463 - acc: 0.7167 - val_loss: 0.5134 - val_acc: 0.7333\n",
      "Epoch 150/200\n",
      "420/420 [==============================] - 3s 6ms/step - loss: 0.5600 - acc: 0.7000 - val_loss: 0.5293 - val_acc: 0.7238\n",
      "Epoch 151/200\n",
      "420/420 [==============================] - 3s 6ms/step - loss: 0.5540 - acc: 0.7095 - val_loss: 0.5185 - val_acc: 0.7381\n",
      "Epoch 152/200\n",
      "420/420 [==============================] - 2s 6ms/step - loss: 0.5501 - acc: 0.7143 - val_loss: 0.5211 - val_acc: 0.7476\n",
      "Epoch 153/200\n",
      "420/420 [==============================] - 2s 6ms/step - loss: 0.5532 - acc: 0.7286 - val_loss: 0.5267 - val_acc: 0.7333\n",
      "Epoch 154/200\n",
      "420/420 [==============================] - 2s 6ms/step - loss: 0.5588 - acc: 0.7048 - val_loss: 0.5262 - val_acc: 0.7286\n",
      "Epoch 155/200\n",
      "420/420 [==============================] - 3s 6ms/step - loss: 0.5543 - acc: 0.7214 - val_loss: 0.5224 - val_acc: 0.7524\n",
      "Epoch 156/200\n",
      "420/420 [==============================] - 2s 6ms/step - loss: 0.5531 - acc: 0.7119 - val_loss: 0.5243 - val_acc: 0.7381\n",
      "Epoch 157/200\n",
      "420/420 [==============================] - 3s 6ms/step - loss: 0.5662 - acc: 0.7000 - val_loss: 0.5202 - val_acc: 0.7524\n",
      "Epoch 158/200\n",
      "420/420 [==============================] - 3s 6ms/step - loss: 0.5616 - acc: 0.7024 - val_loss: 0.5366 - val_acc: 0.7381\n",
      "Epoch 159/200\n",
      "420/420 [==============================] - 3s 7ms/step - loss: 0.5685 - acc: 0.6833 - val_loss: 0.5328 - val_acc: 0.7190\n",
      "Epoch 160/200\n",
      "420/420 [==============================] - 3s 6ms/step - loss: 0.5559 - acc: 0.6976 - val_loss: 0.5338 - val_acc: 0.7190\n",
      "Epoch 161/200\n",
      "420/420 [==============================] - 2s 6ms/step - loss: 0.5560 - acc: 0.7119 - val_loss: 0.5350 - val_acc: 0.7190\n",
      "Epoch 162/200\n",
      "420/420 [==============================] - 3s 6ms/step - loss: 0.5532 - acc: 0.7024 - val_loss: 0.5221 - val_acc: 0.7476\n",
      "Epoch 163/200\n",
      "420/420 [==============================] - 2s 6ms/step - loss: 0.5485 - acc: 0.7167 - val_loss: 0.5278 - val_acc: 0.7762\n",
      "Epoch 164/200\n",
      "420/420 [==============================] - 3s 6ms/step - loss: 0.5561 - acc: 0.7119 - val_loss: 0.5230 - val_acc: 0.7381\n",
      "Epoch 165/200\n",
      "420/420 [==============================] - 2s 6ms/step - loss: 0.5605 - acc: 0.7167 - val_loss: 0.5228 - val_acc: 0.7476\n",
      "Epoch 166/200\n",
      "420/420 [==============================] - 2s 6ms/step - loss: 0.5561 - acc: 0.7167 - val_loss: 0.5125 - val_acc: 0.7476\n",
      "Epoch 167/200\n",
      "420/420 [==============================] - 2s 6ms/step - loss: 0.5563 - acc: 0.7071 - val_loss: 0.5323 - val_acc: 0.7429\n",
      "Epoch 168/200\n",
      "420/420 [==============================] - 2s 6ms/step - loss: 0.5587 - acc: 0.7071 - val_loss: 0.5324 - val_acc: 0.7286\n",
      "Epoch 169/200\n",
      "420/420 [==============================] - 2s 6ms/step - loss: 0.5474 - acc: 0.7143 - val_loss: 0.5208 - val_acc: 0.7381\n",
      "Epoch 170/200\n",
      "420/420 [==============================] - 2s 6ms/step - loss: 0.5491 - acc: 0.7167 - val_loss: 0.5155 - val_acc: 0.7429\n",
      "Epoch 171/200\n",
      "420/420 [==============================] - 3s 6ms/step - loss: 0.5456 - acc: 0.7119 - val_loss: 0.5153 - val_acc: 0.7524\n",
      "Epoch 172/200\n",
      "420/420 [==============================] - 3s 6ms/step - loss: 0.5536 - acc: 0.7190 - val_loss: 0.5181 - val_acc: 0.7333\n",
      "Epoch 173/200\n",
      "420/420 [==============================] - 3s 7ms/step - loss: 0.5494 - acc: 0.7214 - val_loss: 0.5248 - val_acc: 0.7476\n",
      "Epoch 174/200\n",
      "420/420 [==============================] - 3s 7ms/step - loss: 0.5449 - acc: 0.7071 - val_loss: 0.5220 - val_acc: 0.7429\n",
      "Epoch 175/200\n",
      "420/420 [==============================] - 3s 7ms/step - loss: 0.5439 - acc: 0.7262 - val_loss: 0.5248 - val_acc: 0.7333\n",
      "Epoch 176/200\n",
      "420/420 [==============================] - 2s 6ms/step - loss: 0.5482 - acc: 0.7310 - val_loss: 0.5203 - val_acc: 0.7238\n",
      "Epoch 177/200\n",
      "420/420 [==============================] - 2s 6ms/step - loss: 0.5409 - acc: 0.7048 - val_loss: 0.5182 - val_acc: 0.7429\n",
      "Epoch 178/200\n",
      "420/420 [==============================] - 3s 7ms/step - loss: 0.5389 - acc: 0.7429 - val_loss: 0.5185 - val_acc: 0.7381\n",
      "Epoch 179/200\n",
      "420/420 [==============================] - 3s 6ms/step - loss: 0.5367 - acc: 0.7214 - val_loss: 0.5134 - val_acc: 0.7429\n",
      "Epoch 180/200\n",
      "420/420 [==============================] - 3s 6ms/step - loss: 0.5326 - acc: 0.7333 - val_loss: 0.5091 - val_acc: 0.7619\n",
      "Epoch 181/200\n",
      "420/420 [==============================] - 3s 7ms/step - loss: 0.5379 - acc: 0.7405 - val_loss: 0.5167 - val_acc: 0.7333\n",
      "Epoch 182/200\n",
      "420/420 [==============================] - 4s 9ms/step - loss: 0.5435 - acc: 0.7167 - val_loss: 0.5084 - val_acc: 0.7524\n",
      "Epoch 183/200\n",
      "420/420 [==============================] - 3s 6ms/step - loss: 0.5348 - acc: 0.7381 - val_loss: 0.5218 - val_acc: 0.7190\n",
      "Epoch 184/200\n",
      "420/420 [==============================] - 3s 6ms/step - loss: 0.5386 - acc: 0.7048 - val_loss: 0.5065 - val_acc: 0.7429\n",
      "Epoch 185/200\n",
      "420/420 [==============================] - 3s 6ms/step - loss: 0.5443 - acc: 0.7143 - val_loss: 0.5152 - val_acc: 0.7381\n",
      "Epoch 186/200\n",
      "420/420 [==============================] - 2s 6ms/step - loss: 0.5330 - acc: 0.7238 - val_loss: 0.5071 - val_acc: 0.7524\n",
      "Epoch 187/200\n",
      "420/420 [==============================] - 2s 6ms/step - loss: 0.5317 - acc: 0.7381 - val_loss: 0.5137 - val_acc: 0.7333\n",
      "Epoch 188/200\n",
      "420/420 [==============================] - 3s 6ms/step - loss: 0.5335 - acc: 0.7262 - val_loss: 0.5000 - val_acc: 0.7762\n",
      "Epoch 189/200\n",
      "420/420 [==============================] - 3s 6ms/step - loss: 0.5343 - acc: 0.7357 - val_loss: 0.4971 - val_acc: 0.7571\n",
      "Epoch 190/200\n",
      "420/420 [==============================] - 2s 6ms/step - loss: 0.5248 - acc: 0.7286 - val_loss: 0.5076 - val_acc: 0.7429\n",
      "Epoch 191/200\n",
      "420/420 [==============================] - 2s 6ms/step - loss: 0.5297 - acc: 0.7238 - val_loss: 0.5281 - val_acc: 0.7333\n",
      "Epoch 192/200\n",
      "420/420 [==============================] - 2s 6ms/step - loss: 0.5399 - acc: 0.7452 - val_loss: 0.5057 - val_acc: 0.7619\n",
      "Epoch 193/200\n",
      "420/420 [==============================] - 3s 6ms/step - loss: 0.5379 - acc: 0.7214 - val_loss: 0.5102 - val_acc: 0.7524\n",
      "Epoch 194/200\n",
      "420/420 [==============================] - 3s 6ms/step - loss: 0.5341 - acc: 0.7310 - val_loss: 0.5095 - val_acc: 0.7619\n",
      "Epoch 195/200\n",
      "420/420 [==============================] - 3s 6ms/step - loss: 0.5288 - acc: 0.7381 - val_loss: 0.5082 - val_acc: 0.7476\n",
      "Epoch 196/200\n",
      "420/420 [==============================] - 3s 6ms/step - loss: 0.5240 - acc: 0.7405 - val_loss: 0.4998 - val_acc: 0.7619\n",
      "Epoch 197/200\n",
      "420/420 [==============================] - 3s 7ms/step - loss: 0.5278 - acc: 0.7405 - val_loss: 0.5058 - val_acc: 0.7476\n",
      "Epoch 198/200\n",
      "420/420 [==============================] - 3s 7ms/step - loss: 0.5249 - acc: 0.7452 - val_loss: 0.4977 - val_acc: 0.7524\n",
      "Epoch 199/200\n",
      "420/420 [==============================] - 3s 7ms/step - loss: 0.5287 - acc: 0.7286 - val_loss: 0.5117 - val_acc: 0.7429\n",
      "Epoch 200/200\n",
      "420/420 [==============================] - 3s 8ms/step - loss: 0.5366 - acc: 0.7333 - val_loss: 0.4906 - val_acc: 0.7667\n"
     ]
    }
   ],
   "source": [
    "adam = Adam(lr=0.001)\n",
    "chk = ModelCheckpoint(f'../models/best_model_{version}.pkl', monitor='acc', save_best_only=True, mode='max', verbose=0) #monitor='val_acc'\n",
    "model.compile(loss='binary_crossentropy', optimizer=adam, metrics=['accuracy'])\n",
    "history_training = model.fit(X_train, y_train, epochs=200, batch_size=64, callbacks=[chk], validation_data=(X_dev, y_dev))"
   ]
  },
  {
   "cell_type": "markdown",
   "metadata": {},
   "source": [
    "## Training history plot"
   ]
  },
  {
   "cell_type": "code",
   "execution_count": 66,
   "metadata": {},
   "outputs": [
    {
     "name": "stdout",
     "output_type": "stream",
     "text": [
      "Best accuracy on the dev set: 78.1%\n",
      "Best accuracy on the training set: 74.5%\n"
     ]
    },
    {
     "data": {
      "image/png": "[encoded data removed]",
      "text/plain": [
       "<Figure size 864x288 with 2 Axes>"
      ]
     },
     "metadata": {
      "needs_background": "light"
     },
     "output_type": "display_data"
    }
   ],
   "source": [
    "fig, (ax1, ax2) = plt.subplots(1, 2, figsize=(12,4))\n",
    "\n",
    "ax1.plot(history_training.history['acc'], label='train')\n",
    "ax1.plot(history_training.history['val_acc'], label='dev')\n",
    "\n",
    "ax2.plot(history_training.history['loss'], label='train')\n",
    "ax2.plot(history_training.history['val_loss'], label='dev')\n",
    "\n",
    "ax1.set_xlabel('Epoch')\n",
    "ax2.set_xlabel('Epoch')\n",
    "ax1.legend()\n",
    "ax2.legend()\n",
    "\n",
    "ax1.set_ylabel('Accuracy')\n",
    "ax2.set_ylabel('Loss')\n",
    "\n",
    "best_acc = max(history_training.history['val_acc'])\n",
    "print(f'Best accuracy on the dev set: {best_acc*100:.1f}%')\n",
    "best_acc_training = max(history_training.history['acc'])\n",
    "print(f'Best accuracy on the training set: {best_acc_training*100:.1f}%')\n",
    "#fig.savefig(f'../plots/model_{version}.png', bbox_inches='tight')"
   ]
  },
  {
   "cell_type": "markdown",
   "metadata": {},
   "source": [
    "## Evaluation of the model"
   ]
  },
  {
   "cell_type": "code",
   "execution_count": 3,
   "metadata": {},
   "outputs": [],
   "source": [
    "model = load_model(f'../models/best_model_{version}.pkl') # load best model"
   ]
  },
  {
   "cell_type": "code",
   "execution_count": 12,
   "metadata": {},
   "outputs": [
    {
     "name": "stdout",
     "output_type": "stream",
     "text": [
      "Accuracy on the dev set: 76.2%\n",
      "Accuracy on the training set: 74.5%\n"
     ]
    }
   ],
   "source": [
    "dev_preds = model.predict_classes(X_dev)\n",
    "acc_dev = accuracy_score(y_dev, dev_preds)\n",
    "print(f'Accuracy on the dev set: {acc_dev*100:.1f}%')\n",
    "\n",
    "training_preds = model.predict_classes(X_train)\n",
    "acc_training = accuracy_score(y_train, training_preds)\n",
    "print(f'Accuracy on the training set: {acc_training*100:.1f}%')"
   ]
  },
  {
   "cell_type": "code",
   "execution_count": 13,
   "metadata": {},
   "outputs": [
    {
     "data": {
      "image/png": "[encoded data removed]",
      "text/plain": [
       "<Figure size 216x216 with 2 Axes>"
      ]
     },
     "metadata": {
      "needs_background": "light"
     },
     "output_type": "display_data"
    }
   ],
   "source": [
    "import itertools\n",
    "from sklearn.metrics import confusion_matrix\n",
    "\n",
    "cm = confusion_matrix(y_dev, dev_preds)\n",
    "\n",
    "classes=['Right', 'Left']\n",
    "fig, ax = plt.subplots(1, figsize=(3,3))\n",
    "tick_marks = np.arange(len(classes))\n",
    "plt.xticks(tick_marks, classes)\n",
    "plt.yticks(tick_marks, classes)\n",
    "\n",
    "cm_norm = cm / cm.sum(axis=1)*100\n",
    "im = ax.imshow(cm_norm, cmap='Blues', interpolation='none', clim=(0,100))\n",
    "ax.set_title(f'Confusion matrix ({y_dev.shape[0]} samples)', size=13)\n",
    "\n",
    "\n",
    "for i, j in itertools.product(range(cm.shape[0]), range(cm.shape[1])):\n",
    "    ax.text(j, i, f'{cm[i,j]}\\n{cm_norm[i, j]:.1f}%', size=13,\n",
    "             horizontalalignment=\"center\", verticalalignment=\"center\",\n",
    "             color=\"white\" if cm[i, j] > 60 else \"black\")\n",
    "ax.set_ylabel('True label', size=12)\n",
    "ax.set_xlabel('Predicted label', size=12)\n",
    "\n",
    "cb_ax = fig.add_axes([0.95, 0.12, 0.1, 0.76])\n",
    "cb = fig.colorbar(im, cax=cb_ax, orientation='vertical')\n",
    "cb.set_label('%')\n",
    "\n",
    "fig.savefig(f'../plots/conf_matrix_{version}.png', bbox_inches='tight')"
   ]
  },
  {
   "cell_type": "code",
   "execution_count": null,
   "metadata": {},
   "outputs": [],
   "source": []
  }
 ],
 "metadata": {
  "kernelspec": {
   "display_name": "Python 3",
   "language": "python",
   "name": "python3"
  },
  "language_info": {
   "codemirror_mode": {
    "name": "ipython",
    "version": 3
   },
   "file_extension": ".py",
   "mimetype": "text/x-python",
   "name": "python",
   "nbconvert_exporter": "python",
   "pygments_lexer": "ipython3",
   "version": "3.7.3"
  }
 },
 "nbformat": 4,
 "nbformat_minor": 2
}
