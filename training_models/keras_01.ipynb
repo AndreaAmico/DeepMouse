{
 "cells": [
  {
   "cell_type": "code",
   "execution_count": 2,
   "metadata": {},
   "outputs": [],
   "source": [
    "import tensorflow as tf\n",
    "import pandas as pd\n",
    "import numpy as np\n",
    "import matplotlib.pyplot as plt\n",
    "\n",
    "from keras.preprocessing import sequence\n",
    "from keras.models import Sequential\n",
    "from keras.layers import Dense\n",
    "from keras.layers import LSTM\n",
    "\n",
    "from keras.optimizers import Adam\n",
    "from keras.models import load_model\n",
    "from keras.callbacks import ModelCheckpoint\n",
    "\n",
    "from sklearn.model_selection import train_test_split\n",
    "from sklearn.metrics import accuracy_score\n",
    "\n",
    "%matplotlib inline\n",
    "version = '01'"
   ]
  },
  {
   "cell_type": "markdown",
   "metadata": {},
   "source": [
    "## Dataset loading"
   ]
  },
  {
   "cell_type": "code",
   "execution_count": 3,
   "metadata": {},
   "outputs": [],
   "source": [
    "right = pd.read_csv(\"../data/right.txt\", header=None).values.tolist()\n",
    "left = pd.read_csv(\"../data/left.txt\", header=None).values.tolist()"
   ]
  },
  {
   "cell_type": "markdown",
   "metadata": {},
   "source": [
    "## Pre-processing"
   ]
  },
  {
   "cell_type": "code",
   "execution_count": 4,
   "metadata": {},
   "outputs": [],
   "source": [
    "batch_size = 200\n",
    "batch_right = [right[i:i + batch_size] for i in range(0, len(right), batch_size)]\n",
    "batch_left = [left[i:i + batch_size] for i in range(0, len(left), batch_size)]\n",
    "\n",
    "X = np.array(batch_right + batch_left)\n",
    "y = np.array([0]*len(batch_right) + [1]*len(batch_left))"
   ]
  },
  {
   "cell_type": "code",
   "execution_count": 5,
   "metadata": {},
   "outputs": [
    {
     "name": "stdout",
     "output_type": "stream",
     "text": [
      "X shape: (600, 200, 2)\n",
      "y shape: (600,)\n"
     ]
    }
   ],
   "source": [
    "print(f'X shape: {X.shape}\\ny shape: {y.shape}')"
   ]
  },
  {
   "cell_type": "code",
   "execution_count": 6,
   "metadata": {},
   "outputs": [
    {
     "data": {
      "image/png": "[encoded data removed]",
      "text/plain": [
       "<Figure size 432x288 with 2 Axes>"
      ]
     },
     "metadata": {
      "needs_background": "light"
     },
     "output_type": "display_data"
    }
   ],
   "source": [
    "import matplotlib.cm as cm\n",
    "batch_index = 26\n",
    "\n",
    "colors = np.linspace(0, 2000, X.shape[1])\n",
    "\n",
    "sc = plt.scatter(X[batch_index,:,0], X[batch_index,:,1] , c=colors, cmap='viridis')\n",
    "clb = plt.colorbar()\n",
    "clb.set_label('Time (ms)')\n",
    "plt.xlabel('mouse x-coordinate (px)')\n",
    "plt.ylabel('mouse y-coordinate (px)')\n",
    "plt.xlim(500, 700)\n",
    "plt.ylim(300, 550)\n",
    "plt.xticks(np.arange(500, 701, 50));\n",
    "\n",
    "#plt.savefig('../plots/batch_example.png')"
   ]
  },
  {
   "cell_type": "markdown",
   "metadata": {},
   "source": [
    "## Training/dev/test set splitting"
   ]
  },
  {
   "cell_type": "code",
   "execution_count": 7,
   "metadata": {},
   "outputs": [],
   "source": [
    "X_train, X_test, y_train, y_test = train_test_split(X, y, test_size=0.30, random_state=1)\n",
    "X_dev, X_test, y_dev, y_test = train_test_split(X_test, y_test, test_size=0.5, random_state=1)"
   ]
  },
  {
   "cell_type": "markdown",
   "metadata": {},
   "source": [
    "## Model definition"
   ]
  },
  {
   "cell_type": "code",
   "execution_count": 8,
   "metadata": {},
   "outputs": [
    {
     "name": "stdout",
     "output_type": "stream",
     "text": [
      "WARNING:tensorflow:From C:\\Users\\aamico\\AppData\\Local\\Continuum\\anaconda3\\lib\\site-packages\\tensorflow\\python\\framework\\op_def_library.py:263: colocate_with (from tensorflow.python.framework.ops) is deprecated and will be removed in a future version.\n",
      "Instructions for updating:\n",
      "Colocations handled automatically by placer.\n",
      "_________________________________________________________________\n",
      "Layer (type)                 Output Shape              Param #   \n",
      "=================================================================\n",
      "lstm_1 (LSTM)                (None, 256)               265216    \n",
      "_________________________________________________________________\n",
      "dense_1 (Dense)              (None, 1)                 257       \n",
      "=================================================================\n",
      "Total params: 265,473\n",
      "Trainable params: 265,473\n",
      "Non-trainable params: 0\n",
      "_________________________________________________________________\n"
     ]
    }
   ],
   "source": [
    "model = Sequential()\n",
    "model.add(LSTM(256, input_shape=(batch_size, 2)))\n",
    "model.add(Dense(1, activation='sigmoid'))\n",
    "\n",
    "model.summary()"
   ]
  },
  {
   "cell_type": "markdown",
   "metadata": {},
   "source": [
    "## Model training"
   ]
  },
  {
   "cell_type": "code",
   "execution_count": 9,
   "metadata": {
    "scrolled": true
   },
   "outputs": [
    {
     "name": "stdout",
     "output_type": "stream",
     "text": [
      "WARNING:tensorflow:From C:\\Users\\aamico\\AppData\\Local\\Continuum\\anaconda3\\lib\\site-packages\\tensorflow\\python\\ops\\math_ops.py:3066: to_int32 (from tensorflow.python.ops.math_ops) is deprecated and will be removed in a future version.\n",
      "Instructions for updating:\n",
      "Use tf.cast instead.\n",
      "Train on 420 samples, validate on 90 samples\n",
      "Epoch 1/200\n",
      "420/420 [==============================] - 3s 7ms/step - loss: 0.7179 - acc: 0.5333 - val_loss: 0.7090 - val_acc: 0.5000\n",
      "Epoch 2/200\n",
      "420/420 [==============================] - 2s 4ms/step - loss: 0.6613 - acc: 0.5714 - val_loss: 0.7122 - val_acc: 0.4333\n",
      "Epoch 3/200\n",
      "420/420 [==============================] - 2s 4ms/step - loss: 0.6506 - acc: 0.6071 - val_loss: 0.7240 - val_acc: 0.4667\n",
      "Epoch 4/200\n",
      "420/420 [==============================] - 2s 4ms/step - loss: 0.6443 - acc: 0.6048 - val_loss: 0.7291 - val_acc: 0.4667\n",
      "Epoch 5/200\n",
      "420/420 [==============================] - 2s 4ms/step - loss: 0.6448 - acc: 0.6048 - val_loss: 0.7167 - val_acc: 0.5000\n",
      "Epoch 6/200\n",
      "420/420 [==============================] - 2s 4ms/step - loss: 0.6378 - acc: 0.6119 - val_loss: 0.7193 - val_acc: 0.5000\n",
      "Epoch 7/200\n",
      "420/420 [==============================] - 2s 5ms/step - loss: 0.6376 - acc: 0.6262 - val_loss: 0.7329 - val_acc: 0.4889\n",
      "Epoch 8/200\n",
      "420/420 [==============================] - 2s 5ms/step - loss: 0.6372 - acc: 0.6310 - val_loss: 0.7207 - val_acc: 0.4778\n",
      "Epoch 9/200\n",
      "420/420 [==============================] - 2s 5ms/step - loss: 0.6322 - acc: 0.6190 - val_loss: 0.7188 - val_acc: 0.4778\n",
      "Epoch 10/200\n",
      "420/420 [==============================] - 2s 5ms/step - loss: 0.6342 - acc: 0.6143 - val_loss: 0.7254 - val_acc: 0.5222\n",
      "Epoch 11/200\n",
      "420/420 [==============================] - 2s 5ms/step - loss: 0.6277 - acc: 0.6048 - val_loss: 0.7241 - val_acc: 0.5222\n",
      "Epoch 12/200\n",
      "420/420 [==============================] - 3s 6ms/step - loss: 0.6260 - acc: 0.6357 - val_loss: 0.7187 - val_acc: 0.5556\n",
      "Epoch 13/200\n",
      "420/420 [==============================] - 2s 6ms/step - loss: 0.6234 - acc: 0.6286 - val_loss: 0.7212 - val_acc: 0.5222\n",
      "Epoch 14/200\n",
      "420/420 [==============================] - 2s 5ms/step - loss: 0.6240 - acc: 0.6143 - val_loss: 0.7219 - val_acc: 0.5556\n",
      "Epoch 15/200\n",
      "420/420 [==============================] - 3s 6ms/step - loss: 0.6259 - acc: 0.6524 - val_loss: 0.7112 - val_acc: 0.5444\n",
      "Epoch 16/200\n",
      "420/420 [==============================] - 2s 6ms/step - loss: 0.6228 - acc: 0.6381 - val_loss: 0.7169 - val_acc: 0.5222\n",
      "Epoch 17/200\n",
      "420/420 [==============================] - 2s 5ms/step - loss: 0.6176 - acc: 0.6548 - val_loss: 0.7142 - val_acc: 0.5111\n",
      "Epoch 18/200\n",
      "420/420 [==============================] - 2s 5ms/step - loss: 0.6175 - acc: 0.6524 - val_loss: 0.7156 - val_acc: 0.5889\n",
      "Epoch 19/200\n",
      "420/420 [==============================] - 2s 6ms/step - loss: 0.6167 - acc: 0.6500 - val_loss: 0.7231 - val_acc: 0.5111\n",
      "Epoch 20/200\n",
      "420/420 [==============================] - 2s 5ms/step - loss: 0.6160 - acc: 0.6333 - val_loss: 0.7355 - val_acc: 0.4889\n",
      "Epoch 21/200\n",
      "420/420 [==============================] - 2s 6ms/step - loss: 0.6151 - acc: 0.6452 - val_loss: 0.7281 - val_acc: 0.4889\n",
      "Epoch 22/200\n",
      "420/420 [==============================] - 2s 5ms/step - loss: 0.6170 - acc: 0.6381 - val_loss: 0.6984 - val_acc: 0.5333\n",
      "Epoch 23/200\n",
      "420/420 [==============================] - 2s 5ms/step - loss: 0.6107 - acc: 0.6405 - val_loss: 0.7003 - val_acc: 0.5556\n",
      "Epoch 24/200\n",
      "420/420 [==============================] - 2s 5ms/step - loss: 0.6109 - acc: 0.6333 - val_loss: 0.6923 - val_acc: 0.5667\n",
      "Epoch 25/200\n",
      "420/420 [==============================] - 2s 5ms/step - loss: 0.6102 - acc: 0.6524 - val_loss: 0.7081 - val_acc: 0.5444\n",
      "Epoch 26/200\n",
      "420/420 [==============================] - 2s 5ms/step - loss: 0.6081 - acc: 0.6643 - val_loss: 0.7150 - val_acc: 0.5222\n",
      "Epoch 27/200\n",
      "420/420 [==============================] - 2s 5ms/step - loss: 0.6102 - acc: 0.6619 - val_loss: 0.7096 - val_acc: 0.5111\n",
      "Epoch 28/200\n",
      "420/420 [==============================] - 2s 5ms/step - loss: 0.6116 - acc: 0.6429 - val_loss: 0.7129 - val_acc: 0.5333\n",
      "Epoch 29/200\n",
      "420/420 [==============================] - 2s 5ms/step - loss: 0.6108 - acc: 0.6405 - val_loss: 0.7154 - val_acc: 0.5556\n",
      "Epoch 30/200\n",
      "420/420 [==============================] - 2s 5ms/step - loss: 0.6110 - acc: 0.6476 - val_loss: 0.7176 - val_acc: 0.5111\n",
      "Epoch 31/200\n",
      "420/420 [==============================] - 2s 5ms/step - loss: 0.6068 - acc: 0.6619 - val_loss: 0.7102 - val_acc: 0.5222\n",
      "Epoch 32/200\n",
      "420/420 [==============================] - 2s 5ms/step - loss: 0.6013 - acc: 0.6714 - val_loss: 0.7108 - val_acc: 0.4778\n",
      "Epoch 33/200\n",
      "420/420 [==============================] - 2s 5ms/step - loss: 0.6077 - acc: 0.6476 - val_loss: 0.7068 - val_acc: 0.5222\n",
      "Epoch 34/200\n",
      "420/420 [==============================] - 2s 5ms/step - loss: 0.6037 - acc: 0.6548 - val_loss: 0.7052 - val_acc: 0.5444\n",
      "Epoch 35/200\n",
      "420/420 [==============================] - 2s 5ms/step - loss: 0.6100 - acc: 0.6452 - val_loss: 0.7208 - val_acc: 0.5000\n",
      "Epoch 36/200\n",
      "420/420 [==============================] - 2s 5ms/step - loss: 0.6089 - acc: 0.6595 - val_loss: 0.7098 - val_acc: 0.5444\n",
      "Epoch 37/200\n",
      "420/420 [==============================] - 2s 5ms/step - loss: 0.6121 - acc: 0.6595 - val_loss: 0.7109 - val_acc: 0.5556\n",
      "Epoch 38/200\n",
      "420/420 [==============================] - 2s 5ms/step - loss: 0.6191 - acc: 0.6500 - val_loss: 0.7134 - val_acc: 0.5222\n",
      "Epoch 39/200\n",
      "420/420 [==============================] - 2s 5ms/step - loss: 0.6131 - acc: 0.6810 - val_loss: 0.6989 - val_acc: 0.6333\n",
      "Epoch 40/200\n",
      "420/420 [==============================] - 2s 5ms/step - loss: 0.6100 - acc: 0.6571 - val_loss: 0.7064 - val_acc: 0.5444\n",
      "Epoch 41/200\n",
      "420/420 [==============================] - 2s 5ms/step - loss: 0.6096 - acc: 0.6667 - val_loss: 0.7032 - val_acc: 0.5667\n",
      "Epoch 42/200\n",
      "420/420 [==============================] - 2s 5ms/step - loss: 0.6062 - acc: 0.6690 - val_loss: 0.7133 - val_acc: 0.6222\n",
      "Epoch 43/200\n",
      "420/420 [==============================] - 2s 5ms/step - loss: 0.6059 - acc: 0.6714 - val_loss: 0.6949 - val_acc: 0.5444\n",
      "Epoch 44/200\n",
      "420/420 [==============================] - 2s 5ms/step - loss: 0.6086 - acc: 0.6548 - val_loss: 0.7003 - val_acc: 0.5778\n",
      "Epoch 45/200\n",
      "420/420 [==============================] - 2s 5ms/step - loss: 0.6050 - acc: 0.6619 - val_loss: 0.6933 - val_acc: 0.5778\n",
      "Epoch 46/200\n",
      "420/420 [==============================] - 2s 5ms/step - loss: 0.6072 - acc: 0.6476 - val_loss: 0.6986 - val_acc: 0.6111\n",
      "Epoch 47/200\n",
      "420/420 [==============================] - 2s 5ms/step - loss: 0.6057 - acc: 0.6643 - val_loss: 0.6927 - val_acc: 0.6111\n",
      "Epoch 48/200\n",
      "420/420 [==============================] - 2s 5ms/step - loss: 0.6042 - acc: 0.6833 - val_loss: 0.6949 - val_acc: 0.6444\n",
      "Epoch 49/200\n",
      "420/420 [==============================] - 2s 5ms/step - loss: 0.6023 - acc: 0.6595 - val_loss: 0.7003 - val_acc: 0.5556\n",
      "Epoch 50/200\n",
      "420/420 [==============================] - 2s 5ms/step - loss: 0.6014 - acc: 0.6667 - val_loss: 0.6779 - val_acc: 0.6667\n",
      "Epoch 51/200\n",
      "420/420 [==============================] - 2s 5ms/step - loss: 0.6021 - acc: 0.6714 - val_loss: 0.6999 - val_acc: 0.6111\n",
      "Epoch 52/200\n",
      "420/420 [==============================] - 2s 5ms/step - loss: 0.6041 - acc: 0.6595 - val_loss: 0.7085 - val_acc: 0.5667\n",
      "Epoch 53/200\n",
      "420/420 [==============================] - 2s 5ms/step - loss: 0.6029 - acc: 0.6714 - val_loss: 0.7046 - val_acc: 0.5444\n",
      "Epoch 54/200\n",
      "420/420 [==============================] - 2s 5ms/step - loss: 0.6073 - acc: 0.6667 - val_loss: 0.7052 - val_acc: 0.5667\n",
      "Epoch 55/200\n",
      "420/420 [==============================] - 2s 5ms/step - loss: 0.6062 - acc: 0.6667 - val_loss: 0.7119 - val_acc: 0.5333\n",
      "Epoch 56/200\n",
      "420/420 [==============================] - 2s 5ms/step - loss: 0.6072 - acc: 0.6429 - val_loss: 0.7181 - val_acc: 0.5222\n",
      "Epoch 57/200\n",
      "420/420 [==============================] - 2s 5ms/step - loss: 0.6048 - acc: 0.6452 - val_loss: 0.7022 - val_acc: 0.5556\n",
      "Epoch 58/200\n",
      "420/420 [==============================] - 2s 5ms/step - loss: 0.5994 - acc: 0.6881 - val_loss: 0.6979 - val_acc: 0.6111\n",
      "Epoch 59/200\n",
      "420/420 [==============================] - 2s 5ms/step - loss: 0.5998 - acc: 0.6905 - val_loss: 0.6972 - val_acc: 0.5889\n"
     ]
    },
    {
     "name": "stdout",
     "output_type": "stream",
     "text": [
      "Epoch 60/200\n",
      "420/420 [==============================] - 2s 5ms/step - loss: 0.5957 - acc: 0.6786 - val_loss: 0.6977 - val_acc: 0.5889\n",
      "Epoch 61/200\n",
      "420/420 [==============================] - 2s 5ms/step - loss: 0.6001 - acc: 0.6500 - val_loss: 0.6926 - val_acc: 0.5667\n",
      "Epoch 62/200\n",
      "420/420 [==============================] - 2s 5ms/step - loss: 0.5951 - acc: 0.6762 - val_loss: 0.7011 - val_acc: 0.6444\n",
      "Epoch 63/200\n",
      "420/420 [==============================] - 2s 5ms/step - loss: 0.5934 - acc: 0.6619 - val_loss: 0.7029 - val_acc: 0.5667\n",
      "Epoch 64/200\n",
      "420/420 [==============================] - 2s 5ms/step - loss: 0.5972 - acc: 0.6738 - val_loss: 0.6963 - val_acc: 0.5667\n",
      "Epoch 65/200\n",
      "420/420 [==============================] - 2s 5ms/step - loss: 0.6065 - acc: 0.6500 - val_loss: 0.6963 - val_acc: 0.6556\n",
      "Epoch 66/200\n",
      "420/420 [==============================] - 2s 5ms/step - loss: 0.5945 - acc: 0.6714 - val_loss: 0.7149 - val_acc: 0.5111\n",
      "Epoch 67/200\n",
      "420/420 [==============================] - 2s 5ms/step - loss: 0.5957 - acc: 0.6571 - val_loss: 0.7055 - val_acc: 0.5444\n",
      "Epoch 68/200\n",
      "420/420 [==============================] - 2s 5ms/step - loss: 0.5942 - acc: 0.6833 - val_loss: 0.6951 - val_acc: 0.6222\n",
      "Epoch 69/200\n",
      "420/420 [==============================] - 2s 5ms/step - loss: 0.6031 - acc: 0.6571 - val_loss: 0.7020 - val_acc: 0.5778\n",
      "Epoch 70/200\n",
      "420/420 [==============================] - 2s 5ms/step - loss: 0.6031 - acc: 0.6429 - val_loss: 0.7156 - val_acc: 0.5444\n",
      "Epoch 71/200\n",
      "420/420 [==============================] - 2s 5ms/step - loss: 0.5993 - acc: 0.6881 - val_loss: 0.7037 - val_acc: 0.6000\n",
      "Epoch 72/200\n",
      "420/420 [==============================] - 2s 5ms/step - loss: 0.6022 - acc: 0.6452 - val_loss: 0.7058 - val_acc: 0.5667\n",
      "Epoch 73/200\n",
      "420/420 [==============================] - 2s 5ms/step - loss: 0.5975 - acc: 0.6667 - val_loss: 0.7050 - val_acc: 0.5556\n",
      "Epoch 74/200\n",
      "420/420 [==============================] - 2s 5ms/step - loss: 0.5933 - acc: 0.6714 - val_loss: 0.6954 - val_acc: 0.5667\n",
      "Epoch 75/200\n",
      "420/420 [==============================] - 2s 5ms/step - loss: 0.5953 - acc: 0.6810 - val_loss: 0.7036 - val_acc: 0.5556\n",
      "Epoch 76/200\n",
      "420/420 [==============================] - 2s 5ms/step - loss: 0.5930 - acc: 0.7048 - val_loss: 0.7000 - val_acc: 0.5444\n",
      "Epoch 77/200\n",
      "420/420 [==============================] - 2s 5ms/step - loss: 0.5887 - acc: 0.6976 - val_loss: 0.6944 - val_acc: 0.5556\n",
      "Epoch 78/200\n",
      "420/420 [==============================] - 2s 5ms/step - loss: 0.5869 - acc: 0.6905 - val_loss: 0.7019 - val_acc: 0.5333\n",
      "Epoch 79/200\n",
      "420/420 [==============================] - 2s 5ms/step - loss: 0.5860 - acc: 0.6833 - val_loss: 0.7042 - val_acc: 0.5556\n",
      "Epoch 80/200\n",
      "420/420 [==============================] - 2s 5ms/step - loss: 0.5888 - acc: 0.6833 - val_loss: 0.7042 - val_acc: 0.5222\n",
      "Epoch 81/200\n",
      "420/420 [==============================] - 2s 5ms/step - loss: 0.5897 - acc: 0.6500 - val_loss: 0.7086 - val_acc: 0.5444\n",
      "Epoch 82/200\n",
      "420/420 [==============================] - 2s 5ms/step - loss: 0.5866 - acc: 0.6786 - val_loss: 0.7203 - val_acc: 0.5444\n",
      "Epoch 83/200\n",
      "420/420 [==============================] - 2s 5ms/step - loss: 0.5859 - acc: 0.6833 - val_loss: 0.7060 - val_acc: 0.5556\n",
      "Epoch 84/200\n",
      "420/420 [==============================] - 2s 5ms/step - loss: 0.5880 - acc: 0.6714 - val_loss: 0.7009 - val_acc: 0.5444\n",
      "Epoch 85/200\n",
      "420/420 [==============================] - 2s 5ms/step - loss: 0.5912 - acc: 0.6643 - val_loss: 0.6984 - val_acc: 0.5333\n",
      "Epoch 86/200\n",
      "420/420 [==============================] - 2s 5ms/step - loss: 0.5893 - acc: 0.6738 - val_loss: 0.7019 - val_acc: 0.5444\n",
      "Epoch 87/200\n",
      "420/420 [==============================] - 2s 5ms/step - loss: 0.5853 - acc: 0.6738 - val_loss: 0.7139 - val_acc: 0.5222\n",
      "Epoch 88/200\n",
      "420/420 [==============================] - 2s 5ms/step - loss: 0.5899 - acc: 0.6571 - val_loss: 0.6989 - val_acc: 0.5111\n",
      "Epoch 89/200\n",
      "420/420 [==============================] - 2s 5ms/step - loss: 0.5867 - acc: 0.6595 - val_loss: 0.6987 - val_acc: 0.5444\n",
      "Epoch 90/200\n",
      "420/420 [==============================] - 3s 6ms/step - loss: 0.5904 - acc: 0.6690 - val_loss: 0.7148 - val_acc: 0.5333\n",
      "Epoch 91/200\n",
      "420/420 [==============================] - 3s 6ms/step - loss: 0.5868 - acc: 0.6667 - val_loss: 0.6965 - val_acc: 0.5667\n",
      "Epoch 92/200\n",
      "420/420 [==============================] - 2s 5ms/step - loss: 0.5871 - acc: 0.6881 - val_loss: 0.6927 - val_acc: 0.5778\n",
      "Epoch 93/200\n",
      "420/420 [==============================] - 2s 6ms/step - loss: 0.5857 - acc: 0.6690 - val_loss: 0.6889 - val_acc: 0.5333\n",
      "Epoch 94/200\n",
      "420/420 [==============================] - 2s 6ms/step - loss: 0.5867 - acc: 0.6833 - val_loss: 0.6974 - val_acc: 0.5556\n",
      "Epoch 95/200\n",
      "420/420 [==============================] - 2s 5ms/step - loss: 0.5792 - acc: 0.6905 - val_loss: 0.6866 - val_acc: 0.5667\n",
      "Epoch 96/200\n",
      "420/420 [==============================] - 2s 6ms/step - loss: 0.5826 - acc: 0.6881 - val_loss: 0.6956 - val_acc: 0.5444\n",
      "Epoch 97/200\n",
      "420/420 [==============================] - 2s 5ms/step - loss: 0.5766 - acc: 0.6952 - val_loss: 0.6873 - val_acc: 0.5889\n",
      "Epoch 98/200\n",
      "420/420 [==============================] - 2s 5ms/step - loss: 0.5793 - acc: 0.6929 - val_loss: 0.6878 - val_acc: 0.5444\n",
      "Epoch 99/200\n",
      "420/420 [==============================] - 2s 6ms/step - loss: 0.5780 - acc: 0.6952 - val_loss: 0.6837 - val_acc: 0.5556\n",
      "Epoch 100/200\n",
      "420/420 [==============================] - 2s 6ms/step - loss: 0.5708 - acc: 0.7024 - val_loss: 0.6840 - val_acc: 0.6111\n",
      "Epoch 101/200\n",
      "420/420 [==============================] - 2s 5ms/step - loss: 0.5807 - acc: 0.7024 - val_loss: 0.6826 - val_acc: 0.5889\n",
      "Epoch 102/200\n",
      "420/420 [==============================] - 2s 6ms/step - loss: 0.5726 - acc: 0.6952 - val_loss: 0.6933 - val_acc: 0.5333\n",
      "Epoch 103/200\n",
      "420/420 [==============================] - 2s 6ms/step - loss: 0.5733 - acc: 0.6738 - val_loss: 0.7034 - val_acc: 0.5889\n",
      "Epoch 104/200\n",
      "420/420 [==============================] - 2s 6ms/step - loss: 0.5839 - acc: 0.6881 - val_loss: 0.6969 - val_acc: 0.5778\n",
      "Epoch 105/200\n",
      "420/420 [==============================] - 2s 6ms/step - loss: 0.5800 - acc: 0.6619 - val_loss: 0.7095 - val_acc: 0.5333\n",
      "Epoch 106/200\n",
      "420/420 [==============================] - 2s 6ms/step - loss: 0.5790 - acc: 0.6571 - val_loss: 0.6989 - val_acc: 0.5556\n",
      "Epoch 107/200\n",
      "420/420 [==============================] - 2s 6ms/step - loss: 0.5884 - acc: 0.6833 - val_loss: 0.6980 - val_acc: 0.5556\n",
      "Epoch 108/200\n",
      "420/420 [==============================] - 2s 6ms/step - loss: 0.5818 - acc: 0.6643 - val_loss: 0.7103 - val_acc: 0.5778\n",
      "Epoch 109/200\n",
      "420/420 [==============================] - 2s 6ms/step - loss: 0.5907 - acc: 0.6500 - val_loss: 0.7024 - val_acc: 0.5778\n",
      "Epoch 110/200\n",
      "420/420 [==============================] - 2s 6ms/step - loss: 0.5801 - acc: 0.6857 - val_loss: 0.6727 - val_acc: 0.5889\n",
      "Epoch 111/200\n",
      "420/420 [==============================] - 2s 6ms/step - loss: 0.5740 - acc: 0.6952 - val_loss: 0.6842 - val_acc: 0.6000\n",
      "Epoch 112/200\n",
      "420/420 [==============================] - 2s 6ms/step - loss: 0.5728 - acc: 0.6929 - val_loss: 0.6847 - val_acc: 0.6000\n",
      "Epoch 113/200\n",
      "420/420 [==============================] - 2s 6ms/step - loss: 0.5715 - acc: 0.6881 - val_loss: 0.6787 - val_acc: 0.5889\n",
      "Epoch 114/200\n",
      "420/420 [==============================] - 2s 6ms/step - loss: 0.5685 - acc: 0.7048 - val_loss: 0.6785 - val_acc: 0.5667\n",
      "Epoch 115/200\n",
      "420/420 [==============================] - 2s 6ms/step - loss: 0.5744 - acc: 0.6857 - val_loss: 0.7006 - val_acc: 0.5889\n",
      "Epoch 116/200\n",
      "420/420 [==============================] - 2s 6ms/step - loss: 0.5718 - acc: 0.6905 - val_loss: 0.7013 - val_acc: 0.5667\n",
      "Epoch 117/200\n",
      "420/420 [==============================] - 2s 6ms/step - loss: 0.5717 - acc: 0.6762 - val_loss: 0.7016 - val_acc: 0.5556\n",
      "Epoch 118/200\n",
      "420/420 [==============================] - 2s 6ms/step - loss: 0.5672 - acc: 0.6952 - val_loss: 0.6981 - val_acc: 0.5667\n",
      "Epoch 119/200\n",
      "420/420 [==============================] - 2s 6ms/step - loss: 0.5660 - acc: 0.7000 - val_loss: 0.7165 - val_acc: 0.6000\n",
      "Epoch 120/200\n",
      "420/420 [==============================] - 2s 6ms/step - loss: 0.5643 - acc: 0.6833 - val_loss: 0.7026 - val_acc: 0.5556\n"
     ]
    },
    {
     "name": "stdout",
     "output_type": "stream",
     "text": [
      "Epoch 121/200\n",
      "420/420 [==============================] - 2s 6ms/step - loss: 0.5646 - acc: 0.6929 - val_loss: 0.6978 - val_acc: 0.5778\n",
      "Epoch 122/200\n",
      "420/420 [==============================] - 2s 6ms/step - loss: 0.5744 - acc: 0.7000 - val_loss: 0.6994 - val_acc: 0.5778\n",
      "Epoch 123/200\n",
      "420/420 [==============================] - 2s 6ms/step - loss: 0.5781 - acc: 0.6881 - val_loss: 0.6878 - val_acc: 0.5667\n",
      "Epoch 124/200\n",
      "420/420 [==============================] - 2s 6ms/step - loss: 0.5805 - acc: 0.6714 - val_loss: 0.6941 - val_acc: 0.6222\n",
      "Epoch 125/200\n",
      "420/420 [==============================] - 2s 6ms/step - loss: 0.5712 - acc: 0.6905 - val_loss: 0.6990 - val_acc: 0.5444\n",
      "Epoch 126/200\n",
      "420/420 [==============================] - 2s 6ms/step - loss: 0.5715 - acc: 0.6905 - val_loss: 0.6998 - val_acc: 0.5778\n",
      "Epoch 127/200\n",
      "420/420 [==============================] - 2s 6ms/step - loss: 0.5791 - acc: 0.6810 - val_loss: 0.6864 - val_acc: 0.5444\n",
      "Epoch 128/200\n",
      "420/420 [==============================] - 3s 6ms/step - loss: 0.5729 - acc: 0.6833 - val_loss: 0.6773 - val_acc: 0.6444\n",
      "Epoch 129/200\n",
      "420/420 [==============================] - 2s 6ms/step - loss: 0.5702 - acc: 0.7190 - val_loss: 0.6965 - val_acc: 0.5667\n",
      "Epoch 130/200\n",
      "420/420 [==============================] - 2s 6ms/step - loss: 0.5715 - acc: 0.7000 - val_loss: 0.7149 - val_acc: 0.5111\n",
      "Epoch 131/200\n",
      "420/420 [==============================] - 2s 6ms/step - loss: 0.5755 - acc: 0.6952 - val_loss: 0.7117 - val_acc: 0.5444\n",
      "Epoch 132/200\n",
      "420/420 [==============================] - 2s 6ms/step - loss: 0.5799 - acc: 0.6714 - val_loss: 0.7024 - val_acc: 0.5667\n",
      "Epoch 133/200\n",
      "420/420 [==============================] - 2s 6ms/step - loss: 0.5781 - acc: 0.6714 - val_loss: 0.7182 - val_acc: 0.5444\n",
      "Epoch 134/200\n",
      "420/420 [==============================] - 2s 6ms/step - loss: 0.5754 - acc: 0.6595 - val_loss: 0.7100 - val_acc: 0.5333\n",
      "Epoch 135/200\n",
      "420/420 [==============================] - 2s 6ms/step - loss: 0.5657 - acc: 0.7167 - val_loss: 0.6948 - val_acc: 0.6111\n",
      "Epoch 136/200\n",
      "420/420 [==============================] - 2s 6ms/step - loss: 0.5637 - acc: 0.7119 - val_loss: 0.7074 - val_acc: 0.5556\n",
      "Epoch 137/200\n",
      "420/420 [==============================] - 2s 6ms/step - loss: 0.5798 - acc: 0.6548 - val_loss: 0.7068 - val_acc: 0.5444\n",
      "Epoch 138/200\n",
      "420/420 [==============================] - 2s 6ms/step - loss: 0.5786 - acc: 0.6905 - val_loss: 0.7040 - val_acc: 0.5778\n",
      "Epoch 139/200\n",
      "420/420 [==============================] - 2s 6ms/step - loss: 0.5868 - acc: 0.6690 - val_loss: 0.6982 - val_acc: 0.5333\n",
      "Epoch 140/200\n",
      "420/420 [==============================] - 2s 6ms/step - loss: 0.5732 - acc: 0.6833 - val_loss: 0.7007 - val_acc: 0.6000\n",
      "Epoch 141/200\n",
      "420/420 [==============================] - 2s 6ms/step - loss: 0.5719 - acc: 0.6810 - val_loss: 0.7143 - val_acc: 0.5222\n",
      "Epoch 142/200\n",
      "420/420 [==============================] - 2s 5ms/step - loss: 0.5722 - acc: 0.6810 - val_loss: 0.6849 - val_acc: 0.5556\n",
      "Epoch 143/200\n",
      "420/420 [==============================] - 2s 6ms/step - loss: 0.5650 - acc: 0.7024 - val_loss: 0.6913 - val_acc: 0.6556\n",
      "Epoch 144/200\n",
      "420/420 [==============================] - 2s 5ms/step - loss: 0.5648 - acc: 0.6952 - val_loss: 0.7045 - val_acc: 0.6000\n",
      "Epoch 145/200\n",
      "420/420 [==============================] - 2s 6ms/step - loss: 0.5653 - acc: 0.7024 - val_loss: 0.6876 - val_acc: 0.6333\n",
      "Epoch 146/200\n",
      "420/420 [==============================] - 2s 6ms/step - loss: 0.5664 - acc: 0.7000 - val_loss: 0.6908 - val_acc: 0.6333\n",
      "Epoch 147/200\n",
      "420/420 [==============================] - 2s 6ms/step - loss: 0.5663 - acc: 0.6929 - val_loss: 0.7017 - val_acc: 0.5778\n",
      "Epoch 148/200\n",
      "420/420 [==============================] - 2s 6ms/step - loss: 0.5646 - acc: 0.6952 - val_loss: 0.6776 - val_acc: 0.5889\n",
      "Epoch 149/200\n",
      "420/420 [==============================] - 2s 6ms/step - loss: 0.5595 - acc: 0.6976 - val_loss: 0.6887 - val_acc: 0.5667\n",
      "Epoch 150/200\n",
      "420/420 [==============================] - 2s 5ms/step - loss: 0.5593 - acc: 0.7071 - val_loss: 0.6960 - val_acc: 0.5889\n",
      "Epoch 151/200\n",
      "420/420 [==============================] - 2s 5ms/step - loss: 0.5631 - acc: 0.7143 - val_loss: 0.6880 - val_acc: 0.6000\n",
      "Epoch 152/200\n",
      "420/420 [==============================] - 2s 6ms/step - loss: 0.5719 - acc: 0.6857 - val_loss: 0.6920 - val_acc: 0.5889\n",
      "Epoch 153/200\n",
      "420/420 [==============================] - 2s 6ms/step - loss: 0.5670 - acc: 0.6952 - val_loss: 0.6646 - val_acc: 0.6667\n",
      "Epoch 154/200\n",
      "420/420 [==============================] - 2s 6ms/step - loss: 0.5638 - acc: 0.7167 - val_loss: 0.6854 - val_acc: 0.5889\n",
      "Epoch 155/200\n",
      "420/420 [==============================] - 2s 6ms/step - loss: 0.5577 - acc: 0.7024 - val_loss: 0.6741 - val_acc: 0.5889\n",
      "Epoch 156/200\n",
      "420/420 [==============================] - 2s 6ms/step - loss: 0.5571 - acc: 0.7000 - val_loss: 0.6705 - val_acc: 0.5889\n",
      "Epoch 157/200\n",
      "420/420 [==============================] - 2s 6ms/step - loss: 0.5616 - acc: 0.7143 - val_loss: 0.6816 - val_acc: 0.6000\n",
      "Epoch 158/200\n",
      "420/420 [==============================] - 2s 6ms/step - loss: 0.5756 - acc: 0.6619 - val_loss: 0.6817 - val_acc: 0.5667\n",
      "Epoch 159/200\n",
      "420/420 [==============================] - 2s 6ms/step - loss: 0.5653 - acc: 0.7048 - val_loss: 0.6713 - val_acc: 0.6111\n",
      "Epoch 160/200\n",
      "420/420 [==============================] - 2s 6ms/step - loss: 0.5632 - acc: 0.6976 - val_loss: 0.6692 - val_acc: 0.5778\n",
      "Epoch 161/200\n",
      "420/420 [==============================] - 2s 6ms/step - loss: 0.5591 - acc: 0.7000 - val_loss: 0.6711 - val_acc: 0.6222\n",
      "Epoch 162/200\n",
      "420/420 [==============================] - 2s 6ms/step - loss: 0.5724 - acc: 0.6881 - val_loss: 0.6674 - val_acc: 0.5889\n",
      "Epoch 163/200\n",
      "420/420 [==============================] - 2s 6ms/step - loss: 0.5550 - acc: 0.7119 - val_loss: 0.6799 - val_acc: 0.6556\n",
      "Epoch 164/200\n",
      "420/420 [==============================] - 2s 6ms/step - loss: 0.5522 - acc: 0.7262 - val_loss: 0.6785 - val_acc: 0.6111\n",
      "Epoch 165/200\n",
      "420/420 [==============================] - 2s 6ms/step - loss: 0.5520 - acc: 0.7167 - val_loss: 0.6636 - val_acc: 0.6333\n",
      "Epoch 166/200\n",
      "420/420 [==============================] - 2s 6ms/step - loss: 0.5586 - acc: 0.7048 - val_loss: 0.6744 - val_acc: 0.6222\n",
      "Epoch 167/200\n",
      "420/420 [==============================] - 2s 6ms/step - loss: 0.5446 - acc: 0.7286 - val_loss: 0.6775 - val_acc: 0.6000\n",
      "Epoch 168/200\n",
      "420/420 [==============================] - 2s 6ms/step - loss: 0.5473 - acc: 0.7286 - val_loss: 0.6738 - val_acc: 0.6333\n",
      "Epoch 169/200\n",
      "420/420 [==============================] - 2s 6ms/step - loss: 0.5511 - acc: 0.7071 - val_loss: 0.6795 - val_acc: 0.6111\n",
      "Epoch 170/200\n",
      "420/420 [==============================] - 2s 6ms/step - loss: 0.5423 - acc: 0.7262 - val_loss: 0.6711 - val_acc: 0.6222\n",
      "Epoch 171/200\n",
      "420/420 [==============================] - 2s 6ms/step - loss: 0.5380 - acc: 0.7262 - val_loss: 0.6853 - val_acc: 0.6222\n",
      "Epoch 172/200\n",
      "420/420 [==============================] - 2s 6ms/step - loss: 0.5375 - acc: 0.7167 - val_loss: 0.6606 - val_acc: 0.6222\n",
      "Epoch 173/200\n",
      "420/420 [==============================] - 2s 6ms/step - loss: 0.5417 - acc: 0.7238 - val_loss: 0.6770 - val_acc: 0.5889\n",
      "Epoch 174/200\n",
      "420/420 [==============================] - 2s 6ms/step - loss: 0.5443 - acc: 0.7143 - val_loss: 0.6848 - val_acc: 0.5889\n",
      "Epoch 175/200\n",
      "420/420 [==============================] - 2s 5ms/step - loss: 0.5449 - acc: 0.7143 - val_loss: 0.6523 - val_acc: 0.6222\n",
      "Epoch 176/200\n",
      "420/420 [==============================] - 2s 6ms/step - loss: 0.5455 - acc: 0.7286 - val_loss: 0.6596 - val_acc: 0.6222\n",
      "Epoch 177/200\n",
      "420/420 [==============================] - 2s 6ms/step - loss: 0.5407 - acc: 0.7048 - val_loss: 0.6717 - val_acc: 0.6444\n",
      "Epoch 178/200\n",
      "420/420 [==============================] - 2s 6ms/step - loss: 0.5490 - acc: 0.7095 - val_loss: 0.6592 - val_acc: 0.6222\n",
      "Epoch 179/200\n",
      "420/420 [==============================] - 2s 5ms/step - loss: 0.5451 - acc: 0.7143 - val_loss: 0.6527 - val_acc: 0.6222\n",
      "Epoch 180/200\n",
      "420/420 [==============================] - 2s 6ms/step - loss: 0.5481 - acc: 0.7214 - val_loss: 0.6596 - val_acc: 0.6444\n",
      "Epoch 181/200\n"
     ]
    },
    {
     "name": "stdout",
     "output_type": "stream",
     "text": [
      "420/420 [==============================] - 2s 6ms/step - loss: 0.5505 - acc: 0.7119 - val_loss: 0.6612 - val_acc: 0.6111\n",
      "Epoch 182/200\n",
      "420/420 [==============================] - 2s 6ms/step - loss: 0.5364 - acc: 0.7310 - val_loss: 0.6574 - val_acc: 0.6222\n",
      "Epoch 183/200\n",
      "420/420 [==============================] - 2s 5ms/step - loss: 0.5584 - acc: 0.7000 - val_loss: 0.6714 - val_acc: 0.6111\n",
      "Epoch 184/200\n",
      "420/420 [==============================] - 2s 6ms/step - loss: 0.5504 - acc: 0.7310 - val_loss: 0.6668 - val_acc: 0.6111\n",
      "Epoch 185/200\n",
      "420/420 [==============================] - 2s 6ms/step - loss: 0.5414 - acc: 0.7310 - val_loss: 0.6675 - val_acc: 0.5889\n",
      "Epoch 186/200\n",
      "420/420 [==============================] - 2s 6ms/step - loss: 0.5461 - acc: 0.7143 - val_loss: 0.6664 - val_acc: 0.6222\n",
      "Epoch 187/200\n",
      "420/420 [==============================] - 2s 6ms/step - loss: 0.5486 - acc: 0.7214 - val_loss: 0.6674 - val_acc: 0.6000\n",
      "Epoch 188/200\n",
      "420/420 [==============================] - 2s 6ms/step - loss: 0.5457 - acc: 0.7119 - val_loss: 0.6669 - val_acc: 0.5889\n",
      "Epoch 189/200\n",
      "420/420 [==============================] - 2s 6ms/step - loss: 0.5450 - acc: 0.7167 - val_loss: 0.6565 - val_acc: 0.6222\n",
      "Epoch 190/200\n",
      "420/420 [==============================] - 2s 6ms/step - loss: 0.5513 - acc: 0.7119 - val_loss: 0.6788 - val_acc: 0.5889\n",
      "Epoch 191/200\n",
      "420/420 [==============================] - 2s 6ms/step - loss: 0.5503 - acc: 0.7143 - val_loss: 0.6860 - val_acc: 0.6222\n",
      "Epoch 192/200\n",
      "420/420 [==============================] - 2s 6ms/step - loss: 0.5472 - acc: 0.7214 - val_loss: 0.6604 - val_acc: 0.6444\n",
      "Epoch 193/200\n",
      "420/420 [==============================] - 2s 6ms/step - loss: 0.5530 - acc: 0.7238 - val_loss: 0.6794 - val_acc: 0.6222\n",
      "Epoch 194/200\n",
      "420/420 [==============================] - 2s 6ms/step - loss: 0.5500 - acc: 0.7286 - val_loss: 0.6710 - val_acc: 0.6222\n",
      "Epoch 195/200\n",
      "420/420 [==============================] - 2s 6ms/step - loss: 0.5564 - acc: 0.7262 - val_loss: 0.7006 - val_acc: 0.5778\n",
      "Epoch 196/200\n",
      "420/420 [==============================] - 2s 6ms/step - loss: 0.5474 - acc: 0.7214 - val_loss: 0.6836 - val_acc: 0.6222\n",
      "Epoch 197/200\n",
      "420/420 [==============================] - 2s 6ms/step - loss: 0.5548 - acc: 0.7071 - val_loss: 0.6853 - val_acc: 0.6222\n",
      "Epoch 198/200\n",
      "420/420 [==============================] - 2s 6ms/step - loss: 0.5535 - acc: 0.7095 - val_loss: 0.6763 - val_acc: 0.6222\n",
      "Epoch 199/200\n",
      "420/420 [==============================] - 2s 6ms/step - loss: 0.5608 - acc: 0.7000 - val_loss: 0.6848 - val_acc: 0.5667\n",
      "Epoch 200/200\n",
      "420/420 [==============================] - 2s 6ms/step - loss: 0.5601 - acc: 0.6881 - val_loss: 0.6659 - val_acc: 0.6778\n"
     ]
    }
   ],
   "source": [
    "adam = Adam(lr=0.001)\n",
    "chk = ModelCheckpoint(f'../models/best_model_{version}.pkl', monitor='val_acc', save_best_only=True, mode='max', verbose=0) #monitor='val_acc'\n",
    "model.compile(loss='binary_crossentropy', optimizer=adam, metrics=['accuracy'])\n",
    "history_training = model.fit(X_train, y_train, epochs=200, batch_size=64, callbacks=[chk], validation_data=(X_dev, y_dev))"
   ]
  },
  {
   "cell_type": "markdown",
   "metadata": {},
   "source": [
    "## Training history plot"
   ]
  },
  {
   "cell_type": "code",
   "execution_count": 14,
   "metadata": {},
   "outputs": [
    {
     "name": "stdout",
     "output_type": "stream",
     "text": [
      "Best accuracy on the dev set: 67.8%\n",
      "Best accuracy on the training set: 73.1%\n"
     ]
    },
    {
     "data": {
      "image/png": "[encoded data removed]",
      "text/plain": [
       "<Figure size 864x288 with 2 Axes>"
      ]
     },
     "metadata": {
      "needs_background": "light"
     },
     "output_type": "display_data"
    }
   ],
   "source": [
    "fig, (ax1, ax2) = plt.subplots(1, 2, figsize=(12,4))\n",
    "\n",
    "ax1.plot(history_training.history['acc'], label='train')\n",
    "ax1.plot(history_training.history['val_acc'], label='dev')\n",
    "\n",
    "ax2.plot(history_training.history['loss'], label='train')\n",
    "ax2.plot(history_training.history['val_loss'], label='dev')\n",
    "\n",
    "ax1.set_xlabel('Epoch')\n",
    "ax2.set_xlabel('Epoch')\n",
    "ax1.legend()\n",
    "ax2.legend()\n",
    "\n",
    "ax1.set_ylabel('Accuracy')\n",
    "ax2.set_ylabel('Loss')\n",
    "\n",
    "best_acc = max(history_training.history['val_acc'])\n",
    "print(f'Best accuracy on the dev set: {best_acc*100:.1f}%')\n",
    "best_acc_training = max(history_training.history['acc'])\n",
    "print(f'Best accuracy on the training set: {best_acc_training*100:.1f}%')\n",
    "fig.savefig(f'../plots/model_{version}.png', bbox_inches='tight')"
   ]
  },
  {
   "cell_type": "markdown",
   "metadata": {},
   "source": [
    "## Evaluation of the model"
   ]
  },
  {
   "cell_type": "code",
   "execution_count": 11,
   "metadata": {},
   "outputs": [],
   "source": [
    "model = load_model(f'../models/best_model_{version}.pkl') # load best model"
   ]
  },
  {
   "cell_type": "code",
   "execution_count": 12,
   "metadata": {},
   "outputs": [
    {
     "name": "stdout",
     "output_type": "stream",
     "text": [
      "Accuracy on the dev set: 67.8%\n",
      "Accuracy on the training set: 72.1%\n"
     ]
    }
   ],
   "source": [
    "dev_preds = model.predict_classes(X_dev)\n",
    "acc_dev = accuracy_score(y_dev, dev_preds)\n",
    "print(f'Accuracy on the dev set: {acc_dev*100:.1f}%')\n",
    "\n",
    "training_preds = model.predict_classes(X_train)\n",
    "acc_training = accuracy_score(y_train, training_preds)\n",
    "print(f'Accuracy on the training set: {acc_training*100:.1f}%')"
   ]
  },
  {
   "cell_type": "code",
   "execution_count": 13,
   "metadata": {},
   "outputs": [
    {
     "data": {
      "image/png": "[encoded data removed]",
      "text/plain": [
       "<Figure size 216x216 with 2 Axes>"
      ]
     },
     "metadata": {
      "needs_background": "light"
     },
     "output_type": "display_data"
    }
   ],
   "source": [
    "import itertools\n",
    "from sklearn.metrics import confusion_matrix\n",
    "\n",
    "cm = confusion_matrix(y_dev, dev_preds)\n",
    "\n",
    "classes=['Right', 'Left']\n",
    "fig, ax = plt.subplots(1, figsize=(3,3))\n",
    "tick_marks = np.arange(len(classes))\n",
    "plt.xticks(tick_marks, classes)\n",
    "plt.yticks(tick_marks, classes)\n",
    "\n",
    "cm_norm = cm / cm.sum(axis=1)*100\n",
    "im = ax.imshow(cm_norm, cmap='Blues', interpolation='none', clim=(0,100))\n",
    "ax.set_title(f'Confusion matrix ({y_dev.shape[0]} samples)', size=13)\n",
    "\n",
    "\n",
    "for i, j in itertools.product(range(cm.shape[0]), range(cm.shape[1])):\n",
    "    ax.text(j, i, f'{cm[i,j]}\\n{cm_norm[i, j]:.1f}%', size=13,\n",
    "             horizontalalignment=\"center\", verticalalignment=\"center\",\n",
    "             color=\"white\" if cm[i, j] > 60 else \"black\")\n",
    "ax.set_ylabel('True label', size=12)\n",
    "ax.set_xlabel('Predicted label', size=12)\n",
    "\n",
    "cb_ax = fig.add_axes([0.95, 0.12, 0.1, 0.76])\n",
    "cb = fig.colorbar(im, cax=cb_ax, orientation='vertical')\n",
    "cb.set_label('%')\n",
    "\n",
    "fig.savefig(f'../plots/conf_matrix_{version}.png', bbox_inches='tight')"
   ]
  },
  {
   "cell_type": "code",
   "execution_count": null,
   "metadata": {},
   "outputs": [],
   "source": []
  }
 ],
 "metadata": {
  "kernelspec": {
   "display_name": "Python 3",
   "language": "python",
   "name": "python3"
  },
  "language_info": {
   "codemirror_mode": {
    "name": "ipython",
    "version": 3
   },
   "file_extension": ".py",
   "mimetype": "text/x-python",
   "name": "python",
   "nbconvert_exporter": "python",
   "pygments_lexer": "ipython3",
   "version": "3.7.3"
  }
 },
 "nbformat": 4,
 "nbformat_minor": 2
}
