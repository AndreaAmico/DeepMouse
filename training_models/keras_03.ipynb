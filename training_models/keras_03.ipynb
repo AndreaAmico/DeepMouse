{
 "cells": [
  {
   "cell_type": "code",
   "execution_count": 2,
   "metadata": {},
   "outputs": [],
   "source": [
    "import tensorflow as tf\n",
    "import pandas as pd\n",
    "import numpy as np\n",
    "import matplotlib.pyplot as plt\n",
    "\n",
    "from keras.preprocessing import sequence\n",
    "from keras.models import Sequential\n",
    "from keras.layers import Dense\n",
    "from keras.layers import LSTM\n",
    "\n",
    "from keras.optimizers import Adam\n",
    "from keras.models import load_model\n",
    "from keras.callbacks import ModelCheckpoint\n",
    "\n",
    "from sklearn.model_selection import train_test_split\n",
    "from sklearn.metrics import accuracy_score\n",
    "\n",
    "%matplotlib inline\n",
    "version = '03'"
   ]
  },
  {
   "cell_type": "markdown",
   "metadata": {},
   "source": [
    "## Dataset loading"
   ]
  },
  {
   "cell_type": "code",
   "execution_count": 3,
   "metadata": {},
   "outputs": [],
   "source": [
    "right = pd.read_csv(\"../data/right.txt\", header=None).values.tolist()\n",
    "left = pd.read_csv(\"../data/left.txt\", header=None).values.tolist()"
   ]
  },
  {
   "cell_type": "markdown",
   "metadata": {},
   "source": [
    "## Pre-processing"
   ]
  },
  {
   "cell_type": "code",
   "execution_count": 4,
   "metadata": {},
   "outputs": [],
   "source": [
    "batch_size = 200\n",
    "batch_right = [right[i:i + batch_size] for i in range(0, len(right), batch_size)]\n",
    "batch_left = [left[i:i + batch_size] for i in range(0, len(left), batch_size)]\n",
    "\n",
    "X = np.array(batch_right + batch_left)\n",
    "y = np.array([0]*len(batch_right) + [1]*len(batch_left))"
   ]
  },
  {
   "cell_type": "code",
   "execution_count": 5,
   "metadata": {},
   "outputs": [
    {
     "name": "stdout",
     "output_type": "stream",
     "text": [
      "X shape: (600, 200, 2)\n",
      "y shape: (600,)\n"
     ]
    }
   ],
   "source": [
    "print(f'X shape: {X.shape}\\ny shape: {y.shape}')"
   ]
  },
  {
   "cell_type": "code",
   "execution_count": 6,
   "metadata": {},
   "outputs": [],
   "source": [
    "X_diff = X[:,:-1,:].copy()\n",
    "X_diff[:,:,0] = np.diff(X[:,:,0])\n",
    "X_diff[:,:,1] = np.diff(X[:,:,1])"
   ]
  },
  {
   "cell_type": "code",
   "execution_count": 8,
   "metadata": {},
   "outputs": [
    {
     "data": {
      "text/plain": [
       "Text(0.5, 0, 'y relative movement (px)')"
      ]
     },
     "execution_count": 8,
     "metadata": {},
     "output_type": "execute_result"
    },
    {
     "data": {
      "image/png": "[encoded data removed]",
      "text/plain": [
       "<Figure size 864x288 with 2 Axes>"
      ]
     },
     "metadata": {
      "needs_background": "light"
     },
     "output_type": "display_data"
    }
   ],
   "source": [
    "sigma_x = np.std(X_diff[:,:,0], axis=1)\n",
    "sigma_y = np.std(X_diff[:,:,1], axis=1)\n",
    "\n",
    "X_filt = X_diff[(sigma_x>0.1)*(sigma_y>0.1)]\n",
    "\n",
    "x_std = 3.398 # np.mean(np.std(X_filt[:,:,0], axis=1))\n",
    "y_std = 2.926 # np.mean(np.std(X_filt[:,:,1], axis=1))\n",
    "\n",
    "X_filt[:,:,0] = X_filt[:,:,0] / x_std\n",
    "X_filt[:,:,1] = X_filt[:,:,1] / y_std\n",
    "\n",
    "sigma_x_filt = np.std(X_filt[:,:,0], axis=1)\n",
    "sigma_y_filt = np.std(X_filt[:,:,1], axis=1)\n",
    "\n",
    "\n",
    "fig, (ax1, ax2) = plt.subplots(1, 2,  figsize=(12, 4))\n",
    "ax1.hist(sigma_x_filt, bins=50, density=True)\n",
    "ax2.hist(sigma_y_filt, bins=50, density=True)\n",
    "for ax in (ax1,ax2):\n",
    "    ax.set_xlim(0,5)\n",
    "    ax.set_ylabel('Occurrence (%)')\n",
    "    #ax.set_yticks(np.arange(0,0.41,0.1))\n",
    "ax1.set_xlabel('x relative movement (px)')\n",
    "ax2.set_xlabel('y relative movement (px)')\n",
    "\n",
    "#fig.savefig(f'../plots/relative_movement_hist_corrected.png', bbox_inches='tight')"
   ]
  },
  {
   "cell_type": "code",
   "execution_count": 13,
   "metadata": {},
   "outputs": [
    {
     "data": {
      "text/plain": [
       "1.4900517595356684"
      ]
     },
     "execution_count": 13,
     "metadata": {},
     "output_type": "execute_result"
    }
   ],
   "source": [
    "np.mean(np.std(X_filt[:,:,0], axis=1))"
   ]
  },
  {
   "cell_type": "markdown",
   "metadata": {},
   "source": [
    "## Training/dev/test set splitting"
   ]
  },
  {
   "cell_type": "code",
   "execution_count": 14,
   "metadata": {},
   "outputs": [],
   "source": [
    "X_train, X_test, y_train, y_test = train_test_split(X, y, test_size=0.30, random_state=1)\n",
    "X_dev, X_test, y_dev, y_test = train_test_split(X_train, y_train, test_size=0.5, random_state=1)"
   ]
  },
  {
   "cell_type": "markdown",
   "metadata": {},
   "source": [
    "## Model definition"
   ]
  },
  {
   "cell_type": "code",
   "execution_count": 15,
   "metadata": {},
   "outputs": [
    {
     "name": "stdout",
     "output_type": "stream",
     "text": [
      "WARNING:tensorflow:From C:\\Users\\aamico\\AppData\\Local\\Continuum\\anaconda3\\lib\\site-packages\\tensorflow\\python\\framework\\op_def_library.py:263: colocate_with (from tensorflow.python.framework.ops) is deprecated and will be removed in a future version.\n",
      "Instructions for updating:\n",
      "Colocations handled automatically by placer.\n",
      "_________________________________________________________________\n",
      "Layer (type)                 Output Shape              Param #   \n",
      "=================================================================\n",
      "lstm_1 (LSTM)                (None, 256)               265216    \n",
      "_________________________________________________________________\n",
      "dense_1 (Dense)              (None, 1)                 257       \n",
      "=================================================================\n",
      "Total params: 265,473\n",
      "Trainable params: 265,473\n",
      "Non-trainable params: 0\n",
      "_________________________________________________________________\n"
     ]
    }
   ],
   "source": [
    "model = Sequential()\n",
    "model.add(LSTM(256, input_shape=(batch_size, 2)))\n",
    "model.add(Dense(1, activation='sigmoid'))\n",
    "\n",
    "model.summary()"
   ]
  },
  {
   "cell_type": "markdown",
   "metadata": {},
   "source": [
    "## Model training"
   ]
  },
  {
   "cell_type": "code",
   "execution_count": 21,
   "metadata": {
    "scrolled": true
   },
   "outputs": [
    {
     "name": "stdout",
     "output_type": "stream",
     "text": [
      "Train on 420 samples, validate on 210 samples\n",
      "Epoch 1/200\n",
      "420/420 [==============================] - 3s 8ms/step - loss: 0.8724 - acc: 0.4976 - val_loss: 1.5033 - val_acc: 0.4524\n",
      "Epoch 2/200\n",
      "420/420 [==============================] - 2s 4ms/step - loss: 0.8898 - acc: 0.5238 - val_loss: 0.6756 - val_acc: 0.6286\n",
      "Epoch 3/200\n",
      "420/420 [==============================] - 2s 4ms/step - loss: 0.6924 - acc: 0.5524 - val_loss: 0.6733 - val_acc: 0.6095\n",
      "Epoch 4/200\n",
      "420/420 [==============================] - 2s 4ms/step - loss: 0.6999 - acc: 0.5167 - val_loss: 0.7108 - val_acc: 0.5476\n",
      "Epoch 5/200\n",
      "420/420 [==============================] - 2s 4ms/step - loss: 0.7162 - acc: 0.4833 - val_loss: 0.7543 - val_acc: 0.4524\n",
      "Epoch 6/200\n",
      "420/420 [==============================] - 2s 4ms/step - loss: 0.7120 - acc: 0.5119 - val_loss: 0.7070 - val_acc: 0.4524\n",
      "Epoch 7/200\n",
      "420/420 [==============================] - 2s 5ms/step - loss: 0.7242 - acc: 0.5310 - val_loss: 0.6978 - val_acc: 0.5476\n",
      "Epoch 8/200\n",
      "420/420 [==============================] - 2s 6ms/step - loss: 0.8597 - acc: 0.5548 - val_loss: 0.8411 - val_acc: 0.5476\n",
      "Epoch 9/200\n",
      "420/420 [==============================] - 2s 6ms/step - loss: 0.8067 - acc: 0.5286 - val_loss: 0.9251 - val_acc: 0.5476\n",
      "Epoch 10/200\n",
      "420/420 [==============================] - 2s 6ms/step - loss: 0.8531 - acc: 0.5190 - val_loss: 0.7890 - val_acc: 0.5524\n",
      "Epoch 11/200\n",
      "420/420 [==============================] - 2s 6ms/step - loss: 0.7793 - acc: 0.5071 - val_loss: 0.7860 - val_acc: 0.5524\n",
      "Epoch 12/200\n",
      "420/420 [==============================] - 2s 6ms/step - loss: 0.7979 - acc: 0.5071 - val_loss: 0.6910 - val_acc: 0.5762\n",
      "Epoch 13/200\n",
      "420/420 [==============================] - 2s 6ms/step - loss: 0.7301 - acc: 0.5310 - val_loss: 0.6845 - val_acc: 0.5714\n",
      "Epoch 14/200\n",
      "420/420 [==============================] - 2s 6ms/step - loss: 0.6834 - acc: 0.5619 - val_loss: 0.6904 - val_acc: 0.6190\n",
      "Epoch 15/200\n",
      "420/420 [==============================] - 2s 6ms/step - loss: 0.7466 - acc: 0.5071 - val_loss: 0.9225 - val_acc: 0.4524\n",
      "Epoch 16/200\n",
      "420/420 [==============================] - 2s 6ms/step - loss: 0.8371 - acc: 0.4786 - val_loss: 0.8248 - val_acc: 0.4524\n",
      "Epoch 17/200\n",
      "420/420 [==============================] - 2s 6ms/step - loss: 0.7603 - acc: 0.4548 - val_loss: 0.7376 - val_acc: 0.4524\n",
      "Epoch 18/200\n",
      "420/420 [==============================] - 2s 6ms/step - loss: 0.7123 - acc: 0.4952 - val_loss: 0.6844 - val_acc: 0.5571\n",
      "Epoch 19/200\n",
      "420/420 [==============================] - 2s 6ms/step - loss: 0.7051 - acc: 0.5167 - val_loss: 0.6842 - val_acc: 0.5571\n",
      "Epoch 20/200\n",
      "420/420 [==============================] - 2s 6ms/step - loss: 0.7092 - acc: 0.4500 - val_loss: 0.6855 - val_acc: 0.5571\n",
      "Epoch 21/200\n",
      "420/420 [==============================] - 2s 6ms/step - loss: 0.7064 - acc: 0.5071 - val_loss: 0.7210 - val_acc: 0.5571\n",
      "Epoch 22/200\n",
      "420/420 [==============================] - 2s 6ms/step - loss: 0.7444 - acc: 0.5095 - val_loss: 0.6854 - val_acc: 0.5571\n",
      "Epoch 23/200\n",
      "420/420 [==============================] - 2s 6ms/step - loss: 0.7825 - acc: 0.4667 - val_loss: 1.0631 - val_acc: 0.4524\n",
      "Epoch 24/200\n",
      "420/420 [==============================] - 2s 6ms/step - loss: 1.0365 - acc: 0.5143 - val_loss: 1.0416 - val_acc: 0.4524\n",
      "Epoch 25/200\n",
      "420/420 [==============================] - 2s 6ms/step - loss: 0.9257 - acc: 0.5214 - val_loss: 1.0313 - val_acc: 0.4524\n",
      "Epoch 26/200\n",
      "420/420 [==============================] - 2s 6ms/step - loss: 0.8305 - acc: 0.4952 - val_loss: 0.8605 - val_acc: 0.4524\n",
      "Epoch 27/200\n",
      "420/420 [==============================] - 2s 6ms/step - loss: 0.7791 - acc: 0.4690 - val_loss: 0.6894 - val_acc: 0.4524\n",
      "Epoch 28/200\n",
      "420/420 [==============================] - 2s 6ms/step - loss: 0.7104 - acc: 0.4952 - val_loss: 0.6871 - val_acc: 0.5571\n",
      "Epoch 29/200\n",
      "420/420 [==============================] - 2s 6ms/step - loss: 0.7292 - acc: 0.4881 - val_loss: 0.8072 - val_acc: 0.5571\n",
      "Epoch 30/200\n",
      "420/420 [==============================] - 2s 6ms/step - loss: 0.7656 - acc: 0.5310 - val_loss: 0.8539 - val_acc: 0.5571\n",
      "Epoch 31/200\n",
      "420/420 [==============================] - 2s 6ms/step - loss: 0.7986 - acc: 0.5095 - val_loss: 0.7982 - val_acc: 0.5571\n",
      "Epoch 32/200\n",
      "420/420 [==============================] - 2s 6ms/step - loss: 0.7602 - acc: 0.5119 - val_loss: 0.6827 - val_acc: 0.5571\n",
      "Epoch 33/200\n",
      "420/420 [==============================] - 2s 6ms/step - loss: 0.7422 - acc: 0.4810 - val_loss: 0.7610 - val_acc: 0.4524\n",
      "Epoch 34/200\n",
      "420/420 [==============================] - 2s 6ms/step - loss: 0.7455 - acc: 0.5167 - val_loss: 0.8115 - val_acc: 0.4524\n",
      "Epoch 35/200\n",
      "420/420 [==============================] - 2s 6ms/step - loss: 0.7497 - acc: 0.4857 - val_loss: 0.7604 - val_acc: 0.4524\n",
      "Epoch 36/200\n",
      "420/420 [==============================] - 2s 6ms/step - loss: 0.7056 - acc: 0.5238 - val_loss: 0.7277 - val_acc: 0.4524\n",
      "Epoch 37/200\n",
      "420/420 [==============================] - 2s 6ms/step - loss: 0.7023 - acc: 0.5071 - val_loss: 0.7132 - val_acc: 0.4524\n",
      "Epoch 38/200\n",
      "420/420 [==============================] - 2s 6ms/step - loss: 0.6980 - acc: 0.5095 - val_loss: 0.7281 - val_acc: 0.4524\n",
      "Epoch 39/200\n",
      "420/420 [==============================] - 2s 6ms/step - loss: 0.7027 - acc: 0.4952 - val_loss: 0.6883 - val_acc: 0.4524\n",
      "Epoch 40/200\n",
      "420/420 [==============================] - 2s 6ms/step - loss: 0.7153 - acc: 0.4952 - val_loss: 0.7002 - val_acc: 0.5571\n",
      "Epoch 41/200\n",
      "420/420 [==============================] - 3s 6ms/step - loss: 0.7158 - acc: 0.5310 - val_loss: 0.6995 - val_acc: 0.4524\n",
      "Epoch 42/200\n",
      "420/420 [==============================] - 3s 6ms/step - loss: 0.7097 - acc: 0.5095 - val_loss: 0.7102 - val_acc: 0.4524\n",
      "Epoch 43/200\n",
      "420/420 [==============================] - 2s 6ms/step - loss: 0.7087 - acc: 0.5190 - val_loss: 0.6821 - val_acc: 0.5571\n",
      "Epoch 44/200\n",
      "420/420 [==============================] - 3s 6ms/step - loss: 0.7297 - acc: 0.5238 - val_loss: 0.7446 - val_acc: 0.5571\n",
      "Epoch 45/200\n",
      "420/420 [==============================] - 3s 6ms/step - loss: 0.7617 - acc: 0.4881 - val_loss: 0.6821 - val_acc: 0.5571\n",
      "Epoch 46/200\n",
      "420/420 [==============================] - 3s 6ms/step - loss: 0.8727 - acc: 0.4643 - val_loss: 1.0763 - val_acc: 0.4524\n",
      "Epoch 47/200\n",
      "420/420 [==============================] - 2s 6ms/step - loss: 0.8816 - acc: 0.4952 - val_loss: 0.9315 - val_acc: 0.4524\n",
      "Epoch 48/200\n",
      "420/420 [==============================] - 2s 6ms/step - loss: 0.7637 - acc: 0.5024 - val_loss: 0.7231 - val_acc: 0.4524\n",
      "Epoch 49/200\n",
      "420/420 [==============================] - 2s 6ms/step - loss: 0.7471 - acc: 0.4929 - val_loss: 0.7466 - val_acc: 0.5571\n",
      "Epoch 50/200\n",
      "420/420 [==============================] - 2s 6ms/step - loss: 0.7456 - acc: 0.5310 - val_loss: 0.7394 - val_acc: 0.5571\n",
      "Epoch 51/200\n",
      "420/420 [==============================] - 2s 6ms/step - loss: 0.7542 - acc: 0.4952 - val_loss: 0.6914 - val_acc: 0.5571\n",
      "Epoch 52/200\n",
      "420/420 [==============================] - 2s 6ms/step - loss: 0.6990 - acc: 0.5048 - val_loss: 0.6820 - val_acc: 0.5571\n",
      "Epoch 53/200\n",
      "420/420 [==============================] - 3s 6ms/step - loss: 0.7016 - acc: 0.5167 - val_loss: 0.7117 - val_acc: 0.5571\n",
      "Epoch 54/200\n",
      "420/420 [==============================] - 2s 6ms/step - loss: 0.7696 - acc: 0.5024 - val_loss: 0.6850 - val_acc: 0.5571\n",
      "Epoch 55/200\n",
      "420/420 [==============================] - 3s 6ms/step - loss: 0.7256 - acc: 0.4905 - val_loss: 0.7239 - val_acc: 0.4524\n",
      "Epoch 56/200\n",
      "420/420 [==============================] - 2s 6ms/step - loss: 0.7038 - acc: 0.5119 - val_loss: 0.7269 - val_acc: 0.4524\n",
      "Epoch 57/200\n",
      "420/420 [==============================] - 3s 6ms/step - loss: 0.7264 - acc: 0.4833 - val_loss: 0.6832 - val_acc: 0.5571\n",
      "Epoch 58/200\n",
      "420/420 [==============================] - 3s 6ms/step - loss: 0.7172 - acc: 0.5167 - val_loss: 0.7114 - val_acc: 0.5571\n",
      "Epoch 59/200\n",
      "420/420 [==============================] - 3s 6ms/step - loss: 0.7276 - acc: 0.5143 - val_loss: 0.6821 - val_acc: 0.5571\n",
      "Epoch 60/200\n",
      "420/420 [==============================] - 3s 6ms/step - loss: 0.6990 - acc: 0.5071 - val_loss: 0.7888 - val_acc: 0.5571\n",
      "Epoch 61/200\n",
      "420/420 [==============================] - 2s 6ms/step - loss: 0.7478 - acc: 0.5524 - val_loss: 0.8062 - val_acc: 0.5571\n"
     ]
    },
    {
     "name": "stdout",
     "output_type": "stream",
     "text": [
      "Epoch 62/200\n",
      "420/420 [==============================] - 3s 6ms/step - loss: 0.8027 - acc: 0.5167 - val_loss: 0.6963 - val_acc: 0.5571\n",
      "Epoch 63/200\n",
      "420/420 [==============================] - 3s 6ms/step - loss: 0.7126 - acc: 0.4952 - val_loss: 0.7960 - val_acc: 0.4524\n",
      "Epoch 64/200\n",
      "420/420 [==============================] - 3s 6ms/step - loss: 0.8174 - acc: 0.5262 - val_loss: 1.0782 - val_acc: 0.4524\n",
      "Epoch 65/200\n",
      "420/420 [==============================] - 3s 6ms/step - loss: 0.8287 - acc: 0.5167 - val_loss: 0.9535 - val_acc: 0.4524\n",
      "Epoch 66/200\n",
      "420/420 [==============================] - 2s 6ms/step - loss: 0.7517 - acc: 0.4738 - val_loss: 0.6857 - val_acc: 0.5571\n",
      "Epoch 67/200\n",
      "420/420 [==============================] - 3s 6ms/step - loss: 0.7187 - acc: 0.5452 - val_loss: 0.6970 - val_acc: 0.5571\n",
      "Epoch 68/200\n",
      "420/420 [==============================] - 3s 7ms/step - loss: 0.7244 - acc: 0.4976 - val_loss: 0.6892 - val_acc: 0.5571\n",
      "Epoch 69/200\n",
      "420/420 [==============================] - 3s 7ms/step - loss: 0.7453 - acc: 0.4667 - val_loss: 0.7156 - val_acc: 0.4524\n",
      "Epoch 70/200\n",
      "420/420 [==============================] - 3s 6ms/step - loss: 0.7029 - acc: 0.5190 - val_loss: 0.6987 - val_acc: 0.4524\n",
      "Epoch 71/200\n",
      "420/420 [==============================] - 2s 6ms/step - loss: 0.7039 - acc: 0.5119 - val_loss: 0.7073 - val_acc: 0.4524\n",
      "Epoch 72/200\n",
      "420/420 [==============================] - 2s 5ms/step - loss: 0.7006 - acc: 0.4881 - val_loss: 0.6882 - val_acc: 0.4524\n",
      "Epoch 73/200\n",
      "420/420 [==============================] - 3s 6ms/step - loss: 0.6971 - acc: 0.4929 - val_loss: 0.6845 - val_acc: 0.5571\n",
      "Epoch 74/200\n",
      "420/420 [==============================] - 2s 6ms/step - loss: 0.7107 - acc: 0.4500 - val_loss: 0.7049 - val_acc: 0.5571\n",
      "Epoch 75/200\n",
      "420/420 [==============================] - 3s 6ms/step - loss: 0.7496 - acc: 0.5238 - val_loss: 0.8013 - val_acc: 0.5571\n",
      "Epoch 76/200\n",
      "420/420 [==============================] - 2s 6ms/step - loss: 0.7370 - acc: 0.5286 - val_loss: 0.7089 - val_acc: 0.5571\n",
      "Epoch 77/200\n",
      "420/420 [==============================] - 2s 6ms/step - loss: 0.7498 - acc: 0.4762 - val_loss: 0.8583 - val_acc: 0.4524\n",
      "Epoch 78/200\n",
      "420/420 [==============================] - 2s 6ms/step - loss: 0.7463 - acc: 0.5119 - val_loss: 0.7979 - val_acc: 0.4524\n",
      "Epoch 79/200\n",
      "420/420 [==============================] - 2s 6ms/step - loss: 0.7127 - acc: 0.5333 - val_loss: 0.8187 - val_acc: 0.4524\n",
      "Epoch 80/200\n",
      "420/420 [==============================] - 2s 6ms/step - loss: 0.7239 - acc: 0.5000 - val_loss: 0.6820 - val_acc: 0.5571\n",
      "Epoch 81/200\n",
      "420/420 [==============================] - 2s 6ms/step - loss: 0.7103 - acc: 0.4571 - val_loss: 0.6898 - val_acc: 0.4524\n",
      "Epoch 82/200\n",
      "420/420 [==============================] - 3s 7ms/step - loss: 0.7115 - acc: 0.5095 - val_loss: 0.7820 - val_acc: 0.4524\n",
      "Epoch 83/200\n",
      "420/420 [==============================] - 3s 7ms/step - loss: 0.7664 - acc: 0.4643 - val_loss: 0.6850 - val_acc: 0.5571\n",
      "Epoch 84/200\n",
      "420/420 [==============================] - 3s 8ms/step - loss: 0.7155 - acc: 0.4738 - val_loss: 0.6962 - val_acc: 0.5571\n",
      "Epoch 85/200\n",
      "420/420 [==============================] - 3s 6ms/step - loss: 0.7368 - acc: 0.4952 - val_loss: 0.6834 - val_acc: 0.5571\n",
      "Epoch 86/200\n",
      "420/420 [==============================] - 2s 6ms/step - loss: 0.7007 - acc: 0.4905 - val_loss: 0.7411 - val_acc: 0.4524\n",
      "Epoch 87/200\n",
      "420/420 [==============================] - 3s 7ms/step - loss: 0.7288 - acc: 0.5190 - val_loss: 0.6823 - val_acc: 0.5571\n",
      "Epoch 88/200\n",
      "420/420 [==============================] - 3s 8ms/step - loss: 0.8307 - acc: 0.4429 - val_loss: 0.6815 - val_acc: 0.5571\n",
      "Epoch 89/200\n",
      "420/420 [==============================] - 3s 7ms/step - loss: 0.7355 - acc: 0.5190 - val_loss: 0.8067 - val_acc: 0.4524\n",
      "Epoch 90/200\n",
      "420/420 [==============================] - 3s 6ms/step - loss: 0.7459 - acc: 0.5143 - val_loss: 0.8425 - val_acc: 0.4524\n",
      "Epoch 91/200\n",
      "420/420 [==============================] - 3s 6ms/step - loss: 0.8128 - acc: 0.5071 - val_loss: 0.6831 - val_acc: 0.5571\n",
      "Epoch 92/200\n",
      "420/420 [==============================] - 3s 6ms/step - loss: 0.8808 - acc: 0.4643 - val_loss: 0.8215 - val_acc: 0.5571\n",
      "Epoch 93/200\n",
      "420/420 [==============================] - 3s 7ms/step - loss: 0.7228 - acc: 0.5214 - val_loss: 0.6941 - val_acc: 0.4524\n",
      "Epoch 94/200\n",
      "420/420 [==============================] - 3s 8ms/step - loss: 0.7537 - acc: 0.4929 - val_loss: 0.9040 - val_acc: 0.4524\n",
      "Epoch 95/200\n",
      "420/420 [==============================] - 3s 6ms/step - loss: 0.7399 - acc: 0.5476 - val_loss: 0.7983 - val_acc: 0.4524\n",
      "Epoch 96/200\n",
      "420/420 [==============================] - 2s 6ms/step - loss: 0.7336 - acc: 0.4881 - val_loss: 0.6989 - val_acc: 0.5571\n",
      "Epoch 97/200\n",
      "420/420 [==============================] - 3s 7ms/step - loss: 0.7272 - acc: 0.5024 - val_loss: 0.7305 - val_acc: 0.5571\n",
      "Epoch 98/200\n",
      "420/420 [==============================] - 3s 8ms/step - loss: 0.8295 - acc: 0.4571 - val_loss: 0.8777 - val_acc: 0.4524\n",
      "Epoch 99/200\n",
      "420/420 [==============================] - 3s 6ms/step - loss: 0.8374 - acc: 0.5310 - val_loss: 1.1348 - val_acc: 0.4524\n",
      "Epoch 100/200\n",
      "420/420 [==============================] - 3s 6ms/step - loss: 0.8444 - acc: 0.5262 - val_loss: 0.9269 - val_acc: 0.4524\n",
      "Epoch 101/200\n",
      "420/420 [==============================] - 2s 6ms/step - loss: 0.7864 - acc: 0.4857 - val_loss: 0.6818 - val_acc: 0.5571\n",
      "Epoch 102/200\n",
      "420/420 [==============================] - 3s 6ms/step - loss: 0.7312 - acc: 0.4595 - val_loss: 0.7014 - val_acc: 0.4524\n",
      "Epoch 103/200\n",
      "420/420 [==============================] - 2s 6ms/step - loss: 0.7272 - acc: 0.4738 - val_loss: 0.6862 - val_acc: 0.5571\n",
      "Epoch 104/200\n",
      "420/420 [==============================] - 2s 6ms/step - loss: 0.7569 - acc: 0.5119 - val_loss: 0.7755 - val_acc: 0.5571\n",
      "Epoch 105/200\n",
      "420/420 [==============================] - 3s 6ms/step - loss: 0.7272 - acc: 0.5024 - val_loss: 0.6851 - val_acc: 0.5571\n",
      "Epoch 106/200\n",
      "420/420 [==============================] - 3s 6ms/step - loss: 0.6923 - acc: 0.5333 - val_loss: 0.6925 - val_acc: 0.5571\n",
      "Epoch 107/200\n",
      "420/420 [==============================] - 3s 6ms/step - loss: 0.7252 - acc: 0.4643 - val_loss: 0.7742 - val_acc: 0.4524\n",
      "Epoch 108/200\n",
      "420/420 [==============================] - 2s 6ms/step - loss: 0.7234 - acc: 0.5000 - val_loss: 0.6822 - val_acc: 0.5571\n",
      "Epoch 109/200\n",
      "420/420 [==============================] - 3s 7ms/step - loss: 0.7272 - acc: 0.5000 - val_loss: 0.7430 - val_acc: 0.5571\n",
      "Epoch 110/200\n",
      "420/420 [==============================] - 3s 6ms/step - loss: 0.7433 - acc: 0.5143 - val_loss: 0.7289 - val_acc: 0.5571\n",
      "Epoch 111/200\n",
      "420/420 [==============================] - 2s 6ms/step - loss: 0.7329 - acc: 0.4476 - val_loss: 0.8199 - val_acc: 0.4524\n",
      "Epoch 112/200\n",
      "420/420 [==============================] - 3s 6ms/step - loss: 0.7451 - acc: 0.4952 - val_loss: 0.6944 - val_acc: 0.4524\n",
      "Epoch 113/200\n",
      "420/420 [==============================] - 3s 6ms/step - loss: 0.7120 - acc: 0.5000 - val_loss: 0.7038 - val_acc: 0.4524\n",
      "Epoch 114/200\n",
      "420/420 [==============================] - 2s 6ms/step - loss: 0.6955 - acc: 0.5143 - val_loss: 0.7510 - val_acc: 0.4524\n",
      "Epoch 115/200\n",
      "420/420 [==============================] - 2s 6ms/step - loss: 0.7047 - acc: 0.5119 - val_loss: 0.8773 - val_acc: 0.4524\n",
      "Epoch 116/200\n",
      "420/420 [==============================] - 3s 6ms/step - loss: 0.7368 - acc: 0.5262 - val_loss: 0.7248 - val_acc: 0.4524\n",
      "Epoch 117/200\n",
      "420/420 [==============================] - 2s 6ms/step - loss: 0.7257 - acc: 0.4833 - val_loss: 0.6877 - val_acc: 0.4524\n",
      "Epoch 118/200\n",
      "420/420 [==============================] - 2s 6ms/step - loss: 0.7015 - acc: 0.5238 - val_loss: 0.7091 - val_acc: 0.4524\n",
      "Epoch 119/200\n",
      "420/420 [==============================] - 3s 6ms/step - loss: 0.7035 - acc: 0.5071 - val_loss: 0.7000 - val_acc: 0.4524\n",
      "Epoch 120/200\n",
      "420/420 [==============================] - 3s 6ms/step - loss: 0.7036 - acc: 0.4833 - val_loss: 0.6847 - val_acc: 0.5571\n",
      "Epoch 121/200\n",
      "420/420 [==============================] - 2s 6ms/step - loss: 0.7062 - acc: 0.4786 - val_loss: 0.6908 - val_acc: 0.4524\n",
      "Epoch 122/200\n",
      "420/420 [==============================] - 2s 6ms/step - loss: 0.7164 - acc: 0.4619 - val_loss: 0.6866 - val_acc: 0.5571\n"
     ]
    },
    {
     "name": "stdout",
     "output_type": "stream",
     "text": [
      "Epoch 123/200\n",
      "420/420 [==============================] - 2s 6ms/step - loss: 0.7036 - acc: 0.5143 - val_loss: 0.7163 - val_acc: 0.4524\n",
      "Epoch 124/200\n",
      "420/420 [==============================] - 2s 5ms/step - loss: 0.7128 - acc: 0.5024 - val_loss: 0.7699 - val_acc: 0.4524\n",
      "Epoch 125/200\n",
      "420/420 [==============================] - 2s 6ms/step - loss: 0.7390 - acc: 0.4429 - val_loss: 0.7207 - val_acc: 0.5571\n",
      "Epoch 126/200\n",
      "420/420 [==============================] - 3s 6ms/step - loss: 0.7293 - acc: 0.5262 - val_loss: 0.7536 - val_acc: 0.5571\n",
      "Epoch 127/200\n",
      "420/420 [==============================] - 3s 6ms/step - loss: 0.8817 - acc: 0.5190 - val_loss: 0.6906 - val_acc: 0.5571\n",
      "Epoch 128/200\n",
      "420/420 [==============================] - 3s 6ms/step - loss: 0.7211 - acc: 0.5214 - val_loss: 0.7420 - val_acc: 0.4524\n",
      "Epoch 129/200\n",
      "420/420 [==============================] - 3s 6ms/step - loss: 0.7100 - acc: 0.4762 - val_loss: 0.6989 - val_acc: 0.4524\n",
      "Epoch 130/200\n",
      "420/420 [==============================] - 3s 6ms/step - loss: 0.6986 - acc: 0.5119 - val_loss: 0.6958 - val_acc: 0.4524\n",
      "Epoch 131/200\n",
      "420/420 [==============================] - 2s 6ms/step - loss: 0.6965 - acc: 0.5000 - val_loss: 0.6952 - val_acc: 0.4524\n",
      "Epoch 132/200\n",
      "420/420 [==============================] - 3s 7ms/step - loss: 0.7055 - acc: 0.4929 - val_loss: 0.6855 - val_acc: 0.5571\n",
      "Epoch 133/200\n",
      "420/420 [==============================] - 3s 7ms/step - loss: 0.7537 - acc: 0.5119 - val_loss: 0.7592 - val_acc: 0.5571\n",
      "Epoch 134/200\n",
      "420/420 [==============================] - 3s 7ms/step - loss: 0.7693 - acc: 0.5119 - val_loss: 0.8787 - val_acc: 0.5571\n",
      "Epoch 135/200\n",
      "420/420 [==============================] - 3s 6ms/step - loss: 0.7959 - acc: 0.5167 - val_loss: 0.6912 - val_acc: 0.5571\n",
      "Epoch 136/200\n",
      "420/420 [==============================] - 2s 6ms/step - loss: 0.8264 - acc: 0.4595 - val_loss: 1.0625 - val_acc: 0.4524\n",
      "Epoch 137/200\n",
      "420/420 [==============================] - 3s 6ms/step - loss: 0.9171 - acc: 0.4881 - val_loss: 0.9129 - val_acc: 0.4524\n",
      "Epoch 138/200\n",
      "420/420 [==============================] - 2s 6ms/step - loss: 0.7541 - acc: 0.5024 - val_loss: 0.6832 - val_acc: 0.5571\n",
      "Epoch 139/200\n",
      "420/420 [==============================] - 3s 6ms/step - loss: 0.6976 - acc: 0.4905 - val_loss: 0.6948 - val_acc: 0.4524\n",
      "Epoch 140/200\n",
      "420/420 [==============================] - 2s 6ms/step - loss: 0.7037 - acc: 0.5000 - val_loss: 0.7131 - val_acc: 0.4524\n",
      "Epoch 141/200\n",
      "420/420 [==============================] - 2s 6ms/step - loss: 0.7622 - acc: 0.4714 - val_loss: 0.7827 - val_acc: 0.5571\n",
      "Epoch 142/200\n",
      "420/420 [==============================] - 3s 6ms/step - loss: 0.7763 - acc: 0.5190 - val_loss: 0.7367 - val_acc: 0.5571\n",
      "Epoch 143/200\n",
      "420/420 [==============================] - 3s 8ms/step - loss: 0.7543 - acc: 0.4714 - val_loss: 0.7139 - val_acc: 0.4524\n",
      "Epoch 144/200\n",
      "420/420 [==============================] - 2s 6ms/step - loss: 0.6963 - acc: 0.5000 - val_loss: 0.6816 - val_acc: 0.5571\n",
      "Epoch 145/200\n",
      "420/420 [==============================] - 3s 6ms/step - loss: 0.7102 - acc: 0.4905 - val_loss: 0.6921 - val_acc: 0.4524\n",
      "Epoch 146/200\n",
      "420/420 [==============================] - 2s 6ms/step - loss: 0.6928 - acc: 0.5381 - val_loss: 0.6840 - val_acc: 0.5571\n",
      "Epoch 147/200\n",
      "420/420 [==============================] - 2s 6ms/step - loss: 0.7198 - acc: 0.4857 - val_loss: 0.8087 - val_acc: 0.4524\n",
      "Epoch 148/200\n",
      "420/420 [==============================] - 2s 6ms/step - loss: 0.7383 - acc: 0.4762 - val_loss: 0.6828 - val_acc: 0.5571\n",
      "Epoch 149/200\n",
      "420/420 [==============================] - 3s 7ms/step - loss: 0.7195 - acc: 0.4476 - val_loss: 0.7023 - val_acc: 0.4524\n",
      "Epoch 150/200\n",
      "420/420 [==============================] - 3s 7ms/step - loss: 0.7288 - acc: 0.4881 - val_loss: 0.6812 - val_acc: 0.5571\n",
      "Epoch 151/200\n",
      "420/420 [==============================] - 3s 6ms/step - loss: 0.7630 - acc: 0.4786 - val_loss: 0.7393 - val_acc: 0.5571\n",
      "Epoch 152/200\n",
      "420/420 [==============================] - 3s 6ms/step - loss: 0.7122 - acc: 0.5381 - val_loss: 0.6860 - val_acc: 0.5571\n",
      "Epoch 153/200\n",
      "420/420 [==============================] - 3s 6ms/step - loss: 0.7344 - acc: 0.5238 - val_loss: 0.6881 - val_acc: 0.4524\n",
      "Epoch 154/200\n",
      "420/420 [==============================] - 3s 6ms/step - loss: 0.7178 - acc: 0.5262 - val_loss: 0.6889 - val_acc: 0.4524\n",
      "Epoch 155/200\n",
      "420/420 [==============================] - 3s 6ms/step - loss: 0.6934 - acc: 0.5333 - val_loss: 0.6935 - val_acc: 0.5571\n",
      "Epoch 156/200\n",
      "420/420 [==============================] - 3s 6ms/step - loss: 0.6942 - acc: 0.5357 - val_loss: 0.7001 - val_acc: 0.5571\n",
      "Epoch 157/200\n",
      "420/420 [==============================] - 3s 6ms/step - loss: 0.7788 - acc: 0.4833 - val_loss: 0.7781 - val_acc: 0.4524\n",
      "Epoch 158/200\n",
      "420/420 [==============================] - 2s 6ms/step - loss: 0.7579 - acc: 0.4762 - val_loss: 0.6940 - val_acc: 0.4524\n",
      "Epoch 159/200\n",
      "420/420 [==============================] - 2s 6ms/step - loss: 0.7087 - acc: 0.4976 - val_loss: 0.6872 - val_acc: 0.5571\n",
      "Epoch 160/200\n",
      "420/420 [==============================] - 2s 6ms/step - loss: 0.7287 - acc: 0.5357 - val_loss: 0.8342 - val_acc: 0.5571\n",
      "Epoch 161/200\n",
      "420/420 [==============================] - 3s 6ms/step - loss: 0.8452 - acc: 0.5024 - val_loss: 0.8243 - val_acc: 0.5571\n",
      "Epoch 162/200\n",
      "420/420 [==============================] - 3s 7ms/step - loss: 0.9157 - acc: 0.4714 - val_loss: 0.8731 - val_acc: 0.4524\n",
      "Epoch 163/200\n",
      "420/420 [==============================] - 3s 7ms/step - loss: 0.9503 - acc: 0.5214 - val_loss: 1.2924 - val_acc: 0.4524\n",
      "Epoch 164/200\n",
      "420/420 [==============================] - 3s 7ms/step - loss: 0.8745 - acc: 0.5548 - val_loss: 0.9452 - val_acc: 0.4524\n",
      "Epoch 165/200\n",
      "420/420 [==============================] - 2s 6ms/step - loss: 0.7726 - acc: 0.4738 - val_loss: 0.6813 - val_acc: 0.5571\n",
      "Epoch 166/200\n",
      "420/420 [==============================] - 3s 6ms/step - loss: 0.7616 - acc: 0.5333 - val_loss: 0.6861 - val_acc: 0.5571\n",
      "Epoch 167/200\n",
      "420/420 [==============================] - 3s 6ms/step - loss: 0.7178 - acc: 0.4976 - val_loss: 0.7291 - val_acc: 0.5571\n",
      "Epoch 168/200\n",
      "420/420 [==============================] - 3s 7ms/step - loss: 0.7171 - acc: 0.4881 - val_loss: 0.6831 - val_acc: 0.5571\n",
      "Epoch 169/200\n",
      "420/420 [==============================] - 3s 6ms/step - loss: 0.7000 - acc: 0.4952 - val_loss: 0.6813 - val_acc: 0.5571\n",
      "Epoch 170/200\n",
      "420/420 [==============================] - 3s 6ms/step - loss: 0.6900 - acc: 0.5238 - val_loss: 0.6970 - val_acc: 0.5571\n",
      "Epoch 171/200\n",
      "420/420 [==============================] - 4s 9ms/step - loss: 0.7104 - acc: 0.4857 - val_loss: 0.6816 - val_acc: 0.5571\n",
      "Epoch 172/200\n",
      "420/420 [==============================] - 4s 10ms/step - loss: 0.7353 - acc: 0.4738 - val_loss: 0.7667 - val_acc: 0.4524\n",
      "Epoch 173/200\n",
      "420/420 [==============================] - 3s 6ms/step - loss: 0.7150 - acc: 0.5048 - val_loss: 0.7019 - val_acc: 0.5571\n",
      "Epoch 174/200\n",
      "420/420 [==============================] - 3s 6ms/step - loss: 0.7922 - acc: 0.5143 - val_loss: 0.8555 - val_acc: 0.5571\n",
      "Epoch 175/200\n",
      "420/420 [==============================] - 3s 7ms/step - loss: 0.8185 - acc: 0.5214 - val_loss: 0.7643 - val_acc: 0.5571\n",
      "Epoch 176/200\n",
      "420/420 [==============================] - 3s 6ms/step - loss: 0.6961 - acc: 0.5429 - val_loss: 0.7005 - val_acc: 0.4524\n",
      "Epoch 177/200\n",
      "420/420 [==============================] - 2s 6ms/step - loss: 0.6989 - acc: 0.5381 - val_loss: 0.6883 - val_acc: 0.4524\n",
      "Epoch 178/200\n",
      "420/420 [==============================] - 3s 6ms/step - loss: 0.6977 - acc: 0.5500 - val_loss: 0.7045 - val_acc: 0.5571\n",
      "Epoch 179/200\n",
      "420/420 [==============================] - 2s 6ms/step - loss: 0.7002 - acc: 0.5214 - val_loss: 0.6827 - val_acc: 0.5571\n",
      "Epoch 180/200\n",
      "420/420 [==============================] - 3s 6ms/step - loss: 0.6938 - acc: 0.5190 - val_loss: 0.7219 - val_acc: 0.5571\n",
      "Epoch 181/200\n",
      "420/420 [==============================] - 3s 7ms/step - loss: 0.7218 - acc: 0.5357 - val_loss: 0.7409 - val_acc: 0.4524\n",
      "Epoch 182/200\n",
      "420/420 [==============================] - 3s 7ms/step - loss: 0.7039 - acc: 0.5357 - val_loss: 0.7068 - val_acc: 0.4524\n",
      "Epoch 183/200\n"
     ]
    },
    {
     "name": "stdout",
     "output_type": "stream",
     "text": [
      "420/420 [==============================] - 3s 7ms/step - loss: 0.7139 - acc: 0.5000 - val_loss: 0.8089 - val_acc: 0.4524\n",
      "Epoch 184/200\n",
      "420/420 [==============================] - 3s 7ms/step - loss: 0.7752 - acc: 0.4571 - val_loss: 0.7585 - val_acc: 0.5571\n",
      "Epoch 185/200\n",
      "420/420 [==============================] - 2s 6ms/step - loss: 0.7360 - acc: 0.5119 - val_loss: 0.7063 - val_acc: 0.5571\n",
      "Epoch 186/200\n",
      "420/420 [==============================] - 2s 6ms/step - loss: 0.7398 - acc: 0.5190 - val_loss: 0.7201 - val_acc: 0.4524\n",
      "Epoch 187/200\n",
      "420/420 [==============================] - 2s 6ms/step - loss: 0.7354 - acc: 0.5024 - val_loss: 0.8610 - val_acc: 0.4524\n",
      "Epoch 188/200\n",
      "420/420 [==============================] - 2s 6ms/step - loss: 0.7583 - acc: 0.5214 - val_loss: 0.7055 - val_acc: 0.4524\n",
      "Epoch 189/200\n",
      "420/420 [==============================] - 2s 6ms/step - loss: 0.7053 - acc: 0.5524 - val_loss: 0.6971 - val_acc: 0.4524\n",
      "Epoch 190/200\n",
      "420/420 [==============================] - 2s 6ms/step - loss: 0.7026 - acc: 0.5190 - val_loss: 0.7416 - val_acc: 0.4524\n",
      "Epoch 191/200\n",
      "420/420 [==============================] - 2s 6ms/step - loss: 0.6863 - acc: 0.5500 - val_loss: 0.6866 - val_acc: 0.5571\n",
      "Epoch 192/200\n",
      "420/420 [==============================] - 2s 6ms/step - loss: 0.7259 - acc: 0.5190 - val_loss: 0.6822 - val_acc: 0.5571\n",
      "Epoch 193/200\n",
      "420/420 [==============================] - 2s 6ms/step - loss: 0.7300 - acc: 0.5190 - val_loss: 0.8569 - val_acc: 0.4524\n",
      "Epoch 194/200\n",
      "420/420 [==============================] - 2s 6ms/step - loss: 0.8126 - acc: 0.4762 - val_loss: 0.7823 - val_acc: 0.4524\n",
      "Epoch 195/200\n",
      "420/420 [==============================] - 2s 6ms/step - loss: 0.7441 - acc: 0.4857 - val_loss: 0.7423 - val_acc: 0.5571\n",
      "Epoch 196/200\n",
      "420/420 [==============================] - 2s 6ms/step - loss: 0.7528 - acc: 0.5119 - val_loss: 0.6969 - val_acc: 0.5571\n",
      "Epoch 197/200\n",
      "420/420 [==============================] - 2s 6ms/step - loss: 0.7392 - acc: 0.4976 - val_loss: 0.7855 - val_acc: 0.4524\n",
      "Epoch 198/200\n",
      "420/420 [==============================] - 2s 6ms/step - loss: 0.7504 - acc: 0.5095 - val_loss: 0.8357 - val_acc: 0.4524\n",
      "Epoch 199/200\n",
      "420/420 [==============================] - 2s 6ms/step - loss: 0.7165 - acc: 0.5095 - val_loss: 0.6956 - val_acc: 0.4524\n",
      "Epoch 200/200\n",
      "420/420 [==============================] - 2s 6ms/step - loss: 0.6938 - acc: 0.4952 - val_loss: 0.6848 - val_acc: 0.5571\n"
     ]
    }
   ],
   "source": [
    "adam = Adam(lr=0.1)\n",
    "chk = ModelCheckpoint(f'../models/best_model_{version}.pkl', monitor='acc', save_best_only=True, mode='max', verbose=0) #monitor='val_acc'\n",
    "model.compile(loss='binary_crossentropy', optimizer=adam, metrics=['accuracy'])\n",
    "history_training = model.fit(X_train, y_train, epochs=200, batch_size=64, callbacks=[chk], validation_data=(X_dev, y_dev))"
   ]
  },
  {
   "cell_type": "markdown",
   "metadata": {},
   "source": [
    "## Training history plot"
   ]
  },
  {
   "cell_type": "code",
   "execution_count": 22,
   "metadata": {},
   "outputs": [
    {
     "name": "stdout",
     "output_type": "stream",
     "text": [
      "Best accuracy on the dev set: 62.9%\n",
      "Best accuracy on the training set: 56.2%\n"
     ]
    },
    {
     "data": {
      "image/png": "[encoded data removed]",
      "text/plain": [
       "<Figure size 864x288 with 2 Axes>"
      ]
     },
     "metadata": {
      "needs_background": "light"
     },
     "output_type": "display_data"
    }
   ],
   "source": [
    "fig, (ax1, ax2) = plt.subplots(1, 2, figsize=(12,4))\n",
    "\n",
    "ax1.plot(history_training.history['acc'], label='train')\n",
    "ax1.plot(history_training.history['val_acc'], label='dev')\n",
    "\n",
    "ax2.plot(history_training.history['loss'], label='train')\n",
    "ax2.plot(history_training.history['val_loss'], label='dev')\n",
    "\n",
    "ax1.set_xlabel('Epoch')\n",
    "ax2.set_xlabel('Epoch')\n",
    "ax1.legend()\n",
    "ax2.legend()\n",
    "\n",
    "ax1.set_ylabel('Accuracy')\n",
    "ax2.set_ylabel('Loss')\n",
    "\n",
    "best_acc = max(history_training.history['val_acc'])\n",
    "print(f'Best accuracy on the dev set: {best_acc*100:.1f}%')\n",
    "best_acc_training = max(history_training.history['acc'])\n",
    "print(f'Best accuracy on the training set: {best_acc_training*100:.1f}%')\n",
    "#fig.savefig(f'../plots/model_{version}.png', bbox_inches='tight')"
   ]
  },
  {
   "cell_type": "markdown",
   "metadata": {},
   "source": [
    "## Evaluation of the model"
   ]
  },
  {
   "cell_type": "code",
   "execution_count": 23,
   "metadata": {},
   "outputs": [],
   "source": [
    "model = load_model(f'../models/best_model_{version}.pkl') # load best model"
   ]
  },
  {
   "cell_type": "code",
   "execution_count": 24,
   "metadata": {},
   "outputs": [
    {
     "name": "stdout",
     "output_type": "stream",
     "text": [
      "Accuracy on the dev set: 61.9%\n",
      "Accuracy on the training set: 57.4%\n"
     ]
    }
   ],
   "source": [
    "dev_preds = model.predict_classes(X_dev)\n",
    "acc_dev = accuracy_score(y_dev, dev_preds)\n",
    "print(f'Accuracy on the dev set: {acc_dev*100:.1f}%')\n",
    "\n",
    "training_preds = model.predict_classes(X_train)\n",
    "acc_training = accuracy_score(y_train, training_preds)\n",
    "print(f'Accuracy on the training set: {acc_training*100:.1f}%')"
   ]
  },
  {
   "cell_type": "code",
   "execution_count": 25,
   "metadata": {},
   "outputs": [
    {
     "data": {
      "image/png": "[encoded data removed]",
      "text/plain": [
       "<Figure size 216x216 with 2 Axes>"
      ]
     },
     "metadata": {
      "needs_background": "light"
     },
     "output_type": "display_data"
    }
   ],
   "source": [
    "import itertools\n",
    "from sklearn.metrics import confusion_matrix\n",
    "\n",
    "cm = confusion_matrix(y_dev, dev_preds)\n",
    "\n",
    "classes=['Right', 'Left']\n",
    "fig, ax = plt.subplots(1, figsize=(3,3))\n",
    "tick_marks = np.arange(len(classes))\n",
    "plt.xticks(tick_marks, classes)\n",
    "plt.yticks(tick_marks, classes)\n",
    "\n",
    "cm_norm = cm / cm.sum(axis=1)*100\n",
    "im = ax.imshow(cm_norm, cmap='Blues', interpolation='none', clim=(0,100))\n",
    "ax.set_title(f'Confusion matrix ({y_dev.shape[0]} samples)', size=13)\n",
    "\n",
    "\n",
    "for i, j in itertools.product(range(cm.shape[0]), range(cm.shape[1])):\n",
    "    ax.text(j, i, f'{cm[i,j]}\\n{cm_norm[i, j]:.1f}%', size=13,\n",
    "             horizontalalignment=\"center\", verticalalignment=\"center\",\n",
    "             color=\"white\" if cm[i, j] > 60 else \"black\")\n",
    "ax.set_ylabel('True label', size=12)\n",
    "ax.set_xlabel('Predicted label', size=12)\n",
    "\n",
    "cb_ax = fig.add_axes([0.95, 0.12, 0.1, 0.76])\n",
    "cb = fig.colorbar(im, cax=cb_ax, orientation='vertical')\n",
    "cb.set_label('%')\n",
    "\n",
    "fig.savefig(f'../plots/conf_matrix_{version}.png', bbox_inches='tight')"
   ]
  },
  {
   "cell_type": "code",
   "execution_count": null,
   "metadata": {},
   "outputs": [],
   "source": []
  }
 ],
 "metadata": {
  "kernelspec": {
   "display_name": "Python 3",
   "language": "python",
   "name": "python3"
  },
  "language_info": {
   "codemirror_mode": {
    "name": "ipython",
    "version": 3
   },
   "file_extension": ".py",
   "mimetype": "text/x-python",
   "name": "python",
   "nbconvert_exporter": "python",
   "pygments_lexer": "ipython3",
   "version": "3.7.3"
  }
 },
 "nbformat": 4,
 "nbformat_minor": 2
}
