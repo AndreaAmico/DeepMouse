{
 "cells": [
  {
   "cell_type": "code",
   "execution_count": 12,
   "metadata": {},
   "outputs": [],
   "source": [
    "import tensorflow as tf\n",
    "import pandas as pd\n",
    "import numpy as np\n",
    "import matplotlib.pyplot as plt\n",
    "\n",
    "from keras.preprocessing import sequence\n",
    "from keras.models import Sequential\n",
    "from keras.layers import Dense\n",
    "from keras.layers import LSTM\n",
    "\n",
    "from keras.optimizers import Adam\n",
    "from keras.models import load_model\n",
    "from keras.callbacks import ModelCheckpoint\n",
    "\n",
    "from sklearn.model_selection import train_test_split\n",
    "from sklearn.metrics import accuracy_score\n",
    "\n",
    "%matplotlib inline\n",
    "version = '02'"
   ]
  },
  {
   "cell_type": "code",
   "execution_count": 29,
   "metadata": {},
   "outputs": [],
   "source": [
    "def play_bell():\n",
    "    import winsound\n",
    "    duration = 200  # millisecond\n",
    "    freq = 440  # Hz\n",
    "    for i in range(5):\n",
    "        winsound.Beep(int(freq*(i/2+1)), duration)"
   ]
  },
  {
   "cell_type": "markdown",
   "metadata": {},
   "source": [
    "## Dataset loading"
   ]
  },
  {
   "cell_type": "code",
   "execution_count": 13,
   "metadata": {},
   "outputs": [],
   "source": [
    "right = pd.read_csv(\"../data/right.txt\", header=None).values.tolist()\n",
    "left = pd.read_csv(\"../data/left.txt\", header=None).values.tolist()"
   ]
  },
  {
   "cell_type": "markdown",
   "metadata": {},
   "source": [
    "## Pre-processing"
   ]
  },
  {
   "cell_type": "code",
   "execution_count": 14,
   "metadata": {},
   "outputs": [],
   "source": [
    "batch_size = 200\n",
    "batch_right = [right[i:i + batch_size] for i in range(0, len(right), batch_size)]\n",
    "batch_left = [left[i:i + batch_size] for i in range(0, len(left), batch_size)]\n",
    "\n",
    "X = np.array(batch_right + batch_left)\n",
    "y = np.array([0]*len(batch_right) + [1]*len(batch_left))"
   ]
  },
  {
   "cell_type": "code",
   "execution_count": 15,
   "metadata": {},
   "outputs": [
    {
     "name": "stdout",
     "output_type": "stream",
     "text": [
      "X shape: (600, 200, 2)\n",
      "y shape: (600,)\n"
     ]
    }
   ],
   "source": [
    "print(f'X shape: {X.shape}\\ny shape: {y.shape}')"
   ]
  },
  {
   "cell_type": "code",
   "execution_count": 16,
   "metadata": {},
   "outputs": [],
   "source": [
    "X_diff = X[:,:-1,:].copy()\n",
    "X_diff[:,:,0] = np.diff(X[:,:,0])\n",
    "X_diff[:,:,1] = np.diff(X[:,:,1])"
   ]
  },
  {
   "cell_type": "code",
   "execution_count": 17,
   "metadata": {},
   "outputs": [
    {
     "data": {
      "text/plain": [
       "Text(0.5, 0, 'y relative movement (px)')"
      ]
     },
     "execution_count": 17,
     "metadata": {},
     "output_type": "execute_result"
    },
    {
     "data": {
      "image/png": "[encoded data removed]",
      "text/plain": [
       "<Figure size 864x288 with 2 Axes>"
      ]
     },
     "metadata": {
      "needs_background": "light"
     },
     "output_type": "display_data"
    }
   ],
   "source": [
    "sigma_x = np.std(X_diff[:,:,0], axis=1)\n",
    "sigma_y = np.std(X_diff[:,:,1], axis=1)\n",
    "mask = (sigma_x>0.1)*(sigma_y>0.1)\n",
    "\n",
    "X_filt = X_diff[mask]\n",
    "y_filt = y[mask]\n",
    "\n",
    "x_std = 3.398 # np.mean(np.std(X_filt[:,:,0], axis=1))\n",
    "y_std = 2.926 # np.mean(np.std(X_filt[:,:,1], axis=1))\n",
    "\n",
    "X_filt[:,:,0] = X_filt[:,:,0] / x_std\n",
    "X_filt[:,:,1] = X_filt[:,:,1] / y_std\n",
    "\n",
    "sigma_x_filt = np.std(X_filt[:,:,0], axis=1)\n",
    "sigma_y_filt = np.std(X_filt[:,:,1], axis=1)\n",
    "\n",
    "\n",
    "fig, (ax1, ax2) = plt.subplots(1, 2,  figsize=(12, 4))\n",
    "ax1.hist(sigma_x_filt, bins=50, density=True)\n",
    "ax2.hist(sigma_y_filt, bins=50, density=True)\n",
    "for ax in (ax1,ax2):\n",
    "    ax.set_xlim(0,5)\n",
    "    ax.set_ylabel('Occurrence (%)')\n",
    "    #ax.set_yticks(np.arange(0,0.41,0.1))\n",
    "ax1.set_xlabel('x relative movement (px)')\n",
    "ax2.set_xlabel('y relative movement (px)')\n",
    "\n",
    "#fig.savefig(f'../plots/relative_movement_hist_corrected.png', bbox_inches='tight')"
   ]
  },
  {
   "cell_type": "code",
   "execution_count": 18,
   "metadata": {},
   "outputs": [
    {
     "data": {
      "text/plain": [
       "1.4900517595356684"
      ]
     },
     "execution_count": 18,
     "metadata": {},
     "output_type": "execute_result"
    }
   ],
   "source": [
    "np.mean(np.std(X_filt[:,:,0], axis=1))"
   ]
  },
  {
   "cell_type": "markdown",
   "metadata": {},
   "source": [
    "## Training/dev/test set splitting"
   ]
  },
  {
   "cell_type": "code",
   "execution_count": 19,
   "metadata": {},
   "outputs": [],
   "source": [
    "X = X_filt\n",
    "y = y_filt\n",
    "\n",
    "X_train, X_test, y_train, y_test = train_test_split(X, y, test_size=0.30, random_state=1, shuffle=True)\n",
    "X_dev, X_test, y_dev, y_test = train_test_split(X_train, y_train, test_size=0.5, random_state=1, shuffle=True)"
   ]
  },
  {
   "cell_type": "markdown",
   "metadata": {},
   "source": [
    "## Model definition"
   ]
  },
  {
   "cell_type": "code",
   "execution_count": 20,
   "metadata": {},
   "outputs": [
    {
     "name": "stdout",
     "output_type": "stream",
     "text": [
      "_________________________________________________________________\n",
      "Layer (type)                 Output Shape              Param #   \n",
      "=================================================================\n",
      "lstm_2 (LSTM)                (None, 256)               265216    \n",
      "_________________________________________________________________\n",
      "dense_2 (Dense)              (None, 1)                 257       \n",
      "=================================================================\n",
      "Total params: 265,473\n",
      "Trainable params: 265,473\n",
      "Non-trainable params: 0\n",
      "_________________________________________________________________\n"
     ]
    }
   ],
   "source": [
    "model = Sequential()\n",
    "model.add(LSTM(256, input_shape=(X_dev.shape[1], 2)))\n",
    "model.add(Dense(1, activation='sigmoid'))\n",
    "\n",
    "model.summary()"
   ]
  },
  {
   "cell_type": "markdown",
   "metadata": {},
   "source": [
    "## Model training"
   ]
  },
  {
   "cell_type": "code",
   "execution_count": 31,
   "metadata": {
    "scrolled": true
   },
   "outputs": [
    {
     "name": "stdout",
     "output_type": "stream",
     "text": [
      "Train on 345 samples, validate on 172 samples\n",
      "Epoch 1/200\n",
      "345/345 [==============================] - 3s 8ms/step - loss: 0.6994 - acc: 0.4899 - val_loss: 0.6998 - val_acc: 0.4535\n",
      "Epoch 2/200\n",
      "345/345 [==============================] - 2s 4ms/step - loss: 0.6952 - acc: 0.5101 - val_loss: 0.6951 - val_acc: 0.4767\n",
      "Epoch 3/200\n",
      "345/345 [==============================] - 1s 4ms/step - loss: 0.6917 - acc: 0.5246 - val_loss: 0.6909 - val_acc: 0.5116\n",
      "Epoch 4/200\n",
      "345/345 [==============================] - 2s 4ms/step - loss: 0.6883 - acc: 0.5275 - val_loss: 0.6878 - val_acc: 0.5116\n",
      "Epoch 5/200\n",
      "345/345 [==============================] - 1s 4ms/step - loss: 0.6860 - acc: 0.5391 - val_loss: 0.6850 - val_acc: 0.5116\n",
      "Epoch 6/200\n",
      "345/345 [==============================] - 2s 4ms/step - loss: 0.6836 - acc: 0.5275 - val_loss: 0.6826 - val_acc: 0.5058\n",
      "Epoch 7/200\n",
      "345/345 [==============================] - 1s 4ms/step - loss: 0.6813 - acc: 0.5304 - val_loss: 0.6803 - val_acc: 0.5116\n",
      "Epoch 8/200\n",
      "345/345 [==============================] - 2s 4ms/step - loss: 0.6796 - acc: 0.5333 - val_loss: 0.6782 - val_acc: 0.5174\n",
      "Epoch 9/200\n",
      "345/345 [==============================] - 2s 6ms/step - loss: 0.6779 - acc: 0.5391 - val_loss: 0.6764 - val_acc: 0.5174\n",
      "Epoch 10/200\n",
      "345/345 [==============================] - 2s 6ms/step - loss: 0.6762 - acc: 0.5362 - val_loss: 0.6747 - val_acc: 0.5233\n",
      "Epoch 11/200\n",
      "345/345 [==============================] - 2s 6ms/step - loss: 0.6746 - acc: 0.5391 - val_loss: 0.6730 - val_acc: 0.5291\n",
      "Epoch 12/200\n",
      "345/345 [==============================] - 2s 6ms/step - loss: 0.6731 - acc: 0.5449 - val_loss: 0.6715 - val_acc: 0.5291\n",
      "Epoch 13/200\n",
      "345/345 [==============================] - 2s 6ms/step - loss: 0.6714 - acc: 0.5507 - val_loss: 0.6704 - val_acc: 0.5291\n",
      "Epoch 14/200\n",
      "345/345 [==============================] - 2s 6ms/step - loss: 0.6699 - acc: 0.5536 - val_loss: 0.6690 - val_acc: 0.5291\n",
      "Epoch 15/200\n",
      "345/345 [==============================] - 2s 6ms/step - loss: 0.6685 - acc: 0.5507 - val_loss: 0.6675 - val_acc: 0.5349\n",
      "Epoch 16/200\n",
      "345/345 [==============================] - 2s 6ms/step - loss: 0.6670 - acc: 0.5536 - val_loss: 0.6659 - val_acc: 0.5407\n",
      "Epoch 17/200\n",
      "345/345 [==============================] - 2s 6ms/step - loss: 0.6648 - acc: 0.5565 - val_loss: 0.6642 - val_acc: 0.5291\n",
      "Epoch 18/200\n",
      "345/345 [==============================] - 2s 6ms/step - loss: 0.6634 - acc: 0.5565 - val_loss: 0.6623 - val_acc: 0.5407\n",
      "Epoch 19/200\n",
      "345/345 [==============================] - 2s 6ms/step - loss: 0.6620 - acc: 0.5594 - val_loss: 0.6606 - val_acc: 0.5407\n",
      "Epoch 20/200\n",
      "345/345 [==============================] - 2s 6ms/step - loss: 0.6600 - acc: 0.5623 - val_loss: 0.6587 - val_acc: 0.5465\n",
      "Epoch 21/200\n",
      "345/345 [==============================] - 2s 6ms/step - loss: 0.6582 - acc: 0.5652 - val_loss: 0.6570 - val_acc: 0.5465\n",
      "Epoch 22/200\n",
      "345/345 [==============================] - 2s 6ms/step - loss: 0.6571 - acc: 0.5652 - val_loss: 0.6553 - val_acc: 0.5465\n",
      "Epoch 23/200\n",
      "345/345 [==============================] - 2s 6ms/step - loss: 0.6555 - acc: 0.5623 - val_loss: 0.6528 - val_acc: 0.5349\n",
      "Epoch 24/200\n",
      "345/345 [==============================] - 2s 6ms/step - loss: 0.6542 - acc: 0.5623 - val_loss: 0.6499 - val_acc: 0.5407\n",
      "Epoch 25/200\n",
      "345/345 [==============================] - 2s 6ms/step - loss: 0.6507 - acc: 0.5652 - val_loss: 0.6471 - val_acc: 0.5465\n",
      "Epoch 26/200\n",
      "345/345 [==============================] - 2s 6ms/step - loss: 0.6492 - acc: 0.5681 - val_loss: 0.6440 - val_acc: 0.5465\n",
      "Epoch 27/200\n",
      "345/345 [==============================] - 2s 6ms/step - loss: 0.6468 - acc: 0.5594 - val_loss: 0.6410 - val_acc: 0.5349\n",
      "Epoch 28/200\n",
      "345/345 [==============================] - 2s 6ms/step - loss: 0.6453 - acc: 0.5710 - val_loss: 0.6367 - val_acc: 0.5523\n",
      "Epoch 29/200\n",
      "345/345 [==============================] - 2s 6ms/step - loss: 0.6415 - acc: 0.5681 - val_loss: 0.6350 - val_acc: 0.6221\n",
      "Epoch 30/200\n",
      "345/345 [==============================] - 2s 6ms/step - loss: 0.6389 - acc: 0.5913 - val_loss: 0.6307 - val_acc: 0.6395\n",
      "Epoch 31/200\n",
      "345/345 [==============================] - 2s 6ms/step - loss: 0.6348 - acc: 0.6000 - val_loss: 0.6242 - val_acc: 0.6395\n",
      "Epoch 32/200\n",
      "345/345 [==============================] - 2s 6ms/step - loss: 0.6356 - acc: 0.6058 - val_loss: 0.6218 - val_acc: 0.6628\n",
      "Epoch 33/200\n",
      "345/345 [==============================] - 2s 6ms/step - loss: 0.6316 - acc: 0.6058 - val_loss: 0.6262 - val_acc: 0.6628\n",
      "Epoch 34/200\n",
      "345/345 [==============================] - 2s 6ms/step - loss: 0.6314 - acc: 0.6116 - val_loss: 0.6203 - val_acc: 0.6860\n",
      "Epoch 35/200\n",
      "345/345 [==============================] - 2s 6ms/step - loss: 0.6201 - acc: 0.6348 - val_loss: 0.6773 - val_acc: 0.6395\n",
      "Epoch 36/200\n",
      "345/345 [==============================] - 2s 6ms/step - loss: 0.6595 - acc: 0.6348 - val_loss: 0.6300 - val_acc: 0.6395\n",
      "Epoch 37/200\n",
      "345/345 [==============================] - 2s 6ms/step - loss: 0.6438 - acc: 0.6058 - val_loss: 0.6406 - val_acc: 0.6279\n",
      "Epoch 38/200\n",
      "345/345 [==============================] - 2s 6ms/step - loss: 0.6506 - acc: 0.5855 - val_loss: 0.6434 - val_acc: 0.6279\n",
      "Epoch 39/200\n",
      "345/345 [==============================] - 2s 6ms/step - loss: 0.6520 - acc: 0.5797 - val_loss: 0.6438 - val_acc: 0.6279\n",
      "Epoch 40/200\n",
      "345/345 [==============================] - 2s 6ms/step - loss: 0.6516 - acc: 0.5826 - val_loss: 0.6430 - val_acc: 0.6221\n",
      "Epoch 41/200\n",
      "345/345 [==============================] - 2s 6ms/step - loss: 0.6499 - acc: 0.5884 - val_loss: 0.6419 - val_acc: 0.6221\n",
      "Epoch 42/200\n",
      "345/345 [==============================] - 2s 6ms/step - loss: 0.6484 - acc: 0.5797 - val_loss: 0.6407 - val_acc: 0.6163\n",
      "Epoch 43/200\n",
      "345/345 [==============================] - 2s 6ms/step - loss: 0.6468 - acc: 0.5797 - val_loss: 0.6394 - val_acc: 0.6163\n",
      "Epoch 44/200\n",
      "345/345 [==============================] - 2s 6ms/step - loss: 0.6448 - acc: 0.5855 - val_loss: 0.6382 - val_acc: 0.6279\n",
      "Epoch 45/200\n",
      "345/345 [==============================] - 2s 6ms/step - loss: 0.6434 - acc: 0.5884 - val_loss: 0.6370 - val_acc: 0.6337\n",
      "Epoch 46/200\n",
      "345/345 [==============================] - 2s 6ms/step - loss: 0.6416 - acc: 0.5797 - val_loss: 0.6356 - val_acc: 0.6279\n",
      "Epoch 47/200\n",
      "345/345 [==============================] - 2s 6ms/step - loss: 0.6401 - acc: 0.5855 - val_loss: 0.6342 - val_acc: 0.6337\n",
      "Epoch 48/200\n",
      "345/345 [==============================] - 2s 6ms/step - loss: 0.6383 - acc: 0.5942 - val_loss: 0.6330 - val_acc: 0.6512\n",
      "Epoch 49/200\n",
      "345/345 [==============================] - 2s 6ms/step - loss: 0.6367 - acc: 0.6000 - val_loss: 0.6319 - val_acc: 0.6512\n",
      "Epoch 50/200\n",
      "345/345 [==============================] - 2s 6ms/step - loss: 0.6350 - acc: 0.5884 - val_loss: 0.6305 - val_acc: 0.6512\n",
      "Epoch 51/200\n",
      "345/345 [==============================] - 2s 6ms/step - loss: 0.6339 - acc: 0.6000 - val_loss: 0.6289 - val_acc: 0.6512\n",
      "Epoch 52/200\n",
      "345/345 [==============================] - 2s 6ms/step - loss: 0.6317 - acc: 0.6058 - val_loss: 0.6271 - val_acc: 0.6570\n",
      "Epoch 53/200\n",
      "345/345 [==============================] - 2s 6ms/step - loss: 0.6303 - acc: 0.6087 - val_loss: 0.6250 - val_acc: 0.6512\n",
      "Epoch 54/200\n",
      "345/345 [==============================] - 2s 6ms/step - loss: 0.6285 - acc: 0.6058 - val_loss: 0.6229 - val_acc: 0.6512\n",
      "Epoch 55/200\n",
      "345/345 [==============================] - 2s 6ms/step - loss: 0.6268 - acc: 0.6029 - val_loss: 0.6202 - val_acc: 0.6570\n",
      "Epoch 56/200\n",
      "345/345 [==============================] - 2s 6ms/step - loss: 0.6244 - acc: 0.6058 - val_loss: 0.6168 - val_acc: 0.6919\n",
      "Epoch 57/200\n",
      "345/345 [==============================] - 2s 6ms/step - loss: 0.6208 - acc: 0.6232 - val_loss: 0.6137 - val_acc: 0.6628\n",
      "Epoch 58/200\n",
      "345/345 [==============================] - 2s 6ms/step - loss: 0.6183 - acc: 0.6203 - val_loss: 0.6102 - val_acc: 0.6744\n",
      "Epoch 59/200\n",
      "345/345 [==============================] - 2s 6ms/step - loss: 0.6137 - acc: 0.6348 - val_loss: 0.6078 - val_acc: 0.6628\n",
      "Epoch 60/200\n",
      "345/345 [==============================] - 2s 6ms/step - loss: 0.6107 - acc: 0.6232 - val_loss: 0.6071 - val_acc: 0.6453\n",
      "Epoch 61/200\n",
      "345/345 [==============================] - 2s 6ms/step - loss: 0.6061 - acc: 0.6406 - val_loss: 0.5987 - val_acc: 0.6744\n"
     ]
    },
    {
     "name": "stdout",
     "output_type": "stream",
     "text": [
      "Epoch 62/200\n",
      "345/345 [==============================] - 2s 6ms/step - loss: 0.6028 - acc: 0.6609 - val_loss: 0.5940 - val_acc: 0.6802\n",
      "Epoch 63/200\n",
      "345/345 [==============================] - 2s 6ms/step - loss: 0.6111 - acc: 0.6290 - val_loss: 0.5944 - val_acc: 0.7209\n",
      "Epoch 64/200\n",
      "345/345 [==============================] - 2s 6ms/step - loss: 0.6019 - acc: 0.6638 - val_loss: 0.5943 - val_acc: 0.7151\n",
      "Epoch 65/200\n",
      "345/345 [==============================] - 2s 6ms/step - loss: 0.5965 - acc: 0.6696 - val_loss: 0.5826 - val_acc: 0.7209\n",
      "Epoch 66/200\n",
      "345/345 [==============================] - 2s 6ms/step - loss: 0.5989 - acc: 0.6609 - val_loss: 0.5820 - val_acc: 0.6977\n",
      "Epoch 67/200\n",
      "345/345 [==============================] - 2s 6ms/step - loss: 0.5877 - acc: 0.6638 - val_loss: 0.5804 - val_acc: 0.7035\n",
      "Epoch 68/200\n",
      "345/345 [==============================] - 2s 6ms/step - loss: 0.5862 - acc: 0.6725 - val_loss: 0.5836 - val_acc: 0.6860\n",
      "Epoch 69/200\n",
      "345/345 [==============================] - 2s 6ms/step - loss: 0.5824 - acc: 0.6725 - val_loss: 0.5729 - val_acc: 0.7209\n",
      "Epoch 70/200\n",
      "345/345 [==============================] - 2s 6ms/step - loss: 0.5779 - acc: 0.6754 - val_loss: 0.5716 - val_acc: 0.7093\n",
      "Epoch 71/200\n",
      "345/345 [==============================] - 2s 6ms/step - loss: 0.5791 - acc: 0.6638 - val_loss: 0.5648 - val_acc: 0.7384\n",
      "Epoch 72/200\n",
      "345/345 [==============================] - 2s 6ms/step - loss: 0.5742 - acc: 0.6725 - val_loss: 0.5811 - val_acc: 0.7093\n",
      "Epoch 73/200\n",
      "345/345 [==============================] - 2s 6ms/step - loss: 0.5834 - acc: 0.6725 - val_loss: 0.5611 - val_acc: 0.7500\n",
      "Epoch 74/200\n",
      "345/345 [==============================] - 2s 6ms/step - loss: 0.5897 - acc: 0.6667 - val_loss: 0.5838 - val_acc: 0.7093\n",
      "Epoch 75/200\n",
      "345/345 [==============================] - 2s 6ms/step - loss: 0.5898 - acc: 0.6464 - val_loss: 0.5663 - val_acc: 0.7384\n",
      "Epoch 76/200\n",
      "345/345 [==============================] - 2s 6ms/step - loss: 0.5697 - acc: 0.7014 - val_loss: 0.5848 - val_acc: 0.6977\n",
      "Epoch 77/200\n",
      "345/345 [==============================] - 2s 6ms/step - loss: 0.5745 - acc: 0.6841 - val_loss: 0.5599 - val_acc: 0.7384\n",
      "Epoch 78/200\n",
      "345/345 [==============================] - 2s 6ms/step - loss: 0.5753 - acc: 0.6986 - val_loss: 0.5538 - val_acc: 0.7267\n",
      "Epoch 79/200\n",
      "345/345 [==============================] - 2s 6ms/step - loss: 0.5600 - acc: 0.6986 - val_loss: 0.5634 - val_acc: 0.7035\n",
      "Epoch 80/200\n",
      "345/345 [==============================] - 2s 6ms/step - loss: 0.5638 - acc: 0.6957 - val_loss: 0.5473 - val_acc: 0.7093\n",
      "Epoch 81/200\n",
      "345/345 [==============================] - 2s 6ms/step - loss: 0.5568 - acc: 0.6928 - val_loss: 0.5440 - val_acc: 0.7326\n",
      "Epoch 82/200\n",
      "345/345 [==============================] - 2s 6ms/step - loss: 0.5519 - acc: 0.6899 - val_loss: 0.5419 - val_acc: 0.7035\n",
      "Epoch 83/200\n",
      "345/345 [==============================] - 2s 6ms/step - loss: 0.5470 - acc: 0.6870 - val_loss: 0.5312 - val_acc: 0.7267\n",
      "Epoch 84/200\n",
      "345/345 [==============================] - 2s 6ms/step - loss: 0.5429 - acc: 0.6986 - val_loss: 0.5299 - val_acc: 0.7093\n",
      "Epoch 85/200\n",
      "345/345 [==============================] - 2s 6ms/step - loss: 0.5404 - acc: 0.6899 - val_loss: 0.5269 - val_acc: 0.7267\n",
      "Epoch 86/200\n",
      "345/345 [==============================] - 2s 6ms/step - loss: 0.5419 - acc: 0.7159 - val_loss: 0.5221 - val_acc: 0.7151\n",
      "Epoch 87/200\n",
      "345/345 [==============================] - 2s 6ms/step - loss: 0.5438 - acc: 0.7043 - val_loss: 0.5190 - val_acc: 0.7267\n",
      "Epoch 88/200\n",
      "345/345 [==============================] - 2s 6ms/step - loss: 0.5514 - acc: 0.6928 - val_loss: 0.5601 - val_acc: 0.7209\n",
      "Epoch 89/200\n",
      "345/345 [==============================] - 2s 6ms/step - loss: 0.5779 - acc: 0.6580 - val_loss: 0.5417 - val_acc: 0.7035\n",
      "Epoch 90/200\n",
      "345/345 [==============================] - 2s 6ms/step - loss: 0.5367 - acc: 0.7130 - val_loss: 0.5415 - val_acc: 0.7093\n",
      "Epoch 91/200\n",
      "345/345 [==============================] - 2s 6ms/step - loss: 0.5330 - acc: 0.7217 - val_loss: 0.5171 - val_acc: 0.7442\n",
      "Epoch 92/200\n",
      "345/345 [==============================] - 2s 6ms/step - loss: 0.5239 - acc: 0.7333 - val_loss: 0.5093 - val_acc: 0.7384\n",
      "Epoch 93/200\n",
      "345/345 [==============================] - 2s 6ms/step - loss: 0.5204 - acc: 0.7217 - val_loss: 0.5029 - val_acc: 0.7384\n",
      "Epoch 94/200\n",
      "345/345 [==============================] - 2s 6ms/step - loss: 0.5124 - acc: 0.7362 - val_loss: 0.4933 - val_acc: 0.7558\n",
      "Epoch 95/200\n",
      "345/345 [==============================] - 2s 6ms/step - loss: 0.5033 - acc: 0.7478 - val_loss: 0.4969 - val_acc: 0.7326\n",
      "Epoch 96/200\n",
      "345/345 [==============================] - 2s 6ms/step - loss: 0.4942 - acc: 0.7478 - val_loss: 0.4829 - val_acc: 0.7442\n",
      "Epoch 97/200\n",
      "345/345 [==============================] - 2s 6ms/step - loss: 0.4871 - acc: 0.7536 - val_loss: 0.4676 - val_acc: 0.7616\n",
      "Epoch 98/200\n",
      "345/345 [==============================] - 2s 6ms/step - loss: 0.4735 - acc: 0.7565 - val_loss: 0.4498 - val_acc: 0.7558\n",
      "Epoch 99/200\n",
      "345/345 [==============================] - 2s 6ms/step - loss: 0.4629 - acc: 0.7681 - val_loss: 0.4354 - val_acc: 0.7674\n",
      "Epoch 100/200\n",
      "345/345 [==============================] - 2s 6ms/step - loss: 0.4633 - acc: 0.7246 - val_loss: 0.4254 - val_acc: 0.7907\n",
      "Epoch 101/200\n",
      "345/345 [==============================] - 2s 6ms/step - loss: 0.4583 - acc: 0.7797 - val_loss: 0.4585 - val_acc: 0.7442\n",
      "Epoch 102/200\n",
      "345/345 [==============================] - 2s 6ms/step - loss: 0.4534 - acc: 0.7681 - val_loss: 0.4982 - val_acc: 0.7558\n",
      "Epoch 103/200\n",
      "345/345 [==============================] - 2s 6ms/step - loss: 0.4792 - acc: 0.7536 - val_loss: 0.4670 - val_acc: 0.7733\n",
      "Epoch 104/200\n",
      "345/345 [==============================] - 2s 6ms/step - loss: 0.4446 - acc: 0.7739 - val_loss: 0.4278 - val_acc: 0.7791\n",
      "Epoch 105/200\n",
      "345/345 [==============================] - 2s 6ms/step - loss: 0.4338 - acc: 0.7913 - val_loss: 0.4187 - val_acc: 0.8140\n",
      "Epoch 106/200\n",
      "345/345 [==============================] - 2s 6ms/step - loss: 0.4458 - acc: 0.7942 - val_loss: 0.4023 - val_acc: 0.8081\n",
      "Epoch 107/200\n",
      "345/345 [==============================] - 2s 6ms/step - loss: 0.4402 - acc: 0.7478 - val_loss: 0.4372 - val_acc: 0.7791\n",
      "Epoch 108/200\n",
      "345/345 [==============================] - 2s 6ms/step - loss: 0.5042 - acc: 0.7681 - val_loss: 0.5033 - val_acc: 0.7907\n",
      "Epoch 109/200\n",
      "345/345 [==============================] - 2s 6ms/step - loss: 0.4968 - acc: 0.7797 - val_loss: 0.4665 - val_acc: 0.8023\n",
      "Epoch 110/200\n",
      "345/345 [==============================] - 2s 6ms/step - loss: 0.4691 - acc: 0.7884 - val_loss: 0.4276 - val_acc: 0.7907\n",
      "Epoch 111/200\n",
      "345/345 [==============================] - 2s 6ms/step - loss: 0.4318 - acc: 0.8029 - val_loss: 0.4277 - val_acc: 0.8023\n",
      "Epoch 112/200\n",
      "345/345 [==============================] - 2s 6ms/step - loss: 0.4328 - acc: 0.7855 - val_loss: 0.4155 - val_acc: 0.7442\n",
      "Epoch 113/200\n",
      "345/345 [==============================] - 2s 6ms/step - loss: 0.4404 - acc: 0.7536 - val_loss: 0.4152 - val_acc: 0.8081\n",
      "Epoch 114/200\n",
      "345/345 [==============================] - 2s 6ms/step - loss: 0.4274 - acc: 0.8116 - val_loss: 0.4068 - val_acc: 0.8140\n",
      "Epoch 115/200\n",
      "345/345 [==============================] - 2s 6ms/step - loss: 0.4277 - acc: 0.8029 - val_loss: 0.4037 - val_acc: 0.7849\n",
      "Epoch 116/200\n",
      "345/345 [==============================] - 2s 6ms/step - loss: 0.4118 - acc: 0.7826 - val_loss: 0.3813 - val_acc: 0.7849\n",
      "Epoch 117/200\n",
      "345/345 [==============================] - 2s 6ms/step - loss: 0.4018 - acc: 0.7884 - val_loss: 0.3712 - val_acc: 0.8314\n",
      "Epoch 118/200\n",
      "345/345 [==============================] - 2s 6ms/step - loss: 0.3910 - acc: 0.8203 - val_loss: 0.3559 - val_acc: 0.8081\n",
      "Epoch 119/200\n",
      "345/345 [==============================] - 2s 6ms/step - loss: 0.3950 - acc: 0.7971 - val_loss: 0.3659 - val_acc: 0.8198\n",
      "Epoch 120/200\n",
      "345/345 [==============================] - 2s 6ms/step - loss: 0.3844 - acc: 0.8116 - val_loss: 0.3501 - val_acc: 0.8198\n",
      "Epoch 121/200\n",
      "345/345 [==============================] - 2s 6ms/step - loss: 0.3834 - acc: 0.8116 - val_loss: 0.3490 - val_acc: 0.8547\n",
      "Epoch 122/200\n",
      "345/345 [==============================] - 2s 6ms/step - loss: 0.3951 - acc: 0.7884 - val_loss: 0.3669 - val_acc: 0.8372\n"
     ]
    },
    {
     "name": "stdout",
     "output_type": "stream",
     "text": [
      "Epoch 123/200\n",
      "345/345 [==============================] - 2s 6ms/step - loss: 0.4011 - acc: 0.8087 - val_loss: 0.3435 - val_acc: 0.8314\n",
      "Epoch 124/200\n",
      "345/345 [==============================] - 2s 6ms/step - loss: 0.3851 - acc: 0.8174 - val_loss: 0.3431 - val_acc: 0.8256\n",
      "Epoch 125/200\n",
      "345/345 [==============================] - 2s 6ms/step - loss: 0.3778 - acc: 0.8145 - val_loss: 0.3552 - val_acc: 0.7849\n",
      "Epoch 126/200\n",
      "345/345 [==============================] - 2s 6ms/step - loss: 0.3753 - acc: 0.7739 - val_loss: 0.3308 - val_acc: 0.8663\n",
      "Epoch 127/200\n",
      "345/345 [==============================] - 2s 6ms/step - loss: 0.3656 - acc: 0.8290 - val_loss: 0.3333 - val_acc: 0.8372\n",
      "Epoch 128/200\n",
      "345/345 [==============================] - 2s 6ms/step - loss: 0.3632 - acc: 0.8174 - val_loss: 0.3302 - val_acc: 0.8488\n",
      "Epoch 129/200\n",
      "345/345 [==============================] - 2s 6ms/step - loss: 0.3628 - acc: 0.8261 - val_loss: 0.3293 - val_acc: 0.8721\n",
      "Epoch 130/200\n",
      "345/345 [==============================] - 2s 6ms/step - loss: 0.3629 - acc: 0.8348 - val_loss: 0.3206 - val_acc: 0.8547\n",
      "Epoch 131/200\n",
      "345/345 [==============================] - 2s 6ms/step - loss: 0.3561 - acc: 0.8319 - val_loss: 0.3338 - val_acc: 0.8430\n",
      "Epoch 132/200\n",
      "345/345 [==============================] - 2s 6ms/step - loss: 0.3502 - acc: 0.8348 - val_loss: 0.3124 - val_acc: 0.8488\n",
      "Epoch 133/200\n",
      "345/345 [==============================] - 2s 6ms/step - loss: 0.3520 - acc: 0.8319 - val_loss: 0.3099 - val_acc: 0.8721\n",
      "Epoch 134/200\n",
      "345/345 [==============================] - 2s 6ms/step - loss: 0.3457 - acc: 0.8377 - val_loss: 0.3058 - val_acc: 0.8488\n",
      "Epoch 135/200\n",
      "345/345 [==============================] - 2s 6ms/step - loss: 0.3402 - acc: 0.8464 - val_loss: 0.2963 - val_acc: 0.8663\n",
      "Epoch 136/200\n",
      "345/345 [==============================] - 2s 6ms/step - loss: 0.3411 - acc: 0.8435 - val_loss: 0.3114 - val_acc: 0.8663\n",
      "Epoch 137/200\n",
      "345/345 [==============================] - 2s 6ms/step - loss: 0.3611 - acc: 0.8435 - val_loss: 0.3583 - val_acc: 0.8198\n",
      "Epoch 138/200\n",
      "345/345 [==============================] - 2s 6ms/step - loss: 0.3683 - acc: 0.8261 - val_loss: 0.3442 - val_acc: 0.8663\n",
      "Epoch 139/200\n",
      "345/345 [==============================] - 2s 6ms/step - loss: 0.3757 - acc: 0.8232 - val_loss: 0.3061 - val_acc: 0.8547\n",
      "Epoch 140/200\n",
      "345/345 [==============================] - 2s 6ms/step - loss: 0.3556 - acc: 0.8000 - val_loss: 0.2982 - val_acc: 0.8895\n",
      "Epoch 141/200\n",
      "345/345 [==============================] - 2s 6ms/step - loss: 0.3317 - acc: 0.8464 - val_loss: 0.3058 - val_acc: 0.8488\n",
      "Epoch 142/200\n",
      "345/345 [==============================] - 2s 6ms/step - loss: 0.3701 - acc: 0.8174 - val_loss: 0.3897 - val_acc: 0.8198\n",
      "Epoch 143/200\n",
      "345/345 [==============================] - 2s 6ms/step - loss: 0.4189 - acc: 0.7739 - val_loss: 0.3262 - val_acc: 0.8314\n",
      "Epoch 144/200\n",
      "345/345 [==============================] - 2s 6ms/step - loss: 0.3672 - acc: 0.7913 - val_loss: 0.3013 - val_acc: 0.8198\n",
      "Epoch 145/200\n",
      "345/345 [==============================] - 2s 6ms/step - loss: 0.3497 - acc: 0.8203 - val_loss: 0.3003 - val_acc: 0.8663\n",
      "Epoch 146/200\n",
      "345/345 [==============================] - 2s 6ms/step - loss: 0.3503 - acc: 0.8290 - val_loss: 0.2943 - val_acc: 0.8547\n",
      "Epoch 147/200\n",
      "345/345 [==============================] - 2s 6ms/step - loss: 0.3370 - acc: 0.8319 - val_loss: 0.3027 - val_acc: 0.8779\n",
      "Epoch 148/200\n",
      "345/345 [==============================] - 2s 6ms/step - loss: 0.3441 - acc: 0.8406 - val_loss: 0.2884 - val_acc: 0.8663\n",
      "Epoch 149/200\n",
      "345/345 [==============================] - 2s 6ms/step - loss: 0.3253 - acc: 0.8464 - val_loss: 0.2784 - val_acc: 0.8895\n",
      "Epoch 150/200\n",
      "345/345 [==============================] - 2s 6ms/step - loss: 0.3291 - acc: 0.8551 - val_loss: 0.2925 - val_acc: 0.8663\n",
      "Epoch 151/200\n",
      "345/345 [==============================] - 2s 6ms/step - loss: 0.3314 - acc: 0.8464 - val_loss: 0.2680 - val_acc: 0.8953\n",
      "Epoch 152/200\n",
      "345/345 [==============================] - 2s 6ms/step - loss: 0.3254 - acc: 0.8493 - val_loss: 0.3718 - val_acc: 0.8605\n",
      "Epoch 153/200\n",
      "345/345 [==============================] - 2s 6ms/step - loss: 0.3884 - acc: 0.8145 - val_loss: 0.2991 - val_acc: 0.8721\n",
      "Epoch 154/200\n",
      "345/345 [==============================] - 2s 6ms/step - loss: 0.3717 - acc: 0.8203 - val_loss: 0.3275 - val_acc: 0.8430\n",
      "Epoch 155/200\n",
      "345/345 [==============================] - 2s 6ms/step - loss: 0.3695 - acc: 0.8261 - val_loss: 0.3329 - val_acc: 0.8081\n",
      "Epoch 156/200\n",
      "345/345 [==============================] - 2s 6ms/step - loss: 0.3664 - acc: 0.8087 - val_loss: 0.2931 - val_acc: 0.8721\n",
      "Epoch 157/200\n",
      "345/345 [==============================] - 2s 6ms/step - loss: 0.3489 - acc: 0.8348 - val_loss: 0.3109 - val_acc: 0.8721\n",
      "Epoch 158/200\n",
      "345/345 [==============================] - 2s 6ms/step - loss: 0.3491 - acc: 0.8464 - val_loss: 0.3712 - val_acc: 0.8314\n",
      "Epoch 159/200\n",
      "345/345 [==============================] - 2s 6ms/step - loss: 0.3420 - acc: 0.8493 - val_loss: 0.3365 - val_acc: 0.8547\n",
      "Epoch 160/200\n",
      "345/345 [==============================] - 2s 6ms/step - loss: 0.5208 - acc: 0.7217 - val_loss: 0.5403 - val_acc: 0.7093\n",
      "Epoch 161/200\n",
      "345/345 [==============================] - 2s 6ms/step - loss: 0.5757 - acc: 0.6899 - val_loss: 0.4627 - val_acc: 0.7558\n",
      "Epoch 162/200\n",
      "345/345 [==============================] - 2s 6ms/step - loss: 0.5178 - acc: 0.7275 - val_loss: 0.4119 - val_acc: 0.7907\n",
      "Epoch 163/200\n",
      "345/345 [==============================] - 2s 7ms/step - loss: 0.4700 - acc: 0.7246 - val_loss: 0.3946 - val_acc: 0.7849\n",
      "Epoch 164/200\n",
      "345/345 [==============================] - 2s 6ms/step - loss: 0.4386 - acc: 0.7449 - val_loss: 0.3800 - val_acc: 0.7791\n",
      "Epoch 165/200\n",
      "345/345 [==============================] - 2s 6ms/step - loss: 0.4184 - acc: 0.7652 - val_loss: 0.3718 - val_acc: 0.7907\n",
      "Epoch 166/200\n",
      "345/345 [==============================] - 2s 6ms/step - loss: 0.4088 - acc: 0.7942 - val_loss: 0.3397 - val_acc: 0.8198\n",
      "Epoch 167/200\n",
      "345/345 [==============================] - 2s 6ms/step - loss: 0.3863 - acc: 0.8029 - val_loss: 0.3533 - val_acc: 0.8140\n",
      "Epoch 168/200\n",
      "345/345 [==============================] - 2s 6ms/step - loss: 0.4225 - acc: 0.7942 - val_loss: 0.4655 - val_acc: 0.7791\n",
      "Epoch 169/200\n",
      "345/345 [==============================] - 2s 6ms/step - loss: 0.4590 - acc: 0.7739 - val_loss: 0.4259 - val_acc: 0.8140\n",
      "Epoch 170/200\n",
      "345/345 [==============================] - 2s 6ms/step - loss: 0.3839 - acc: 0.7855 - val_loss: 0.3756 - val_acc: 0.7791\n",
      "Epoch 171/200\n",
      "345/345 [==============================] - 2s 6ms/step - loss: 0.3840 - acc: 0.7971 - val_loss: 0.3306 - val_acc: 0.8430\n",
      "Epoch 172/200\n",
      "345/345 [==============================] - 2s 6ms/step - loss: 0.3579 - acc: 0.8319 - val_loss: 0.3333 - val_acc: 0.8488\n",
      "Epoch 173/200\n",
      "345/345 [==============================] - 2s 6ms/step - loss: 0.3468 - acc: 0.8319 - val_loss: 0.3119 - val_acc: 0.8547\n",
      "Epoch 174/200\n",
      "345/345 [==============================] - 2s 6ms/step - loss: 0.3429 - acc: 0.8290 - val_loss: 0.3062 - val_acc: 0.8663\n",
      "Epoch 175/200\n",
      "345/345 [==============================] - 2s 6ms/step - loss: 0.3328 - acc: 0.8435 - val_loss: 0.2986 - val_acc: 0.8721\n",
      "Epoch 176/200\n",
      "345/345 [==============================] - 2s 6ms/step - loss: 0.3234 - acc: 0.8435 - val_loss: 0.2913 - val_acc: 0.8663\n",
      "Epoch 177/200\n",
      "345/345 [==============================] - 2s 6ms/step - loss: 0.3183 - acc: 0.8493 - val_loss: 0.2785 - val_acc: 0.8779\n",
      "Epoch 178/200\n",
      "345/345 [==============================] - 2s 6ms/step - loss: 0.3121 - acc: 0.8551 - val_loss: 0.2696 - val_acc: 0.8837\n",
      "Epoch 179/200\n",
      "345/345 [==============================] - 2s 6ms/step - loss: 0.3099 - acc: 0.8522 - val_loss: 0.2617 - val_acc: 0.8953\n",
      "Epoch 180/200\n",
      "345/345 [==============================] - 2s 6ms/step - loss: 0.3156 - acc: 0.8580 - val_loss: 0.2624 - val_acc: 0.8953\n",
      "Epoch 181/200\n",
      "345/345 [==============================] - 2s 6ms/step - loss: 0.3125 - acc: 0.8580 - val_loss: 0.2559 - val_acc: 0.8953\n",
      "Epoch 182/200\n",
      "345/345 [==============================] - 2s 6ms/step - loss: 0.2970 - acc: 0.8493 - val_loss: 0.2632 - val_acc: 0.8895\n",
      "Epoch 183/200\n"
     ]
    },
    {
     "name": "stdout",
     "output_type": "stream",
     "text": [
      "345/345 [==============================] - 2s 6ms/step - loss: 0.2975 - acc: 0.8522 - val_loss: 0.2646 - val_acc: 0.8837\n",
      "Epoch 184/200\n",
      "345/345 [==============================] - 2s 6ms/step - loss: 0.3187 - acc: 0.8203 - val_loss: 0.2696 - val_acc: 0.8314\n",
      "Epoch 185/200\n",
      "345/345 [==============================] - 2s 6ms/step - loss: 0.3189 - acc: 0.8232 - val_loss: 0.2851 - val_acc: 0.8547\n",
      "Epoch 186/200\n",
      "345/345 [==============================] - 2s 6ms/step - loss: 0.3410 - acc: 0.8319 - val_loss: 0.2796 - val_acc: 0.8721\n",
      "Epoch 187/200\n",
      "345/345 [==============================] - 2s 6ms/step - loss: 0.3212 - acc: 0.8406 - val_loss: 0.2611 - val_acc: 0.8721\n",
      "Epoch 188/200\n",
      "345/345 [==============================] - 2s 6ms/step - loss: 0.3046 - acc: 0.8406 - val_loss: 0.2760 - val_acc: 0.8721\n",
      "Epoch 189/200\n",
      "345/345 [==============================] - 2s 6ms/step - loss: 0.3185 - acc: 0.8261 - val_loss: 0.2670 - val_acc: 0.8779\n",
      "Epoch 190/200\n",
      "345/345 [==============================] - 2s 6ms/step - loss: 0.3114 - acc: 0.8464 - val_loss: 0.2674 - val_acc: 0.8721\n",
      "Epoch 191/200\n",
      "345/345 [==============================] - 2s 6ms/step - loss: 0.3117 - acc: 0.8348 - val_loss: 0.2758 - val_acc: 0.8488\n",
      "Epoch 192/200\n",
      "345/345 [==============================] - 2s 6ms/step - loss: 0.2988 - acc: 0.8464 - val_loss: 0.3042 - val_acc: 0.8663\n",
      "Epoch 193/200\n",
      "345/345 [==============================] - 2s 6ms/step - loss: 0.3147 - acc: 0.8290 - val_loss: 0.3121 - val_acc: 0.8430\n",
      "Epoch 194/200\n",
      "345/345 [==============================] - 2s 6ms/step - loss: 0.4419 - acc: 0.7507 - val_loss: 0.4910 - val_acc: 0.7209\n",
      "Epoch 195/200\n",
      "345/345 [==============================] - 2s 6ms/step - loss: 0.5172 - acc: 0.7014 - val_loss: 0.4201 - val_acc: 0.7674\n",
      "Epoch 196/200\n",
      "345/345 [==============================] - 2s 6ms/step - loss: 0.5036 - acc: 0.7159 - val_loss: 0.4291 - val_acc: 0.7674\n",
      "Epoch 197/200\n",
      "345/345 [==============================] - 2s 6ms/step - loss: 0.4983 - acc: 0.7275 - val_loss: 0.3993 - val_acc: 0.7849\n",
      "Epoch 198/200\n",
      "345/345 [==============================] - 2s 6ms/step - loss: 0.4453 - acc: 0.7420 - val_loss: 0.3759 - val_acc: 0.7791\n",
      "Epoch 199/200\n",
      "345/345 [==============================] - 2s 6ms/step - loss: 0.4274 - acc: 0.7449 - val_loss: 0.3981 - val_acc: 0.7791\n",
      "Epoch 200/200\n",
      "345/345 [==============================] - 2s 6ms/step - loss: 0.4176 - acc: 0.7565 - val_loss: 0.3556 - val_acc: 0.7965\n"
     ]
    }
   ],
   "source": [
    "adam = Adam(lr=0.0001)\n",
    "chk = ModelCheckpoint(f'../models/best_model_{version}.pkl', monitor='acc', save_best_only=True, mode='max', verbose=0) #monitor='val_acc'\n",
    "model.compile(loss='binary_crossentropy', optimizer=adam, metrics=['accuracy'])\n",
    "history_training = model.fit(X_train, y_train, epochs=200, batch_size=64, callbacks=[chk], validation_data=(X_dev, y_dev))\n",
    "play_bell()"
   ]
  },
  {
   "cell_type": "markdown",
   "metadata": {},
   "source": [
    "## Training history plot"
   ]
  },
  {
   "cell_type": "code",
   "execution_count": 39,
   "metadata": {},
   "outputs": [
    {
     "name": "stdout",
     "output_type": "stream",
     "text": [
      "Best accuracy on the dev set: 89.5%\n",
      "Best accuracy on the training set: 85.8%\n"
     ]
    },
    {
     "data": {
      "image/png": "[encoded data removed]",
      "text/plain": [
       "<Figure size 864x288 with 2 Axes>"
      ]
     },
     "metadata": {
      "needs_background": "light"
     },
     "output_type": "display_data"
    }
   ],
   "source": [
    "fig, (ax1, ax2) = plt.subplots(1, 2, figsize=(12,4))\n",
    "\n",
    "ax1.plot(history_training.history['acc'], label='train')\n",
    "ax1.plot(history_training.history['val_acc'], label='dev')\n",
    "\n",
    "ax2.plot(history_training.history['loss'], label='train')\n",
    "ax2.plot(history_training.history['val_loss'], label='dev')\n",
    "\n",
    "ax1.set_xlabel('Epoch')\n",
    "ax2.set_xlabel('Epoch')\n",
    "ax1.legend()\n",
    "ax2.legend()\n",
    "\n",
    "ax1.set_ylabel('Accuracy')\n",
    "ax2.set_ylabel('Loss')\n",
    "\n",
    "best_acc = max(history_training.history['val_acc'])\n",
    "print(f'Best accuracy on the dev set: {best_acc*100:.1f}%')\n",
    "best_acc_training = max(history_training.history['acc'])\n",
    "print(f'Best accuracy on the training set: {best_acc_training*100:.1f}%')\n",
    "#fig.savefig(f'../plots/model_{version}.png', bbox_inches='tight')"
   ]
  },
  {
   "cell_type": "markdown",
   "metadata": {},
   "source": [
    "## Evaluation of the model"
   ]
  },
  {
   "cell_type": "code",
   "execution_count": 33,
   "metadata": {},
   "outputs": [],
   "source": [
    "model = load_model(f'../models/best_model_{version}.pkl') # load best model"
   ]
  },
  {
   "cell_type": "code",
   "execution_count": 34,
   "metadata": {},
   "outputs": [
    {
     "name": "stdout",
     "output_type": "stream",
     "text": [
      "Accuracy on the dev set: 89.5%\n",
      "Accuracy on the training set: 86.7%\n"
     ]
    }
   ],
   "source": [
    "dev_preds = model.predict_classes(X_dev)\n",
    "acc_dev = accuracy_score(y_dev, dev_preds)\n",
    "print(f'Accuracy on the dev set: {acc_dev*100:.1f}%')\n",
    "\n",
    "training_preds = model.predict_classes(X_train)\n",
    "acc_training = accuracy_score(y_train, training_preds)\n",
    "print(f'Accuracy on the training set: {acc_training*100:.1f}%')"
   ]
  },
  {
   "cell_type": "code",
   "execution_count": 40,
   "metadata": {},
   "outputs": [
    {
     "data": {
      "image/png": "[encoded data removed]",
      "text/plain": [
       "<Figure size 216x216 with 2 Axes>"
      ]
     },
     "metadata": {
      "needs_background": "light"
     },
     "output_type": "display_data"
    }
   ],
   "source": [
    "import itertools\n",
    "from sklearn.metrics import confusion_matrix\n",
    "\n",
    "cm = confusion_matrix(y_dev, dev_preds)\n",
    "cm = confusion_matrix(y_train, training_preds)\n",
    "\n",
    "classes=['Right', 'Left']\n",
    "fig, ax = plt.subplots(1, figsize=(3,3))\n",
    "tick_marks = np.arange(len(classes))\n",
    "plt.xticks(tick_marks, classes)\n",
    "plt.yticks(tick_marks, classes)\n",
    "\n",
    "cm_norm = cm / cm.sum(axis=1)*100\n",
    "im = ax.imshow(cm_norm, cmap='Blues', interpolation='none', clim=(0,100))\n",
    "ax.set_title(f'Confusion matrix ({y_dev.shape[0]} samples)', size=13)\n",
    "\n",
    "\n",
    "for i, j in itertools.product(range(cm.shape[0]), range(cm.shape[1])):\n",
    "    ax.text(j, i, f'{cm[i,j]}\\n{cm_norm[i, j]:.1f}%', size=13,\n",
    "             horizontalalignment=\"center\", verticalalignment=\"center\",\n",
    "             color=\"white\" if cm[i, j] > 60 else \"black\")\n",
    "ax.set_ylabel('True label', size=12)\n",
    "ax.set_xlabel('Predicted label', size=12)\n",
    "\n",
    "cb_ax = fig.add_axes([0.95, 0.12, 0.1, 0.76])\n",
    "cb = fig.colorbar(im, cax=cb_ax, orientation='vertical')\n",
    "cb.set_label('%')\n",
    "\n",
    "fig.savefig(f'../plots/conf_matrix_{version}.png', bbox_inches='tight')"
   ]
  },
  {
   "cell_type": "code",
   "execution_count": null,
   "metadata": {},
   "outputs": [],
   "source": []
  },
  {
   "cell_type": "code",
   "execution_count": null,
   "metadata": {},
   "outputs": [],
   "source": []
  }
 ],
 "metadata": {
  "kernelspec": {
   "display_name": "Python 3",
   "language": "python",
   "name": "python3"
  },
  "language_info": {
   "codemirror_mode": {
    "name": "ipython",
    "version": 3
   },
   "file_extension": ".py",
   "mimetype": "text/x-python",
   "name": "python",
   "nbconvert_exporter": "python",
   "pygments_lexer": "ipython3",
   "version": "3.7.3"
  }
 },
 "nbformat": 4,
 "nbformat_minor": 2
}
