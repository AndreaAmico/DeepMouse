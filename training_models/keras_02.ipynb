{
 "cells": [
  {
   "cell_type": "code",
   "execution_count": 2,
   "metadata": {},
   "outputs": [],
   "source": [
    "import tensorflow as tf\n",
    "import pandas as pd\n",
    "import numpy as np\n",
    "import matplotlib.pyplot as plt\n",
    "\n",
    "from keras.preprocessing import sequence\n",
    "from keras.models import Sequential\n",
    "from keras.layers import Dense\n",
    "from keras.layers import LSTM\n",
    "\n",
    "from keras.optimizers import Adam\n",
    "from keras.models import load_model\n",
    "from keras.callbacks import ModelCheckpoint\n",
    "\n",
    "from sklearn.model_selection import train_test_split\n",
    "from sklearn.metrics import accuracy_score\n",
    "\n",
    "%matplotlib inline\n",
    "version = '02'"
   ]
  },
  {
   "cell_type": "markdown",
   "metadata": {},
   "source": [
    "## Dataset loading"
   ]
  },
  {
   "cell_type": "code",
   "execution_count": 8,
   "metadata": {},
   "outputs": [],
   "source": [
    "right = pd.read_csv(\"../data/right.txt\", header=None).values.tolist()\n",
    "left = pd.read_csv(\"../data/left.txt\", header=None).values.tolist()"
   ]
  },
  {
   "cell_type": "markdown",
   "metadata": {},
   "source": [
    "## Pre-processing"
   ]
  },
  {
   "cell_type": "code",
   "execution_count": 135,
   "metadata": {},
   "outputs": [],
   "source": [
    "batch_size = 200\n",
    "batch_right = [right[i:i + batch_size] for i in range(0, len(right), batch_size)]\n",
    "batch_left = [left[i:i + batch_size] for i in range(0, len(left), batch_size)]\n",
    "\n",
    "X = np.array(batch_right + batch_left)\n",
    "y = np.array([0]*len(batch_right) + [1]*len(batch_left))"
   ]
  },
  {
   "cell_type": "code",
   "execution_count": 136,
   "metadata": {},
   "outputs": [
    {
     "name": "stdout",
     "output_type": "stream",
     "text": [
      "X shape: (600, 200, 2)\n",
      "y shape: (600,)\n"
     ]
    }
   ],
   "source": [
    "print(f'X shape: {X.shape}\\ny shape: {y.shape}')"
   ]
  },
  {
   "cell_type": "code",
   "execution_count": 137,
   "metadata": {},
   "outputs": [],
   "source": [
    "X_diff = X[:,:-1,:].copy()\n",
    "X_diff[:,:,0] = np.diff(X[:,:,0])\n",
    "X_diff[:,:,1] = np.diff(X[:,:,1])"
   ]
  },
  {
   "cell_type": "code",
   "execution_count": 208,
   "metadata": {},
   "outputs": [
    {
     "data": {
      "text/plain": [
       "Text(0.5, 0, 'y relative movement (px)')"
      ]
     },
     "execution_count": 208,
     "metadata": {},
     "output_type": "execute_result"
    },
    {
     "data": {
      "image/png": "[encoded data removed]",
      "text/plain": [
       "<Figure size 864x288 with 2 Axes>"
      ]
     },
     "metadata": {
      "needs_background": "light"
     },
     "output_type": "display_data"
    }
   ],
   "source": [
    "sigma_x = np.std(X_diff[:,:,0], axis=1)\n",
    "sigma_y = np.std(X_diff[:,:,1], axis=1)\n",
    "\n",
    "X_filt = X_diff[(sigma_x>0.1)*(sigma_y>0.1)]\n",
    "\n",
    "x_std = 3.398 # np.mean(np.std(X_filt[:,:,0], axis=1))\n",
    "y_std = 2.926 # np.mean(np.std(X_filt[:,:,1], axis=1))\n",
    "\n",
    "X_filt[:,:,0] = X_filt[:,:,0] / x_std\n",
    "X_filt[:,:,1] = X_filt[:,:,1] / y_std\n",
    "\n",
    "sigma_x_filt = np.std(X_filt[:,:,0], axis=1)\n",
    "sigma_y_filt = np.std(X_filt[:,:,1], axis=1)\n",
    "\n",
    "\n",
    "fig, (ax1, ax2) = plt.subplots(1, 2,  figsize=(12, 4))\n",
    "ax1.hist(sigma_x_filt, bins=50, density=True)\n",
    "ax2.hist(sigma_y_filt, bins=50, density=True)\n",
    "for ax in (ax1,ax2):\n",
    "    ax.set_xlim(0,5)\n",
    "    ax.set_ylabel('Occurrence (%)')\n",
    "    #ax.set_yticks(np.arange(0,0.41,0.1))\n",
    "ax1.set_xlabel('x relative movement (px)')\n",
    "ax2.set_xlabel('y relative movement (px)')\n",
    "\n",
    "#fig.savefig(f'../plots/relative_movement_hist_corrected.png', bbox_inches='tight')"
   ]
  },
  {
   "cell_type": "code",
   "execution_count": 209,
   "metadata": {},
   "outputs": [
    {
     "data": {
      "text/plain": [
       "1.4900517595356684"
      ]
     },
     "execution_count": 209,
     "metadata": {},
     "output_type": "execute_result"
    }
   ],
   "source": [
    "np.mean(np.std(X_filt[:,:,0], axis=1))"
   ]
  },
  {
   "cell_type": "markdown",
   "metadata": {},
   "source": [
    "## Training/dev/test set splitting"
   ]
  },
  {
   "cell_type": "code",
   "execution_count": 211,
   "metadata": {},
   "outputs": [],
   "source": [
    "X_train, X_test, y_train, y_test = train_test_split(X, y, test_size=0.30, random_state=1)\n",
    "X_dev, X_test, y_dev, y_test = train_test_split(X_train, y_train, test_size=0.5, random_state=1)"
   ]
  },
  {
   "cell_type": "markdown",
   "metadata": {},
   "source": [
    "## Model definition"
   ]
  },
  {
   "cell_type": "code",
   "execution_count": 212,
   "metadata": {},
   "outputs": [
    {
     "name": "stdout",
     "output_type": "stream",
     "text": [
      "WARNING:tensorflow:From C:\\Users\\aamico\\AppData\\Local\\Continuum\\anaconda3\\lib\\site-packages\\tensorflow\\python\\framework\\op_def_library.py:263: colocate_with (from tensorflow.python.framework.ops) is deprecated and will be removed in a future version.\n",
      "Instructions for updating:\n",
      "Colocations handled automatically by placer.\n",
      "_________________________________________________________________\n",
      "Layer (type)                 Output Shape              Param #   \n",
      "=================================================================\n",
      "lstm_1 (LSTM)                (None, 256)               265216    \n",
      "_________________________________________________________________\n",
      "dense_1 (Dense)              (None, 1)                 257       \n",
      "=================================================================\n",
      "Total params: 265,473\n",
      "Trainable params: 265,473\n",
      "Non-trainable params: 0\n",
      "_________________________________________________________________\n"
     ]
    }
   ],
   "source": [
    "model = Sequential()\n",
    "model.add(LSTM(256, input_shape=(batch_size, 2)))\n",
    "model.add(Dense(1, activation='sigmoid'))\n",
    "\n",
    "model.summary()"
   ]
  },
  {
   "cell_type": "markdown",
   "metadata": {},
   "source": [
    "## Model training"
   ]
  },
  {
   "cell_type": "code",
   "execution_count": 213,
   "metadata": {
    "scrolled": true
   },
   "outputs": [
    {
     "name": "stdout",
     "output_type": "stream",
     "text": [
      "WARNING:tensorflow:From C:\\Users\\aamico\\AppData\\Local\\Continuum\\anaconda3\\lib\\site-packages\\tensorflow\\python\\ops\\math_ops.py:3066: to_int32 (from tensorflow.python.ops.math_ops) is deprecated and will be removed in a future version.\n",
      "Instructions for updating:\n",
      "Use tf.cast instead.\n",
      "Train on 420 samples, validate on 210 samples\n",
      "Epoch 1/200\n",
      "420/420 [==============================] - 3s 8ms/step - loss: 0.6918 - acc: 0.5500 - val_loss: 0.6535 - val_acc: 0.6238\n",
      "Epoch 2/200\n",
      "420/420 [==============================] - 2s 5ms/step - loss: 0.6641 - acc: 0.6048 - val_loss: 0.6476 - val_acc: 0.6333\n",
      "Epoch 3/200\n",
      "420/420 [==============================] - 2s 5ms/step - loss: 0.6569 - acc: 0.5976 - val_loss: 0.6227 - val_acc: 0.7048\n",
      "Epoch 4/200\n",
      "420/420 [==============================] - 2s 4ms/step - loss: 0.6428 - acc: 0.6333 - val_loss: 0.6252 - val_acc: 0.6810\n",
      "Epoch 5/200\n",
      "420/420 [==============================] - 2s 5ms/step - loss: 0.6451 - acc: 0.6143 - val_loss: 0.6289 - val_acc: 0.6476\n",
      "Epoch 6/200\n",
      "420/420 [==============================] - 2s 5ms/step - loss: 0.6402 - acc: 0.6310 - val_loss: 0.6191 - val_acc: 0.7000\n",
      "Epoch 7/200\n",
      "420/420 [==============================] - 2s 5ms/step - loss: 0.6385 - acc: 0.6476 - val_loss: 0.6257 - val_acc: 0.6905\n",
      "Epoch 8/200\n",
      "420/420 [==============================] - 2s 6ms/step - loss: 0.6396 - acc: 0.6405 - val_loss: 0.6212 - val_acc: 0.6714\n",
      "Epoch 9/200\n",
      "420/420 [==============================] - 2s 6ms/step - loss: 0.6372 - acc: 0.6357 - val_loss: 0.6257 - val_acc: 0.6714\n",
      "Epoch 10/200\n",
      "420/420 [==============================] - 2s 6ms/step - loss: 0.6374 - acc: 0.6310 - val_loss: 0.6203 - val_acc: 0.6571\n",
      "Epoch 11/200\n",
      "420/420 [==============================] - 2s 6ms/step - loss: 0.6321 - acc: 0.6452 - val_loss: 0.6167 - val_acc: 0.6714\n",
      "Epoch 12/200\n",
      "420/420 [==============================] - 2s 6ms/step - loss: 0.6305 - acc: 0.6452 - val_loss: 0.6121 - val_acc: 0.6905\n",
      "Epoch 13/200\n",
      "420/420 [==============================] - 2s 6ms/step - loss: 0.6284 - acc: 0.6357 - val_loss: 0.6130 - val_acc: 0.6762\n",
      "Epoch 14/200\n",
      "420/420 [==============================] - 2s 6ms/step - loss: 0.6310 - acc: 0.6452 - val_loss: 0.6094 - val_acc: 0.6762\n",
      "Epoch 15/200\n",
      "420/420 [==============================] - 3s 6ms/step - loss: 0.6255 - acc: 0.6333 - val_loss: 0.6135 - val_acc: 0.6524\n",
      "Epoch 16/200\n",
      "420/420 [==============================] - 3s 6ms/step - loss: 0.6242 - acc: 0.6333 - val_loss: 0.6076 - val_acc: 0.6810\n",
      "Epoch 17/200\n",
      "420/420 [==============================] - 3s 6ms/step - loss: 0.6255 - acc: 0.6071 - val_loss: 0.5994 - val_acc: 0.6762\n",
      "Epoch 18/200\n",
      "420/420 [==============================] - 3s 6ms/step - loss: 0.6217 - acc: 0.6405 - val_loss: 0.5982 - val_acc: 0.6905\n",
      "Epoch 19/200\n",
      "420/420 [==============================] - 3s 6ms/step - loss: 0.6194 - acc: 0.6452 - val_loss: 0.5881 - val_acc: 0.7143\n",
      "Epoch 20/200\n",
      "420/420 [==============================] - 3s 6ms/step - loss: 0.6160 - acc: 0.6595 - val_loss: 0.5839 - val_acc: 0.7143\n",
      "Epoch 21/200\n",
      "420/420 [==============================] - 3s 6ms/step - loss: 0.6140 - acc: 0.6524 - val_loss: 0.5862 - val_acc: 0.7000\n",
      "Epoch 22/200\n",
      "420/420 [==============================] - 3s 6ms/step - loss: 0.6139 - acc: 0.6476 - val_loss: 0.5802 - val_acc: 0.7190\n",
      "Epoch 23/200\n",
      "420/420 [==============================] - 2s 6ms/step - loss: 0.6122 - acc: 0.6571 - val_loss: 0.5794 - val_acc: 0.7095\n",
      "Epoch 24/200\n",
      "420/420 [==============================] - 2s 6ms/step - loss: 0.6146 - acc: 0.6429 - val_loss: 0.5801 - val_acc: 0.7143\n",
      "Epoch 25/200\n",
      "420/420 [==============================] - 2s 6ms/step - loss: 0.6162 - acc: 0.6357 - val_loss: 0.5769 - val_acc: 0.7000\n",
      "Epoch 26/200\n",
      "420/420 [==============================] - 2s 6ms/step - loss: 0.6120 - acc: 0.6405 - val_loss: 0.5827 - val_acc: 0.7238\n",
      "Epoch 27/200\n",
      "420/420 [==============================] - 3s 6ms/step - loss: 0.6215 - acc: 0.6429 - val_loss: 0.5784 - val_acc: 0.7190\n",
      "Epoch 28/200\n",
      "420/420 [==============================] - 2s 6ms/step - loss: 0.6100 - acc: 0.6333 - val_loss: 0.5874 - val_acc: 0.7000\n",
      "Epoch 29/200\n",
      "420/420 [==============================] - 3s 6ms/step - loss: 0.6107 - acc: 0.6357 - val_loss: 0.5790 - val_acc: 0.7143\n",
      "Epoch 30/200\n",
      "420/420 [==============================] - 2s 6ms/step - loss: 0.6074 - acc: 0.6571 - val_loss: 0.5770 - val_acc: 0.7048\n",
      "Epoch 31/200\n",
      "420/420 [==============================] - 3s 7ms/step - loss: 0.6073 - acc: 0.6738 - val_loss: 0.5869 - val_acc: 0.7143\n",
      "Epoch 32/200\n",
      "420/420 [==============================] - 3s 6ms/step - loss: 0.6134 - acc: 0.6548 - val_loss: 0.5791 - val_acc: 0.7143\n",
      "Epoch 33/200\n",
      "420/420 [==============================] - 2s 6ms/step - loss: 0.6097 - acc: 0.6524 - val_loss: 0.5805 - val_acc: 0.6905\n",
      "Epoch 34/200\n",
      "420/420 [==============================] - 2s 6ms/step - loss: 0.6086 - acc: 0.6571 - val_loss: 0.5907 - val_acc: 0.6952\n",
      "Epoch 35/200\n",
      "420/420 [==============================] - 3s 7ms/step - loss: 0.6117 - acc: 0.6524 - val_loss: 0.5781 - val_acc: 0.7000\n",
      "Epoch 36/200\n",
      "420/420 [==============================] - 3s 7ms/step - loss: 0.6109 - acc: 0.6452 - val_loss: 0.5742 - val_acc: 0.7048\n",
      "Epoch 37/200\n",
      "420/420 [==============================] - 3s 6ms/step - loss: 0.6092 - acc: 0.6405 - val_loss: 0.5707 - val_acc: 0.7190\n",
      "Epoch 38/200\n",
      "420/420 [==============================] - 3s 7ms/step - loss: 0.6042 - acc: 0.6571 - val_loss: 0.5765 - val_acc: 0.6905\n",
      "Epoch 39/200\n",
      "420/420 [==============================] - 3s 6ms/step - loss: 0.6075 - acc: 0.6429 - val_loss: 0.5774 - val_acc: 0.6952\n",
      "Epoch 40/200\n",
      "420/420 [==============================] - 3s 7ms/step - loss: 0.6084 - acc: 0.6381 - val_loss: 0.5783 - val_acc: 0.6952\n",
      "Epoch 41/200\n",
      "420/420 [==============================] - 2s 6ms/step - loss: 0.6095 - acc: 0.6405 - val_loss: 0.5848 - val_acc: 0.6857\n",
      "Epoch 42/200\n",
      "420/420 [==============================] - 3s 6ms/step - loss: 0.6091 - acc: 0.6429 - val_loss: 0.5819 - val_acc: 0.7000\n",
      "Epoch 43/200\n",
      "420/420 [==============================] - 3s 6ms/step - loss: 0.6031 - acc: 0.6690 - val_loss: 0.5728 - val_acc: 0.6952\n",
      "Epoch 44/200\n",
      "420/420 [==============================] - 2s 6ms/step - loss: 0.6146 - acc: 0.6452 - val_loss: 0.5994 - val_acc: 0.6714\n",
      "Epoch 45/200\n",
      "420/420 [==============================] - 3s 6ms/step - loss: 0.6154 - acc: 0.6548 - val_loss: 0.5885 - val_acc: 0.7095\n",
      "Epoch 46/200\n",
      "420/420 [==============================] - 3s 6ms/step - loss: 0.6064 - acc: 0.6667 - val_loss: 0.5857 - val_acc: 0.6905\n",
      "Epoch 47/200\n",
      "420/420 [==============================] - 3s 6ms/step - loss: 0.6129 - acc: 0.6405 - val_loss: 0.5766 - val_acc: 0.7000\n",
      "Epoch 48/200\n",
      "420/420 [==============================] - 3s 6ms/step - loss: 0.6109 - acc: 0.6667 - val_loss: 0.5857 - val_acc: 0.7095\n",
      "Epoch 49/200\n",
      "420/420 [==============================] - 4s 10ms/step - loss: 0.6063 - acc: 0.6500 - val_loss: 0.5745 - val_acc: 0.7190\n",
      "Epoch 50/200\n",
      "420/420 [==============================] - 3s 6ms/step - loss: 0.6021 - acc: 0.6548 - val_loss: 0.5734 - val_acc: 0.7048\n",
      "Epoch 51/200\n",
      "420/420 [==============================] - 3s 6ms/step - loss: 0.6027 - acc: 0.6714 - val_loss: 0.5750 - val_acc: 0.7000\n",
      "Epoch 52/200\n",
      "420/420 [==============================] - 3s 7ms/step - loss: 0.6018 - acc: 0.6619 - val_loss: 0.5688 - val_acc: 0.6762\n",
      "Epoch 53/200\n",
      "420/420 [==============================] - 3s 6ms/step - loss: 0.5992 - acc: 0.6452 - val_loss: 0.5654 - val_acc: 0.7095\n",
      "Epoch 54/200\n",
      "420/420 [==============================] - 3s 7ms/step - loss: 0.5955 - acc: 0.6690 - val_loss: 0.5636 - val_acc: 0.7190\n",
      "Epoch 55/200\n",
      "420/420 [==============================] - 2s 6ms/step - loss: 0.5944 - acc: 0.6619 - val_loss: 0.5560 - val_acc: 0.7048\n",
      "Epoch 56/200\n",
      "420/420 [==============================] - 3s 6ms/step - loss: 0.5982 - acc: 0.6786 - val_loss: 0.5632 - val_acc: 0.7048\n",
      "Epoch 57/200\n",
      "420/420 [==============================] - 3s 6ms/step - loss: 0.6000 - acc: 0.6595 - val_loss: 0.5657 - val_acc: 0.6952\n",
      "Epoch 58/200\n",
      "420/420 [==============================] - 3s 6ms/step - loss: 0.5966 - acc: 0.6786 - val_loss: 0.5644 - val_acc: 0.7238\n",
      "Epoch 59/200\n",
      "420/420 [==============================] - 3s 6ms/step - loss: 0.5967 - acc: 0.6548 - val_loss: 0.5557 - val_acc: 0.7095\n"
     ]
    },
    {
     "name": "stdout",
     "output_type": "stream",
     "text": [
      "Epoch 60/200\n",
      "420/420 [==============================] - 3s 6ms/step - loss: 0.5911 - acc: 0.6810 - val_loss: 0.5615 - val_acc: 0.7000\n",
      "Epoch 61/200\n",
      "420/420 [==============================] - 3s 6ms/step - loss: 0.5999 - acc: 0.6524 - val_loss: 0.5632 - val_acc: 0.7095\n",
      "Epoch 62/200\n",
      "420/420 [==============================] - 2s 6ms/step - loss: 0.5974 - acc: 0.6810 - val_loss: 0.5600 - val_acc: 0.7095\n",
      "Epoch 63/200\n",
      "420/420 [==============================] - 3s 6ms/step - loss: 0.5906 - acc: 0.6714 - val_loss: 0.5574 - val_acc: 0.7143\n",
      "Epoch 64/200\n",
      "420/420 [==============================] - 3s 6ms/step - loss: 0.5887 - acc: 0.6881 - val_loss: 0.5640 - val_acc: 0.7286\n",
      "Epoch 65/200\n",
      "420/420 [==============================] - 3s 6ms/step - loss: 0.5954 - acc: 0.6738 - val_loss: 0.5572 - val_acc: 0.6905\n",
      "Epoch 66/200\n",
      "420/420 [==============================] - 3s 6ms/step - loss: 0.5951 - acc: 0.6738 - val_loss: 0.5642 - val_acc: 0.7048\n",
      "Epoch 67/200\n",
      "420/420 [==============================] - 3s 6ms/step - loss: 0.6007 - acc: 0.6476 - val_loss: 0.5805 - val_acc: 0.6905\n",
      "Epoch 68/200\n",
      "420/420 [==============================] - 2s 6ms/step - loss: 0.5994 - acc: 0.6476 - val_loss: 0.5679 - val_acc: 0.7048\n",
      "Epoch 69/200\n",
      "420/420 [==============================] - 2s 6ms/step - loss: 0.5996 - acc: 0.6500 - val_loss: 0.5668 - val_acc: 0.7286\n",
      "Epoch 70/200\n",
      "420/420 [==============================] - 2s 6ms/step - loss: 0.5972 - acc: 0.6881 - val_loss: 0.5689 - val_acc: 0.7000\n",
      "Epoch 71/200\n",
      "420/420 [==============================] - 2s 6ms/step - loss: 0.5951 - acc: 0.6571 - val_loss: 0.5536 - val_acc: 0.7143\n",
      "Epoch 72/200\n",
      "420/420 [==============================] - 2s 6ms/step - loss: 0.5914 - acc: 0.6500 - val_loss: 0.5579 - val_acc: 0.7333\n",
      "Epoch 73/200\n",
      "420/420 [==============================] - 2s 6ms/step - loss: 0.6024 - acc: 0.6786 - val_loss: 0.5804 - val_acc: 0.7190\n",
      "Epoch 74/200\n",
      "420/420 [==============================] - 2s 6ms/step - loss: 0.6067 - acc: 0.6595 - val_loss: 0.5790 - val_acc: 0.6762\n",
      "Epoch 75/200\n",
      "420/420 [==============================] - 2s 6ms/step - loss: 0.6052 - acc: 0.6429 - val_loss: 0.5772 - val_acc: 0.7143\n",
      "Epoch 76/200\n",
      "420/420 [==============================] - 2s 6ms/step - loss: 0.6021 - acc: 0.6548 - val_loss: 0.5684 - val_acc: 0.7190\n",
      "Epoch 77/200\n",
      "420/420 [==============================] - 2s 6ms/step - loss: 0.5981 - acc: 0.6452 - val_loss: 0.5722 - val_acc: 0.7143\n",
      "Epoch 78/200\n",
      "420/420 [==============================] - 2s 6ms/step - loss: 0.5999 - acc: 0.6857 - val_loss: 0.5698 - val_acc: 0.7286\n",
      "Epoch 79/200\n",
      "420/420 [==============================] - 2s 6ms/step - loss: 0.5936 - acc: 0.6810 - val_loss: 0.5596 - val_acc: 0.6952\n",
      "Epoch 80/200\n",
      "420/420 [==============================] - 2s 6ms/step - loss: 0.6004 - acc: 0.6500 - val_loss: 0.5733 - val_acc: 0.6952\n",
      "Epoch 81/200\n",
      "420/420 [==============================] - 2s 6ms/step - loss: 0.5953 - acc: 0.6595 - val_loss: 0.5633 - val_acc: 0.7095\n",
      "Epoch 82/200\n",
      "420/420 [==============================] - 2s 6ms/step - loss: 0.5980 - acc: 0.6786 - val_loss: 0.5672 - val_acc: 0.7143\n",
      "Epoch 83/200\n",
      "420/420 [==============================] - 2s 6ms/step - loss: 0.5991 - acc: 0.6643 - val_loss: 0.5599 - val_acc: 0.7000\n",
      "Epoch 84/200\n",
      "420/420 [==============================] - 2s 6ms/step - loss: 0.5915 - acc: 0.6571 - val_loss: 0.5619 - val_acc: 0.7048\n",
      "Epoch 85/200\n",
      "420/420 [==============================] - 2s 6ms/step - loss: 0.5920 - acc: 0.6667 - val_loss: 0.5598 - val_acc: 0.7333\n",
      "Epoch 86/200\n",
      "420/420 [==============================] - 2s 6ms/step - loss: 0.5928 - acc: 0.6833 - val_loss: 0.5610 - val_acc: 0.7143\n",
      "Epoch 87/200\n",
      "420/420 [==============================] - 2s 6ms/step - loss: 0.6020 - acc: 0.6833 - val_loss: 0.5653 - val_acc: 0.7190\n",
      "Epoch 88/200\n",
      "420/420 [==============================] - 2s 6ms/step - loss: 0.5977 - acc: 0.6714 - val_loss: 0.5688 - val_acc: 0.7048\n",
      "Epoch 89/200\n",
      "420/420 [==============================] - 2s 6ms/step - loss: 0.5995 - acc: 0.6643 - val_loss: 0.5631 - val_acc: 0.7095\n",
      "Epoch 90/200\n",
      "420/420 [==============================] - 2s 6ms/step - loss: 0.5952 - acc: 0.6548 - val_loss: 0.5609 - val_acc: 0.7143\n",
      "Epoch 91/200\n",
      "420/420 [==============================] - 2s 6ms/step - loss: 0.5971 - acc: 0.6595 - val_loss: 0.5594 - val_acc: 0.7381\n",
      "Epoch 92/200\n",
      "420/420 [==============================] - 2s 6ms/step - loss: 0.5981 - acc: 0.6643 - val_loss: 0.5501 - val_acc: 0.7190\n",
      "Epoch 93/200\n",
      "420/420 [==============================] - 2s 6ms/step - loss: 0.5930 - acc: 0.6762 - val_loss: 0.5727 - val_acc: 0.7333\n",
      "Epoch 94/200\n",
      "420/420 [==============================] - 2s 6ms/step - loss: 0.5909 - acc: 0.6952 - val_loss: 0.5552 - val_acc: 0.7333\n",
      "Epoch 95/200\n",
      "420/420 [==============================] - 2s 6ms/step - loss: 0.5925 - acc: 0.6714 - val_loss: 0.5501 - val_acc: 0.6952\n",
      "Epoch 96/200\n",
      "420/420 [==============================] - 2s 6ms/step - loss: 0.5904 - acc: 0.6738 - val_loss: 0.5665 - val_acc: 0.7048\n",
      "Epoch 97/200\n",
      "420/420 [==============================] - 2s 6ms/step - loss: 0.5942 - acc: 0.6643 - val_loss: 0.5577 - val_acc: 0.6952\n",
      "Epoch 98/200\n",
      "420/420 [==============================] - 2s 6ms/step - loss: 0.5957 - acc: 0.6619 - val_loss: 0.5523 - val_acc: 0.7238\n",
      "Epoch 99/200\n",
      "420/420 [==============================] - 2s 6ms/step - loss: 0.5900 - acc: 0.6857 - val_loss: 0.5597 - val_acc: 0.7381\n",
      "Epoch 100/200\n",
      "420/420 [==============================] - 2s 6ms/step - loss: 0.5883 - acc: 0.6714 - val_loss: 0.5502 - val_acc: 0.7429\n",
      "Epoch 101/200\n",
      "420/420 [==============================] - 2s 6ms/step - loss: 0.5890 - acc: 0.6762 - val_loss: 0.5483 - val_acc: 0.7286\n",
      "Epoch 102/200\n",
      "420/420 [==============================] - 2s 6ms/step - loss: 0.5878 - acc: 0.7071 - val_loss: 0.5527 - val_acc: 0.7333\n",
      "Epoch 103/200\n",
      "420/420 [==============================] - 2s 6ms/step - loss: 0.5828 - acc: 0.6881 - val_loss: 0.5539 - val_acc: 0.7000\n",
      "Epoch 104/200\n",
      "420/420 [==============================] - 2s 6ms/step - loss: 0.5868 - acc: 0.6595 - val_loss: 0.5453 - val_acc: 0.7476\n",
      "Epoch 105/200\n",
      "420/420 [==============================] - 2s 6ms/step - loss: 0.5852 - acc: 0.6905 - val_loss: 0.5488 - val_acc: 0.7524\n",
      "Epoch 106/200\n",
      "420/420 [==============================] - 2s 6ms/step - loss: 0.5861 - acc: 0.6762 - val_loss: 0.5482 - val_acc: 0.7143\n",
      "Epoch 107/200\n",
      "420/420 [==============================] - 2s 6ms/step - loss: 0.5858 - acc: 0.6643 - val_loss: 0.5482 - val_acc: 0.7238\n",
      "Epoch 108/200\n",
      "420/420 [==============================] - 2s 6ms/step - loss: 0.5825 - acc: 0.6786 - val_loss: 0.5404 - val_acc: 0.7238\n",
      "Epoch 109/200\n",
      "420/420 [==============================] - 2s 6ms/step - loss: 0.5813 - acc: 0.6881 - val_loss: 0.5473 - val_acc: 0.7333\n",
      "Epoch 110/200\n",
      "420/420 [==============================] - 2s 6ms/step - loss: 0.5812 - acc: 0.6762 - val_loss: 0.5466 - val_acc: 0.7286\n",
      "Epoch 111/200\n",
      "420/420 [==============================] - 2s 6ms/step - loss: 0.5799 - acc: 0.6881 - val_loss: 0.5408 - val_acc: 0.7286\n",
      "Epoch 112/200\n",
      "420/420 [==============================] - 2s 6ms/step - loss: 0.5803 - acc: 0.6786 - val_loss: 0.5447 - val_acc: 0.7238\n",
      "Epoch 113/200\n",
      "420/420 [==============================] - 2s 6ms/step - loss: 0.5804 - acc: 0.6952 - val_loss: 0.5527 - val_acc: 0.7381\n",
      "Epoch 114/200\n",
      "420/420 [==============================] - 2s 6ms/step - loss: 0.5799 - acc: 0.6881 - val_loss: 0.5457 - val_acc: 0.7190\n",
      "Epoch 115/200\n",
      "420/420 [==============================] - 2s 6ms/step - loss: 0.5811 - acc: 0.6833 - val_loss: 0.5425 - val_acc: 0.7286\n",
      "Epoch 116/200\n",
      "420/420 [==============================] - 2s 6ms/step - loss: 0.5829 - acc: 0.6738 - val_loss: 0.5423 - val_acc: 0.7286\n",
      "Epoch 117/200\n",
      "420/420 [==============================] - 2s 6ms/step - loss: 0.5806 - acc: 0.6833 - val_loss: 0.5449 - val_acc: 0.7381\n",
      "Epoch 118/200\n",
      "420/420 [==============================] - 2s 6ms/step - loss: 0.5793 - acc: 0.6762 - val_loss: 0.5400 - val_acc: 0.7095\n",
      "Epoch 119/200\n",
      "420/420 [==============================] - 2s 6ms/step - loss: 0.5835 - acc: 0.6738 - val_loss: 0.5601 - val_acc: 0.7333\n",
      "Epoch 120/200\n",
      "420/420 [==============================] - 2s 6ms/step - loss: 0.5823 - acc: 0.6976 - val_loss: 0.5545 - val_acc: 0.7238\n"
     ]
    },
    {
     "name": "stdout",
     "output_type": "stream",
     "text": [
      "Epoch 121/200\n",
      "420/420 [==============================] - 2s 6ms/step - loss: 0.5827 - acc: 0.6952 - val_loss: 0.5512 - val_acc: 0.7429\n",
      "Epoch 122/200\n",
      "420/420 [==============================] - 2s 6ms/step - loss: 0.5873 - acc: 0.7024 - val_loss: 0.5532 - val_acc: 0.7143\n",
      "Epoch 123/200\n",
      "420/420 [==============================] - 2s 6ms/step - loss: 0.5787 - acc: 0.6905 - val_loss: 0.5551 - val_acc: 0.7190\n",
      "Epoch 124/200\n",
      "420/420 [==============================] - 2s 6ms/step - loss: 0.5789 - acc: 0.6929 - val_loss: 0.5465 - val_acc: 0.7238\n",
      "Epoch 125/200\n",
      "420/420 [==============================] - 2s 6ms/step - loss: 0.5804 - acc: 0.6667 - val_loss: 0.5481 - val_acc: 0.6952\n",
      "Epoch 126/200\n",
      "420/420 [==============================] - 2s 6ms/step - loss: 0.5831 - acc: 0.6738 - val_loss: 0.5469 - val_acc: 0.7333\n",
      "Epoch 127/200\n",
      "420/420 [==============================] - 3s 6ms/step - loss: 0.5727 - acc: 0.7048 - val_loss: 0.5433 - val_acc: 0.7190\n",
      "Epoch 128/200\n",
      "420/420 [==============================] - 2s 6ms/step - loss: 0.5783 - acc: 0.6810 - val_loss: 0.5480 - val_acc: 0.7381\n",
      "Epoch 129/200\n",
      "420/420 [==============================] - 2s 6ms/step - loss: 0.5779 - acc: 0.7048 - val_loss: 0.5463 - val_acc: 0.7381\n",
      "Epoch 130/200\n",
      "420/420 [==============================] - 2s 6ms/step - loss: 0.5790 - acc: 0.7095 - val_loss: 0.5435 - val_acc: 0.7381\n",
      "Epoch 131/200\n",
      "420/420 [==============================] - 2s 6ms/step - loss: 0.5755 - acc: 0.7071 - val_loss: 0.5407 - val_acc: 0.7619\n",
      "Epoch 132/200\n",
      "420/420 [==============================] - 2s 6ms/step - loss: 0.5751 - acc: 0.7119 - val_loss: 0.5411 - val_acc: 0.7619\n",
      "Epoch 133/200\n",
      "420/420 [==============================] - 2s 6ms/step - loss: 0.5775 - acc: 0.7024 - val_loss: 0.5453 - val_acc: 0.7238\n",
      "Epoch 134/200\n",
      "420/420 [==============================] - 2s 6ms/step - loss: 0.5798 - acc: 0.6905 - val_loss: 0.5422 - val_acc: 0.7143\n",
      "Epoch 135/200\n",
      "420/420 [==============================] - 2s 6ms/step - loss: 0.5750 - acc: 0.7095 - val_loss: 0.5526 - val_acc: 0.7143\n",
      "Epoch 136/200\n",
      "420/420 [==============================] - 2s 6ms/step - loss: 0.5799 - acc: 0.6952 - val_loss: 0.5393 - val_acc: 0.7524\n",
      "Epoch 137/200\n",
      "420/420 [==============================] - 2s 6ms/step - loss: 0.5707 - acc: 0.7167 - val_loss: 0.5430 - val_acc: 0.7381\n",
      "Epoch 138/200\n",
      "420/420 [==============================] - 2s 6ms/step - loss: 0.5713 - acc: 0.7190 - val_loss: 0.5348 - val_acc: 0.7619\n",
      "Epoch 139/200\n",
      "420/420 [==============================] - 2s 6ms/step - loss: 0.5719 - acc: 0.7071 - val_loss: 0.5346 - val_acc: 0.7286\n",
      "Epoch 140/200\n",
      "420/420 [==============================] - 2s 6ms/step - loss: 0.5679 - acc: 0.7048 - val_loss: 0.5400 - val_acc: 0.7143\n",
      "Epoch 141/200\n",
      "420/420 [==============================] - 2s 6ms/step - loss: 0.5709 - acc: 0.6952 - val_loss: 0.5325 - val_acc: 0.7524\n",
      "Epoch 142/200\n",
      "420/420 [==============================] - 2s 6ms/step - loss: 0.5704 - acc: 0.6952 - val_loss: 0.5318 - val_acc: 0.7238\n",
      "Epoch 143/200\n",
      "420/420 [==============================] - 2s 6ms/step - loss: 0.5737 - acc: 0.6833 - val_loss: 0.5463 - val_acc: 0.6905\n",
      "Epoch 144/200\n",
      "420/420 [==============================] - 2s 6ms/step - loss: 0.5690 - acc: 0.6881 - val_loss: 0.5280 - val_acc: 0.7381\n",
      "Epoch 145/200\n",
      "420/420 [==============================] - 2s 6ms/step - loss: 0.5753 - acc: 0.6929 - val_loss: 0.5329 - val_acc: 0.7619\n",
      "Epoch 146/200\n",
      "420/420 [==============================] - 2s 6ms/step - loss: 0.5666 - acc: 0.7119 - val_loss: 0.5458 - val_acc: 0.7095\n",
      "Epoch 147/200\n",
      "420/420 [==============================] - 2s 6ms/step - loss: 0.5724 - acc: 0.6952 - val_loss: 0.5345 - val_acc: 0.7190\n",
      "Epoch 148/200\n",
      "420/420 [==============================] - 2s 6ms/step - loss: 0.5730 - acc: 0.6976 - val_loss: 0.5350 - val_acc: 0.7286\n",
      "Epoch 149/200\n",
      "420/420 [==============================] - 2s 6ms/step - loss: 0.5682 - acc: 0.7000 - val_loss: 0.5301 - val_acc: 0.7429\n",
      "Epoch 150/200\n",
      "420/420 [==============================] - 2s 6ms/step - loss: 0.5666 - acc: 0.7048 - val_loss: 0.5325 - val_acc: 0.7286\n",
      "Epoch 151/200\n",
      "420/420 [==============================] - 2s 6ms/step - loss: 0.5733 - acc: 0.7024 - val_loss: 0.5371 - val_acc: 0.7381\n",
      "Epoch 152/200\n",
      "420/420 [==============================] - 2s 6ms/step - loss: 0.5836 - acc: 0.7000 - val_loss: 0.5642 - val_acc: 0.7048\n",
      "Epoch 153/200\n",
      "420/420 [==============================] - 2s 6ms/step - loss: 0.5731 - acc: 0.6952 - val_loss: 0.5465 - val_acc: 0.7429\n",
      "Epoch 154/200\n",
      "420/420 [==============================] - 2s 6ms/step - loss: 0.5713 - acc: 0.7190 - val_loss: 0.5419 - val_acc: 0.7476\n",
      "Epoch 155/200\n",
      "420/420 [==============================] - 2s 6ms/step - loss: 0.5671 - acc: 0.7119 - val_loss: 0.5406 - val_acc: 0.7286\n",
      "Epoch 156/200\n",
      "420/420 [==============================] - 2s 6ms/step - loss: 0.5654 - acc: 0.7119 - val_loss: 0.5331 - val_acc: 0.7524\n",
      "Epoch 157/200\n",
      "420/420 [==============================] - 3s 6ms/step - loss: 0.5655 - acc: 0.7143 - val_loss: 0.5296 - val_acc: 0.7571\n",
      "Epoch 158/200\n",
      "420/420 [==============================] - 3s 6ms/step - loss: 0.5637 - acc: 0.7143 - val_loss: 0.5261 - val_acc: 0.7714\n",
      "Epoch 159/200\n",
      "420/420 [==============================] - 2s 6ms/step - loss: 0.5618 - acc: 0.7119 - val_loss: 0.5270 - val_acc: 0.7667\n",
      "Epoch 160/200\n",
      "420/420 [==============================] - 3s 6ms/step - loss: 0.5638 - acc: 0.7143 - val_loss: 0.5283 - val_acc: 0.7429\n",
      "Epoch 161/200\n",
      "420/420 [==============================] - 2s 6ms/step - loss: 0.5777 - acc: 0.7048 - val_loss: 0.5577 - val_acc: 0.7333\n",
      "Epoch 162/200\n",
      "420/420 [==============================] - 2s 6ms/step - loss: 0.5783 - acc: 0.7071 - val_loss: 0.5497 - val_acc: 0.7429\n",
      "Epoch 163/200\n",
      "420/420 [==============================] - 2s 6ms/step - loss: 0.5742 - acc: 0.7024 - val_loss: 0.5497 - val_acc: 0.7333\n",
      "Epoch 164/200\n",
      "420/420 [==============================] - 2s 6ms/step - loss: 0.5751 - acc: 0.7024 - val_loss: 0.5379 - val_acc: 0.7381\n",
      "Epoch 165/200\n",
      "420/420 [==============================] - 2s 6ms/step - loss: 0.5699 - acc: 0.7024 - val_loss: 0.5412 - val_acc: 0.7381\n",
      "Epoch 166/200\n",
      "420/420 [==============================] - 2s 6ms/step - loss: 0.5666 - acc: 0.7071 - val_loss: 0.5368 - val_acc: 0.7381\n",
      "Epoch 167/200\n",
      "420/420 [==============================] - 2s 6ms/step - loss: 0.5670 - acc: 0.6929 - val_loss: 0.5374 - val_acc: 0.7143\n",
      "Epoch 168/200\n",
      "420/420 [==============================] - 2s 6ms/step - loss: 0.5633 - acc: 0.7048 - val_loss: 0.5385 - val_acc: 0.7476\n",
      "Epoch 169/200\n",
      "420/420 [==============================] - 3s 6ms/step - loss: 0.5724 - acc: 0.7000 - val_loss: 0.5297 - val_acc: 0.7381\n",
      "Epoch 170/200\n",
      "420/420 [==============================] - 3s 7ms/step - loss: 0.5675 - acc: 0.6976 - val_loss: 0.5459 - val_acc: 0.7190\n",
      "Epoch 171/200\n",
      "420/420 [==============================] - 3s 6ms/step - loss: 0.5740 - acc: 0.6929 - val_loss: 0.5500 - val_acc: 0.7048\n",
      "Epoch 172/200\n",
      "420/420 [==============================] - 3s 7ms/step - loss: 0.5806 - acc: 0.6929 - val_loss: 0.5355 - val_acc: 0.7143\n",
      "Epoch 173/200\n",
      "420/420 [==============================] - 3s 6ms/step - loss: 0.5707 - acc: 0.7167 - val_loss: 0.5440 - val_acc: 0.7381\n",
      "Epoch 174/200\n",
      "420/420 [==============================] - 3s 6ms/step - loss: 0.5649 - acc: 0.7000 - val_loss: 0.5248 - val_acc: 0.7333\n",
      "Epoch 175/200\n",
      "420/420 [==============================] - 3s 6ms/step - loss: 0.5643 - acc: 0.7119 - val_loss: 0.5346 - val_acc: 0.7333\n",
      "Epoch 176/200\n",
      "420/420 [==============================] - 3s 6ms/step - loss: 0.5633 - acc: 0.7357 - val_loss: 0.5303 - val_acc: 0.7429\n",
      "Epoch 177/200\n",
      "420/420 [==============================] - 2s 6ms/step - loss: 0.5614 - acc: 0.7167 - val_loss: 0.5290 - val_acc: 0.7381\n",
      "Epoch 178/200\n",
      "420/420 [==============================] - 3s 6ms/step - loss: 0.5688 - acc: 0.7071 - val_loss: 0.5340 - val_acc: 0.7381\n",
      "Epoch 179/200\n",
      "420/420 [==============================] - 3s 7ms/step - loss: 0.5727 - acc: 0.6929 - val_loss: 0.5318 - val_acc: 0.7286\n",
      "Epoch 180/200\n",
      "420/420 [==============================] - 3s 6ms/step - loss: 0.5745 - acc: 0.7071 - val_loss: 0.5418 - val_acc: 0.7143\n",
      "Epoch 181/200\n",
      "420/420 [==============================] - 3s 6ms/step - loss: 0.5750 - acc: 0.6976 - val_loss: 0.5422 - val_acc: 0.7381\n",
      "Epoch 182/200\n",
      "420/420 [==============================] - 2s 6ms/step - loss: 0.5722 - acc: 0.7000 - val_loss: 0.5432 - val_acc: 0.7286\n",
      "Epoch 183/200\n",
      "420/420 [==============================] - 3s 6ms/step - loss: 0.5684 - acc: 0.7095 - val_loss: 0.5325 - val_acc: 0.7333\n",
      "Epoch 184/200\n",
      "420/420 [==============================] - 3s 7ms/step - loss: 0.5668 - acc: 0.7048 - val_loss: 0.5421 - val_acc: 0.7333\n",
      "Epoch 185/200\n",
      "420/420 [==============================] - 2s 6ms/step - loss: 0.5643 - acc: 0.7214 - val_loss: 0.5311 - val_acc: 0.7429\n",
      "Epoch 186/200\n",
      "420/420 [==============================] - 2s 6ms/step - loss: 0.5701 - acc: 0.7214 - val_loss: 0.5340 - val_acc: 0.7286\n",
      "Epoch 187/200\n",
      "420/420 [==============================] - 2s 6ms/step - loss: 0.5742 - acc: 0.6881 - val_loss: 0.5378 - val_acc: 0.7286\n",
      "Epoch 188/200\n",
      "420/420 [==============================] - 3s 7ms/step - loss: 0.5720 - acc: 0.7214 - val_loss: 0.5505 - val_acc: 0.7238\n",
      "Epoch 189/200\n",
      "420/420 [==============================] - 3s 6ms/step - loss: 0.5663 - acc: 0.7214 - val_loss: 0.5351 - val_acc: 0.7333\n",
      "Epoch 190/200\n",
      "420/420 [==============================] - 3s 7ms/step - loss: 0.5689 - acc: 0.7024 - val_loss: 0.5336 - val_acc: 0.7333\n",
      "Epoch 191/200\n",
      "420/420 [==============================] - 3s 7ms/step - loss: 0.5650 - acc: 0.7071 - val_loss: 0.5332 - val_acc: 0.7476\n",
      "Epoch 192/200\n",
      "420/420 [==============================] - 3s 7ms/step - loss: 0.5662 - acc: 0.7286 - val_loss: 0.5305 - val_acc: 0.7381\n",
      "Epoch 193/200\n",
      "420/420 [==============================] - 3s 7ms/step - loss: 0.5666 - acc: 0.7119 - val_loss: 0.5362 - val_acc: 0.7333\n",
      "Epoch 194/200\n",
      "420/420 [==============================] - 3s 6ms/step - loss: 0.5647 - acc: 0.7095 - val_loss: 0.5241 - val_acc: 0.7429\n",
      "Epoch 195/200\n",
      "420/420 [==============================] - 3s 6ms/step - loss: 0.5664 - acc: 0.7190 - val_loss: 0.5347 - val_acc: 0.7238\n",
      "Epoch 196/200\n",
      "420/420 [==============================] - 3s 6ms/step - loss: 0.5694 - acc: 0.7095 - val_loss: 0.5447 - val_acc: 0.7190\n",
      "Epoch 197/200\n",
      "420/420 [==============================] - 2s 6ms/step - loss: 0.5659 - acc: 0.6952 - val_loss: 0.5315 - val_acc: 0.7143\n",
      "Epoch 198/200\n",
      "420/420 [==============================] - 3s 6ms/step - loss: 0.5625 - acc: 0.7238 - val_loss: 0.5258 - val_acc: 0.7381\n",
      "Epoch 199/200\n",
      "420/420 [==============================] - 2s 6ms/step - loss: 0.5649 - acc: 0.6952 - val_loss: 0.5318 - val_acc: 0.7048\n",
      "Epoch 200/200\n",
      "420/420 [==============================] - 3s 6ms/step - loss: 0.5577 - acc: 0.7167 - val_loss: 0.5210 - val_acc: 0.7476\n"
     ]
    }
   ],
   "source": [
    "adam = Adam(lr=0.001)\n",
    "chk = ModelCheckpoint(f'../models/best_model_{version}.pkl', monitor='acc', save_best_only=True, mode='max', verbose=0) #monitor='val_acc'\n",
    "model.compile(loss='binary_crossentropy', optimizer=adam, metrics=['accuracy'])\n",
    "history_training = model.fit(X_train, y_train, epochs=200, batch_size=64, callbacks=[chk], validation_data=(X_dev, y_dev))"
   ]
  },
  {
   "cell_type": "markdown",
   "metadata": {},
   "source": [
    "## Training history plot"
   ]
  },
  {
   "cell_type": "code",
   "execution_count": 214,
   "metadata": {},
   "outputs": [
    {
     "name": "stdout",
     "output_type": "stream",
     "text": [
      "Best accuracy on the dev set: 77.1%\n",
      "Best accuracy on the training set: 73.6%\n"
     ]
    },
    {
     "data": {
      "image/png": "[encoded data removed]",
      "text/plain": [
       "<Figure size 864x288 with 2 Axes>"
      ]
     },
     "metadata": {
      "needs_background": "light"
     },
     "output_type": "display_data"
    }
   ],
   "source": [
    "fig, (ax1, ax2) = plt.subplots(1, 2, figsize=(12,4))\n",
    "\n",
    "ax1.plot(history_training.history['acc'], label='train')\n",
    "ax1.plot(history_training.history['val_acc'], label='dev')\n",
    "\n",
    "ax2.plot(history_training.history['loss'], label='train')\n",
    "ax2.plot(history_training.history['val_loss'], label='dev')\n",
    "\n",
    "ax1.set_xlabel('Epoch')\n",
    "ax2.set_xlabel('Epoch')\n",
    "ax1.legend()\n",
    "ax2.legend()\n",
    "\n",
    "ax1.set_ylabel('Accuracy')\n",
    "ax2.set_ylabel('Loss')\n",
    "\n",
    "best_acc = max(history_training.history['val_acc'])\n",
    "print(f'Best accuracy on the dev set: {best_acc*100:.1f}%')\n",
    "best_acc_training = max(history_training.history['acc'])\n",
    "print(f'Best accuracy on the training set: {best_acc_training*100:.1f}%')\n",
    "#fig.savefig(f'../plots/model_{version}.png', bbox_inches='tight')"
   ]
  },
  {
   "cell_type": "markdown",
   "metadata": {},
   "source": [
    "## Evaluation of the model"
   ]
  },
  {
   "cell_type": "code",
   "execution_count": 216,
   "metadata": {},
   "outputs": [],
   "source": [
    "model = load_model(f'../models/best_model_{version}.pkl') # load best model"
   ]
  },
  {
   "cell_type": "code",
   "execution_count": 217,
   "metadata": {},
   "outputs": [
    {
     "name": "stdout",
     "output_type": "stream",
     "text": [
      "Accuracy on the dev set: 74.3%\n",
      "Accuracy on the training set: 72.4%\n"
     ]
    }
   ],
   "source": [
    "dev_preds = model.predict_classes(X_dev)\n",
    "acc_dev = accuracy_score(y_dev, dev_preds)\n",
    "print(f'Accuracy on the dev set: {acc_dev*100:.1f}%')\n",
    "\n",
    "training_preds = model.predict_classes(X_train)\n",
    "acc_training = accuracy_score(y_train, training_preds)\n",
    "print(f'Accuracy on the training set: {acc_training*100:.1f}%')"
   ]
  },
  {
   "cell_type": "code",
   "execution_count": 218,
   "metadata": {},
   "outputs": [
    {
     "data": {
      "image/png": "[encoded data removed]",
      "text/plain": [
       "<Figure size 216x216 with 2 Axes>"
      ]
     },
     "metadata": {
      "needs_background": "light"
     },
     "output_type": "display_data"
    }
   ],
   "source": [
    "import itertools\n",
    "from sklearn.metrics import confusion_matrix\n",
    "\n",
    "cm = confusion_matrix(y_dev, dev_preds)\n",
    "\n",
    "classes=['Right', 'Left']\n",
    "fig, ax = plt.subplots(1, figsize=(3,3))\n",
    "tick_marks = np.arange(len(classes))\n",
    "plt.xticks(tick_marks, classes)\n",
    "plt.yticks(tick_marks, classes)\n",
    "\n",
    "cm_norm = cm / cm.sum(axis=1)*100\n",
    "im = ax.imshow(cm_norm, cmap='Blues', interpolation='none', clim=(0,100))\n",
    "ax.set_title(f'Confusion matrix ({y_dev.shape[0]} samples)', size=13)\n",
    "\n",
    "\n",
    "for i, j in itertools.product(range(cm.shape[0]), range(cm.shape[1])):\n",
    "    ax.text(j, i, f'{cm[i,j]}\\n{cm_norm[i, j]:.1f}%', size=13,\n",
    "             horizontalalignment=\"center\", verticalalignment=\"center\",\n",
    "             color=\"white\" if cm[i, j] > 60 else \"black\")\n",
    "ax.set_ylabel('True label', size=12)\n",
    "ax.set_xlabel('Predicted label', size=12)\n",
    "\n",
    "cb_ax = fig.add_axes([0.95, 0.12, 0.1, 0.76])\n",
    "cb = fig.colorbar(im, cax=cb_ax, orientation='vertical')\n",
    "cb.set_label('%')\n",
    "\n",
    "fig.savefig(f'../plots/conf_matrix_{version}.png', bbox_inches='tight')"
   ]
  },
  {
   "cell_type": "code",
   "execution_count": null,
   "metadata": {},
   "outputs": [],
   "source": []
  }
 ],
 "metadata": {
  "kernelspec": {
   "display_name": "Python 3",
   "language": "python",
   "name": "python3"
  },
  "language_info": {
   "codemirror_mode": {
    "name": "ipython",
    "version": 3
   },
   "file_extension": ".py",
   "mimetype": "text/x-python",
   "name": "python",
   "nbconvert_exporter": "python",
   "pygments_lexer": "ipython3",
   "version": "3.7.3"
  }
 },
 "nbformat": 4,
 "nbformat_minor": 2
}
