{
 "cells": [
  {
   "cell_type": "code",
   "execution_count": 1,
   "metadata": {},
   "outputs": [
    {
     "name": "stderr",
     "output_type": "stream",
     "text": [
      "Using TensorFlow backend.\n"
     ]
    }
   ],
   "source": [
    "import tensorflow as tf\n",
    "import pandas as pd\n",
    "import numpy as np\n",
    "import matplotlib.pyplot as plt\n",
    "\n",
    "from keras.preprocessing import sequence\n",
    "from keras.models import Sequential\n",
    "from keras.layers import Dense\n",
    "from keras.layers import LSTM\n",
    "\n",
    "from keras.optimizers import Adam\n",
    "from keras.models import load_model\n",
    "from keras.callbacks import ModelCheckpoint\n",
    "\n",
    "from sklearn.model_selection import train_test_split\n",
    "from sklearn.metrics import accuracy_score\n",
    "\n",
    "%matplotlib inline\n",
    "version = '02'"
   ]
  },
  {
   "cell_type": "code",
   "execution_count": 2,
   "metadata": {},
   "outputs": [],
   "source": [
    "def play_bell():\n",
    "    import winsound\n",
    "    duration = 200  # millisecond\n",
    "    freq = 440  # Hz\n",
    "    for i in range(5):\n",
    "        winsound.Beep(int(freq*(i/2+1)), duration)"
   ]
  },
  {
   "cell_type": "markdown",
   "metadata": {},
   "source": [
    "## Dataset loading"
   ]
  },
  {
   "cell_type": "code",
   "execution_count": 3,
   "metadata": {},
   "outputs": [],
   "source": [
    "right = pd.read_csv(\"../data/right.txt\", header=None).values.tolist()\n",
    "left = pd.read_csv(\"../data/left.txt\", header=None).values.tolist()"
   ]
  },
  {
   "cell_type": "markdown",
   "metadata": {},
   "source": [
    "## Pre-processing"
   ]
  },
  {
   "cell_type": "code",
   "execution_count": 19,
   "metadata": {},
   "outputs": [],
   "source": [
    "batch_size = 200\n",
    "batch_right = [right[i:i + batch_size] for i in range(0, len(right), batch_size)]\n",
    "batch_left = [left[i:i + batch_size] for i in range(0, len(left), batch_size)]\n",
    "\n",
    "X = np.array(batch_right + batch_left)\n",
    "y = np.array([0]*len(batch_right) + [1]*len(batch_left))"
   ]
  },
  {
   "cell_type": "code",
   "execution_count": 20,
   "metadata": {},
   "outputs": [
    {
     "name": "stdout",
     "output_type": "stream",
     "text": [
      "X shape: (600, 200, 2)\n",
      "y shape: (600,)\n"
     ]
    }
   ],
   "source": [
    "print(f'X shape: {X.shape}\\ny shape: {y.shape}')"
   ]
  },
  {
   "cell_type": "code",
   "execution_count": 21,
   "metadata": {},
   "outputs": [],
   "source": [
    "X_diff = X[:,:-1,:].copy()\n",
    "X_diff[:,:,0] = np.diff(X[:,:,0])\n",
    "X_diff[:,:,1] = np.diff(X[:,:,1])"
   ]
  },
  {
   "cell_type": "code",
   "execution_count": 22,
   "metadata": {},
   "outputs": [
    {
     "data": {
      "image/png": "[encoded data removed]",
      "text/plain": [
       "<Figure size 864x288 with 2 Axes>"
      ]
     },
     "metadata": {
      "needs_background": "light"
     },
     "output_type": "display_data"
    }
   ],
   "source": [
    "sigma_x = np.std(X_diff[:,:,0], axis=1)\n",
    "sigma_y = np.std(X_diff[:,:,1], axis=1)\n",
    "mask = (sigma_x>0.1)*(sigma_y>0.1)\n",
    "\n",
    "X_filt = X_diff[mask]\n",
    "y_filt = y[mask]\n",
    "\n",
    "x_std = 3.398 # np.mean(np.std(X_filt[:,:,0], axis=1))\n",
    "y_std = 2.926 # np.mean(np.std(X_filt[:,:,1], axis=1))\n",
    "\n",
    "X_filt[:,:,0] = X_filt[:,:,0] / x_std\n",
    "X_filt[:,:,1] = X_filt[:,:,1] / y_std\n",
    "\n",
    "sigma_x_filt = np.std(X_filt[:,:,0], axis=1)\n",
    "sigma_y_filt = np.std(X_filt[:,:,1], axis=1)\n",
    "\n",
    "\n",
    "fig, (ax1, ax2) = plt.subplots(1, 2,  figsize=(12, 4))\n",
    "ax1.hist(sigma_x_filt, bins=50, density=True)\n",
    "ax2.hist(sigma_y_filt, bins=50, density=True)\n",
    "for ax in (ax1,ax2):\n",
    "    ax.set_xlim(0,5)\n",
    "    ax.set_ylabel('Occurrence (%)')\n",
    "    #ax.set_yticks(np.arange(0,0.41,0.1))\n",
    "ax1.set_xlabel('x relative movement (px)')\n",
    "ax2.set_xlabel('y relative movement (px)')\n",
    "\n",
    "fig.savefig(f'../plots/relative_movement_hist_corrected.png', bbox_inches='tight')"
   ]
  },
  {
   "cell_type": "code",
   "execution_count": 8,
   "metadata": {},
   "outputs": [
    {
     "data": {
      "text/plain": [
       "1.4900517595356684"
      ]
     },
     "execution_count": 8,
     "metadata": {},
     "output_type": "execute_result"
    }
   ],
   "source": [
    "np.mean(np.std(X_filt[:,:,0], axis=1))"
   ]
  },
  {
   "cell_type": "markdown",
   "metadata": {},
   "source": [
    "## Training/dev/test set splitting"
   ]
  },
  {
   "cell_type": "code",
   "execution_count": 10,
   "metadata": {},
   "outputs": [],
   "source": [
    "X = X_filt\n",
    "y = y_filt\n",
    "\n",
    "X_train, X_test, y_train, y_test = train_test_split(X, y, test_size=0.30, random_state=1, shuffle=True)\n",
    "X_dev, X_test, y_dev, y_test = train_test_split(X_test, y_test, test_size=0.5, random_state=1, shuffle=True)"
   ]
  },
  {
   "cell_type": "markdown",
   "metadata": {},
   "source": [
    "## Model definition"
   ]
  },
  {
   "cell_type": "code",
   "execution_count": 11,
   "metadata": {},
   "outputs": [
    {
     "name": "stdout",
     "output_type": "stream",
     "text": [
      "WARNING:tensorflow:From C:\\Users\\aamico\\AppData\\Local\\Continuum\\anaconda3\\lib\\site-packages\\tensorflow\\python\\framework\\op_def_library.py:263: colocate_with (from tensorflow.python.framework.ops) is deprecated and will be removed in a future version.\n",
      "Instructions for updating:\n",
      "Colocations handled automatically by placer.\n",
      "_________________________________________________________________\n",
      "Layer (type)                 Output Shape              Param #   \n",
      "=================================================================\n",
      "lstm_1 (LSTM)                (None, 256)               265216    \n",
      "_________________________________________________________________\n",
      "dense_1 (Dense)              (None, 1)                 257       \n",
      "=================================================================\n",
      "Total params: 265,473\n",
      "Trainable params: 265,473\n",
      "Non-trainable params: 0\n",
      "_________________________________________________________________\n"
     ]
    }
   ],
   "source": [
    "model = Sequential()\n",
    "model.add(LSTM(256, input_shape=(X_dev.shape[1], 2)))\n",
    "model.add(Dense(1, activation='sigmoid'))\n",
    "\n",
    "model.summary()"
   ]
  },
  {
   "cell_type": "markdown",
   "metadata": {},
   "source": [
    "## Model training"
   ]
  },
  {
   "cell_type": "code",
   "execution_count": 12,
   "metadata": {
    "scrolled": true
   },
   "outputs": [
    {
     "name": "stdout",
     "output_type": "stream",
     "text": [
      "WARNING:tensorflow:From C:\\Users\\aamico\\AppData\\Local\\Continuum\\anaconda3\\lib\\site-packages\\tensorflow\\python\\ops\\math_ops.py:3066: to_int32 (from tensorflow.python.ops.math_ops) is deprecated and will be removed in a future version.\n",
      "Instructions for updating:\n",
      "Use tf.cast instead.\n",
      "Train on 345 samples, validate on 74 samples\n",
      "Epoch 1/200\n",
      "345/345 [==============================] - 3s 7ms/step - loss: 0.6871 - acc: 0.5565 - val_loss: 0.6996 - val_acc: 0.3919\n",
      "Epoch 2/200\n",
      "345/345 [==============================] - 1s 4ms/step - loss: 0.6844 - acc: 0.5681 - val_loss: 0.7020 - val_acc: 0.3784\n",
      "Epoch 3/200\n",
      "345/345 [==============================] - 1s 4ms/step - loss: 0.6816 - acc: 0.5652 - val_loss: 0.7036 - val_acc: 0.3784\n",
      "Epoch 4/200\n",
      "345/345 [==============================] - 1s 4ms/step - loss: 0.6796 - acc: 0.5594 - val_loss: 0.7049 - val_acc: 0.3919\n",
      "Epoch 5/200\n",
      "345/345 [==============================] - 1s 4ms/step - loss: 0.6775 - acc: 0.5507 - val_loss: 0.7056 - val_acc: 0.4189\n",
      "Epoch 6/200\n",
      "345/345 [==============================] - 1s 4ms/step - loss: 0.6756 - acc: 0.5478 - val_loss: 0.7060 - val_acc: 0.4189\n",
      "Epoch 7/200\n",
      "345/345 [==============================] - 1s 4ms/step - loss: 0.6741 - acc: 0.5478 - val_loss: 0.7067 - val_acc: 0.4189\n",
      "Epoch 8/200\n",
      "345/345 [==============================] - 2s 4ms/step - loss: 0.6723 - acc: 0.5478 - val_loss: 0.7080 - val_acc: 0.4189\n",
      "Epoch 9/200\n",
      "345/345 [==============================] - 2s 5ms/step - loss: 0.6706 - acc: 0.5478 - val_loss: 0.7092 - val_acc: 0.4189\n",
      "Epoch 10/200\n",
      "345/345 [==============================] - 2s 5ms/step - loss: 0.6690 - acc: 0.5449 - val_loss: 0.7095 - val_acc: 0.4324\n",
      "Epoch 11/200\n",
      "345/345 [==============================] - 2s 5ms/step - loss: 0.6673 - acc: 0.5449 - val_loss: 0.7097 - val_acc: 0.4459\n",
      "Epoch 12/200\n",
      "345/345 [==============================] - 2s 5ms/step - loss: 0.6658 - acc: 0.5507 - val_loss: 0.7105 - val_acc: 0.4459\n",
      "Epoch 13/200\n",
      "345/345 [==============================] - 2s 7ms/step - loss: 0.6643 - acc: 0.5536 - val_loss: 0.7117 - val_acc: 0.4324\n",
      "Epoch 14/200\n",
      "345/345 [==============================] - 2s 6ms/step - loss: 0.6625 - acc: 0.5623 - val_loss: 0.7097 - val_acc: 0.4324\n",
      "Epoch 15/200\n",
      "345/345 [==============================] - 2s 7ms/step - loss: 0.6610 - acc: 0.5652 - val_loss: 0.7093 - val_acc: 0.4324\n",
      "Epoch 16/200\n",
      "345/345 [==============================] - 3s 9ms/step - loss: 0.6593 - acc: 0.5681 - val_loss: 0.7075 - val_acc: 0.4324\n",
      "Epoch 17/200\n",
      "345/345 [==============================] - 2s 6ms/step - loss: 0.6573 - acc: 0.5623 - val_loss: 0.7072 - val_acc: 0.4324\n",
      "Epoch 18/200\n",
      "345/345 [==============================] - 2s 7ms/step - loss: 0.6556 - acc: 0.5623 - val_loss: 0.7063 - val_acc: 0.4324\n",
      "Epoch 19/200\n",
      "345/345 [==============================] - 3s 8ms/step - loss: 0.6540 - acc: 0.5594 - val_loss: 0.7056 - val_acc: 0.4459\n",
      "Epoch 20/200\n",
      "345/345 [==============================] - 3s 7ms/step - loss: 0.6515 - acc: 0.5565 - val_loss: 0.7069 - val_acc: 0.4459\n",
      "Epoch 21/200\n",
      "345/345 [==============================] - 2s 6ms/step - loss: 0.6497 - acc: 0.5536 - val_loss: 0.7058 - val_acc: 0.4730\n",
      "Epoch 22/200\n",
      "345/345 [==============================] - 2s 5ms/step - loss: 0.6475 - acc: 0.5652 - val_loss: 0.7038 - val_acc: 0.4865\n",
      "Epoch 23/200\n",
      "345/345 [==============================] - 2s 5ms/step - loss: 0.6450 - acc: 0.5652 - val_loss: 0.7020 - val_acc: 0.4865\n",
      "Epoch 24/200\n",
      "345/345 [==============================] - 2s 5ms/step - loss: 0.6421 - acc: 0.5739 - val_loss: 0.6966 - val_acc: 0.4865\n",
      "Epoch 25/200\n",
      "345/345 [==============================] - 2s 5ms/step - loss: 0.6389 - acc: 0.5739 - val_loss: 0.6901 - val_acc: 0.5946\n",
      "Epoch 26/200\n",
      "345/345 [==============================] - 2s 5ms/step - loss: 0.6363 - acc: 0.5884 - val_loss: 0.6877 - val_acc: 0.6757\n",
      "Epoch 27/200\n",
      "345/345 [==============================] - 2s 5ms/step - loss: 0.6387 - acc: 0.6174 - val_loss: 0.6787 - val_acc: 0.6757\n",
      "Epoch 28/200\n",
      "345/345 [==============================] - 2s 5ms/step - loss: 0.6269 - acc: 0.6348 - val_loss: 0.6770 - val_acc: 0.6486\n",
      "Epoch 29/200\n",
      "345/345 [==============================] - 2s 5ms/step - loss: 0.6219 - acc: 0.6348 - val_loss: 0.6579 - val_acc: 0.6892\n",
      "Epoch 30/200\n",
      "345/345 [==============================] - 2s 5ms/step - loss: 0.6417 - acc: 0.6319 - val_loss: 0.6696 - val_acc: 0.6351\n",
      "Epoch 31/200\n",
      "345/345 [==============================] - 2s 5ms/step - loss: 0.6350 - acc: 0.6145 - val_loss: 0.6833 - val_acc: 0.5541\n",
      "Epoch 32/200\n",
      "345/345 [==============================] - 2s 5ms/step - loss: 0.6412 - acc: 0.6029 - val_loss: 0.6859 - val_acc: 0.5541\n",
      "Epoch 33/200\n",
      "345/345 [==============================] - 2s 5ms/step - loss: 0.6393 - acc: 0.6029 - val_loss: 0.6865 - val_acc: 0.5541\n",
      "Epoch 34/200\n",
      "345/345 [==============================] - 2s 5ms/step - loss: 0.6341 - acc: 0.6116 - val_loss: 0.6830 - val_acc: 0.5811\n",
      "Epoch 35/200\n",
      "345/345 [==============================] - 2s 5ms/step - loss: 0.6270 - acc: 0.6116 - val_loss: 0.6718 - val_acc: 0.6622\n",
      "Epoch 36/200\n",
      "345/345 [==============================] - 2s 5ms/step - loss: 0.6213 - acc: 0.6290 - val_loss: 0.6529 - val_acc: 0.7162\n",
      "Epoch 37/200\n",
      "345/345 [==============================] - 2s 6ms/step - loss: 0.6209 - acc: 0.6348 - val_loss: 0.6581 - val_acc: 0.6486\n",
      "Epoch 38/200\n",
      "345/345 [==============================] - 2s 6ms/step - loss: 0.6233 - acc: 0.6116 - val_loss: 0.6696 - val_acc: 0.6216\n",
      "Epoch 39/200\n",
      "345/345 [==============================] - 2s 7ms/step - loss: 0.6243 - acc: 0.6348 - val_loss: 0.6632 - val_acc: 0.6486\n",
      "Epoch 40/200\n",
      "345/345 [==============================] - 2s 7ms/step - loss: 0.6141 - acc: 0.6406 - val_loss: 0.6431 - val_acc: 0.7432\n",
      "Epoch 41/200\n",
      "345/345 [==============================] - 2s 7ms/step - loss: 0.6080 - acc: 0.6406 - val_loss: 0.6436 - val_acc: 0.6757\n",
      "Epoch 42/200\n",
      "345/345 [==============================] - 2s 6ms/step - loss: 0.6033 - acc: 0.6406 - val_loss: 0.6393 - val_acc: 0.6622\n",
      "Epoch 43/200\n",
      "345/345 [==============================] - 2s 5ms/step - loss: 0.6019 - acc: 0.6406 - val_loss: 0.6383 - val_acc: 0.6622\n",
      "Epoch 44/200\n",
      "345/345 [==============================] - 2s 5ms/step - loss: 0.6009 - acc: 0.6522 - val_loss: 0.6395 - val_acc: 0.6757\n",
      "Epoch 45/200\n",
      "345/345 [==============================] - 2s 5ms/step - loss: 0.5953 - acc: 0.6638 - val_loss: 0.6288 - val_acc: 0.7162\n",
      "Epoch 46/200\n",
      "345/345 [==============================] - 2s 5ms/step - loss: 0.6015 - acc: 0.6493 - val_loss: 0.6487 - val_acc: 0.6622\n",
      "Epoch 47/200\n",
      "345/345 [==============================] - 2s 5ms/step - loss: 0.6067 - acc: 0.6493 - val_loss: 0.6604 - val_acc: 0.6216\n",
      "Epoch 48/200\n",
      "345/345 [==============================] - 2s 5ms/step - loss: 0.5999 - acc: 0.6667 - val_loss: 0.6242 - val_acc: 0.6892\n",
      "Epoch 49/200\n",
      "345/345 [==============================] - 2s 5ms/step - loss: 0.5947 - acc: 0.6580 - val_loss: 0.6346 - val_acc: 0.6757\n",
      "Epoch 50/200\n",
      "345/345 [==============================] - 2s 6ms/step - loss: 0.5914 - acc: 0.6667 - val_loss: 0.6387 - val_acc: 0.6757\n",
      "Epoch 51/200\n",
      "345/345 [==============================] - 2s 5ms/step - loss: 0.5918 - acc: 0.6754 - val_loss: 0.6124 - val_acc: 0.6757\n",
      "Epoch 52/200\n",
      "345/345 [==============================] - 2s 5ms/step - loss: 0.5828 - acc: 0.6783 - val_loss: 0.6275 - val_acc: 0.6757\n",
      "Epoch 53/200\n",
      "345/345 [==============================] - 2s 5ms/step - loss: 0.5856 - acc: 0.6754 - val_loss: 0.6094 - val_acc: 0.7162\n",
      "Epoch 54/200\n",
      "345/345 [==============================] - 2s 5ms/step - loss: 0.5801 - acc: 0.6841 - val_loss: 0.6452 - val_acc: 0.6486\n",
      "Epoch 55/200\n",
      "345/345 [==============================] - 2s 5ms/step - loss: 0.5712 - acc: 0.6841 - val_loss: 0.5971 - val_acc: 0.7297\n",
      "Epoch 56/200\n",
      "345/345 [==============================] - 2s 5ms/step - loss: 0.5572 - acc: 0.6841 - val_loss: 0.6430 - val_acc: 0.6622\n",
      "Epoch 57/200\n",
      "345/345 [==============================] - 2s 5ms/step - loss: 0.5663 - acc: 0.6812 - val_loss: 0.6241 - val_acc: 0.6892\n",
      "Epoch 58/200\n",
      "345/345 [==============================] - 2s 5ms/step - loss: 0.5629 - acc: 0.6899 - val_loss: 0.6123 - val_acc: 0.7162\n",
      "Epoch 59/200\n",
      "345/345 [==============================] - 2s 5ms/step - loss: 0.5561 - acc: 0.7014 - val_loss: 0.6157 - val_acc: 0.7027\n"
     ]
    },
    {
     "name": "stdout",
     "output_type": "stream",
     "text": [
      "Epoch 60/200\n",
      "345/345 [==============================] - 2s 5ms/step - loss: 0.5464 - acc: 0.7043 - val_loss: 0.5993 - val_acc: 0.7297\n",
      "Epoch 61/200\n",
      "345/345 [==============================] - 2s 5ms/step - loss: 0.5889 - acc: 0.6928 - val_loss: 0.6533 - val_acc: 0.6892\n",
      "Epoch 62/200\n",
      "345/345 [==============================] - 2s 5ms/step - loss: 0.5949 - acc: 0.6580 - val_loss: 0.6611 - val_acc: 0.6216\n",
      "Epoch 63/200\n",
      "345/345 [==============================] - 2s 5ms/step - loss: 0.5886 - acc: 0.6493 - val_loss: 0.6403 - val_acc: 0.6757\n",
      "Epoch 64/200\n",
      "345/345 [==============================] - 2s 5ms/step - loss: 0.6019 - acc: 0.6899 - val_loss: 0.6188 - val_acc: 0.6892\n",
      "Epoch 65/200\n",
      "345/345 [==============================] - 2s 5ms/step - loss: 0.5633 - acc: 0.6783 - val_loss: 0.6198 - val_acc: 0.7297\n",
      "Epoch 66/200\n",
      "345/345 [==============================] - 2s 5ms/step - loss: 0.5484 - acc: 0.7130 - val_loss: 0.5910 - val_acc: 0.7432\n",
      "Epoch 67/200\n",
      "345/345 [==============================] - 2s 6ms/step - loss: 0.5464 - acc: 0.7130 - val_loss: 0.6093 - val_acc: 0.7162\n",
      "Epoch 68/200\n",
      "345/345 [==============================] - 2s 6ms/step - loss: 0.5363 - acc: 0.7159 - val_loss: 0.5865 - val_acc: 0.7568\n",
      "Epoch 69/200\n",
      "345/345 [==============================] - 2s 6ms/step - loss: 0.5311 - acc: 0.7246 - val_loss: 0.5941 - val_acc: 0.7162\n",
      "Epoch 70/200\n",
      "345/345 [==============================] - 2s 6ms/step - loss: 0.5250 - acc: 0.7246 - val_loss: 0.5908 - val_acc: 0.7432\n",
      "Epoch 71/200\n",
      "345/345 [==============================] - 2s 6ms/step - loss: 0.5264 - acc: 0.7217 - val_loss: 0.6030 - val_acc: 0.7297\n",
      "Epoch 72/200\n",
      "345/345 [==============================] - 2s 6ms/step - loss: 0.5190 - acc: 0.7420 - val_loss: 0.5869 - val_acc: 0.7432\n",
      "Epoch 73/200\n",
      "345/345 [==============================] - 2s 5ms/step - loss: 0.5046 - acc: 0.7478 - val_loss: 0.5809 - val_acc: 0.7568\n",
      "Epoch 74/200\n",
      "345/345 [==============================] - 2s 5ms/step - loss: 0.4961 - acc: 0.7594 - val_loss: 0.5818 - val_acc: 0.7297\n",
      "Epoch 75/200\n",
      "345/345 [==============================] - 2s 5ms/step - loss: 0.4930 - acc: 0.7768 - val_loss: 0.5964 - val_acc: 0.6757\n",
      "Epoch 76/200\n",
      "345/345 [==============================] - 2s 5ms/step - loss: 0.4817 - acc: 0.7739 - val_loss: 0.5860 - val_acc: 0.7027\n",
      "Epoch 77/200\n",
      "345/345 [==============================] - 2s 5ms/step - loss: 0.4681 - acc: 0.7710 - val_loss: 0.5815 - val_acc: 0.7432\n",
      "Epoch 78/200\n",
      "345/345 [==============================] - 2s 5ms/step - loss: 0.4794 - acc: 0.7623 - val_loss: 0.5704 - val_acc: 0.7432\n",
      "Epoch 79/200\n",
      "345/345 [==============================] - 2s 5ms/step - loss: 0.4658 - acc: 0.7710 - val_loss: 0.5806 - val_acc: 0.7162\n",
      "Epoch 80/200\n",
      "345/345 [==============================] - 2s 5ms/step - loss: 0.4563 - acc: 0.7855 - val_loss: 0.5303 - val_acc: 0.7703\n",
      "Epoch 81/200\n",
      "345/345 [==============================] - 2s 5ms/step - loss: 0.4534 - acc: 0.7855 - val_loss: 0.5645 - val_acc: 0.6622\n",
      "Epoch 82/200\n",
      "345/345 [==============================] - 2s 5ms/step - loss: 0.4811 - acc: 0.7478 - val_loss: 0.6246 - val_acc: 0.6351\n",
      "Epoch 83/200\n",
      "345/345 [==============================] - 2s 5ms/step - loss: 0.4718 - acc: 0.7420 - val_loss: 0.5695 - val_acc: 0.7027\n",
      "Epoch 84/200\n",
      "345/345 [==============================] - 2s 5ms/step - loss: 0.4513 - acc: 0.7768 - val_loss: 0.5491 - val_acc: 0.7568\n",
      "Epoch 85/200\n",
      "345/345 [==============================] - 2s 5ms/step - loss: 0.4299 - acc: 0.8058 - val_loss: 0.5480 - val_acc: 0.7297\n",
      "Epoch 86/200\n",
      "345/345 [==============================] - 2s 5ms/step - loss: 0.4389 - acc: 0.7913 - val_loss: 0.5360 - val_acc: 0.7703\n",
      "Epoch 87/200\n",
      "345/345 [==============================] - 2s 5ms/step - loss: 0.4248 - acc: 0.8087 - val_loss: 0.5757 - val_acc: 0.6622\n",
      "Epoch 88/200\n",
      "345/345 [==============================] - 2s 5ms/step - loss: 0.4311 - acc: 0.7768 - val_loss: 0.5707 - val_acc: 0.7162\n",
      "Epoch 89/200\n",
      "345/345 [==============================] - 2s 5ms/step - loss: 0.4356 - acc: 0.7739 - val_loss: 0.5582 - val_acc: 0.7838\n",
      "Epoch 90/200\n",
      "345/345 [==============================] - 2s 5ms/step - loss: 0.4134 - acc: 0.8058 - val_loss: 0.5456 - val_acc: 0.7703\n",
      "Epoch 91/200\n",
      "345/345 [==============================] - 2s 5ms/step - loss: 0.4241 - acc: 0.7971 - val_loss: 0.5357 - val_acc: 0.8108\n",
      "Epoch 92/200\n",
      "345/345 [==============================] - 2s 5ms/step - loss: 0.4030 - acc: 0.8145 - val_loss: 0.5723 - val_acc: 0.7162\n",
      "Epoch 93/200\n",
      "345/345 [==============================] - 2s 5ms/step - loss: 0.4253 - acc: 0.7971 - val_loss: 0.5561 - val_acc: 0.7703\n",
      "Epoch 94/200\n",
      "345/345 [==============================] - 2s 5ms/step - loss: 0.4125 - acc: 0.8116 - val_loss: 0.5532 - val_acc: 0.7432\n",
      "Epoch 95/200\n",
      "345/345 [==============================] - 2s 5ms/step - loss: 0.3904 - acc: 0.8290 - val_loss: 0.5642 - val_acc: 0.7568\n",
      "Epoch 96/200\n",
      "345/345 [==============================] - 2s 5ms/step - loss: 0.4193 - acc: 0.8116 - val_loss: 0.6058 - val_acc: 0.6757\n",
      "Epoch 97/200\n",
      "345/345 [==============================] - 2s 5ms/step - loss: 0.4231 - acc: 0.7913 - val_loss: 0.5654 - val_acc: 0.6757\n",
      "Epoch 98/200\n",
      "345/345 [==============================] - 2s 5ms/step - loss: 0.4119 - acc: 0.7739 - val_loss: 0.5489 - val_acc: 0.7838\n",
      "Epoch 99/200\n",
      "345/345 [==============================] - 2s 5ms/step - loss: 0.4104 - acc: 0.8087 - val_loss: 0.5743 - val_acc: 0.7838\n",
      "Epoch 100/200\n",
      "345/345 [==============================] - 2s 5ms/step - loss: 0.4081 - acc: 0.7884 - val_loss: 0.5729 - val_acc: 0.6757\n",
      "Epoch 101/200\n",
      "345/345 [==============================] - 2s 5ms/step - loss: 0.4018 - acc: 0.7826 - val_loss: 0.5572 - val_acc: 0.7703\n",
      "Epoch 102/200\n",
      "345/345 [==============================] - 2s 5ms/step - loss: 0.3975 - acc: 0.8087 - val_loss: 0.5725 - val_acc: 0.7568\n",
      "Epoch 103/200\n",
      "345/345 [==============================] - 2s 5ms/step - loss: 0.3877 - acc: 0.8261 - val_loss: 0.5605 - val_acc: 0.7432\n",
      "Epoch 104/200\n",
      "345/345 [==============================] - 2s 6ms/step - loss: 0.3879 - acc: 0.7971 - val_loss: 0.5664 - val_acc: 0.7162\n",
      "Epoch 105/200\n",
      "345/345 [==============================] - 2s 5ms/step - loss: 0.3789 - acc: 0.8058 - val_loss: 0.5654 - val_acc: 0.7973\n",
      "Epoch 106/200\n",
      "345/345 [==============================] - 2s 5ms/step - loss: 0.3973 - acc: 0.8232 - val_loss: 0.5693 - val_acc: 0.7027\n",
      "Epoch 107/200\n",
      "345/345 [==============================] - 2s 5ms/step - loss: 0.3896 - acc: 0.7826 - val_loss: 0.5902 - val_acc: 0.6622\n",
      "Epoch 108/200\n",
      "345/345 [==============================] - 2s 5ms/step - loss: 0.3683 - acc: 0.8145 - val_loss: 0.5505 - val_acc: 0.8108\n",
      "Epoch 109/200\n",
      "345/345 [==============================] - 2s 6ms/step - loss: 0.3675 - acc: 0.8290 - val_loss: 0.5783 - val_acc: 0.7568\n",
      "Epoch 110/200\n",
      "345/345 [==============================] - 2s 5ms/step - loss: 0.3635 - acc: 0.8203 - val_loss: 0.5549 - val_acc: 0.7838\n",
      "Epoch 111/200\n",
      "345/345 [==============================] - 2s 5ms/step - loss: 0.3848 - acc: 0.8203 - val_loss: 0.5767 - val_acc: 0.7568\n",
      "Epoch 112/200\n",
      "345/345 [==============================] - 2s 6ms/step - loss: 0.3891 - acc: 0.8029 - val_loss: 0.5703 - val_acc: 0.7297\n",
      "Epoch 113/200\n",
      "345/345 [==============================] - 2s 6ms/step - loss: 0.3993 - acc: 0.7942 - val_loss: 0.5931 - val_acc: 0.6622\n",
      "Epoch 114/200\n",
      "345/345 [==============================] - 2s 6ms/step - loss: 0.4220 - acc: 0.7826 - val_loss: 0.5711 - val_acc: 0.7162\n",
      "Epoch 115/200\n",
      "345/345 [==============================] - 2s 6ms/step - loss: 0.4200 - acc: 0.8058 - val_loss: 0.5299 - val_acc: 0.7838\n",
      "Epoch 116/200\n",
      "345/345 [==============================] - 2s 6ms/step - loss: 0.3949 - acc: 0.8290 - val_loss: 0.5436 - val_acc: 0.7568\n",
      "Epoch 117/200\n",
      "345/345 [==============================] - 2s 6ms/step - loss: 0.4234 - acc: 0.8203 - val_loss: 0.5469 - val_acc: 0.7432\n",
      "Epoch 118/200\n",
      "345/345 [==============================] - 2s 6ms/step - loss: 0.3734 - acc: 0.8319 - val_loss: 0.6252 - val_acc: 0.7162\n",
      "Epoch 119/200\n",
      "345/345 [==============================] - 2s 6ms/step - loss: 0.3832 - acc: 0.7971 - val_loss: 0.5784 - val_acc: 0.6622\n",
      "Epoch 120/200\n",
      "345/345 [==============================] - 2s 6ms/step - loss: 0.3930 - acc: 0.8116 - val_loss: 0.6286 - val_acc: 0.6757\n"
     ]
    },
    {
     "name": "stdout",
     "output_type": "stream",
     "text": [
      "Epoch 121/200\n",
      "345/345 [==============================] - 2s 6ms/step - loss: 0.3820 - acc: 0.8000 - val_loss: 0.5781 - val_acc: 0.7838\n",
      "Epoch 122/200\n",
      "345/345 [==============================] - 2s 6ms/step - loss: 0.3929 - acc: 0.8261 - val_loss: 0.5625 - val_acc: 0.7703\n",
      "Epoch 123/200\n",
      "345/345 [==============================] - 3s 7ms/step - loss: 0.3622 - acc: 0.8348 - val_loss: 0.5711 - val_acc: 0.6757\n",
      "Epoch 124/200\n",
      "345/345 [==============================] - 2s 7ms/step - loss: 0.3538 - acc: 0.8145 - val_loss: 0.5607 - val_acc: 0.7703\n",
      "Epoch 125/200\n",
      "345/345 [==============================] - 2s 6ms/step - loss: 0.3415 - acc: 0.8435 - val_loss: 0.5894 - val_acc: 0.7973\n",
      "Epoch 126/200\n",
      "345/345 [==============================] - 2s 6ms/step - loss: 0.3544 - acc: 0.8435 - val_loss: 0.5596 - val_acc: 0.7703\n",
      "Epoch 127/200\n",
      "345/345 [==============================] - 2s 6ms/step - loss: 0.3558 - acc: 0.8522 - val_loss: 0.5654 - val_acc: 0.7838\n",
      "Epoch 128/200\n",
      "345/345 [==============================] - 2s 6ms/step - loss: 0.3415 - acc: 0.8493 - val_loss: 0.5833 - val_acc: 0.7703\n",
      "Epoch 129/200\n",
      "345/345 [==============================] - 2s 7ms/step - loss: 0.3448 - acc: 0.8058 - val_loss: 0.5835 - val_acc: 0.7027\n",
      "Epoch 130/200\n",
      "345/345 [==============================] - 2s 7ms/step - loss: 0.3337 - acc: 0.8290 - val_loss: 0.5797 - val_acc: 0.7838\n",
      "Epoch 131/200\n",
      "345/345 [==============================] - 2s 6ms/step - loss: 0.3357 - acc: 0.8464 - val_loss: 0.5736 - val_acc: 0.7973\n",
      "Epoch 132/200\n",
      "345/345 [==============================] - 2s 6ms/step - loss: 0.3327 - acc: 0.8580 - val_loss: 0.5644 - val_acc: 0.7838\n",
      "Epoch 133/200\n",
      "345/345 [==============================] - 2s 6ms/step - loss: 0.3448 - acc: 0.8435 - val_loss: 0.5601 - val_acc: 0.7703\n",
      "Epoch 134/200\n",
      "345/345 [==============================] - 2s 7ms/step - loss: 0.3327 - acc: 0.8261 - val_loss: 0.5814 - val_acc: 0.7703\n",
      "Epoch 135/200\n",
      "345/345 [==============================] - 2s 7ms/step - loss: 0.3414 - acc: 0.8435 - val_loss: 0.5758 - val_acc: 0.7838\n",
      "Epoch 136/200\n",
      "345/345 [==============================] - 2s 6ms/step - loss: 0.3365 - acc: 0.8319 - val_loss: 0.5915 - val_acc: 0.7162\n",
      "Epoch 137/200\n",
      "345/345 [==============================] - 2s 6ms/step - loss: 0.3285 - acc: 0.8348 - val_loss: 0.5755 - val_acc: 0.7973\n",
      "Epoch 138/200\n",
      "345/345 [==============================] - 2s 6ms/step - loss: 0.3212 - acc: 0.8609 - val_loss: 0.5873 - val_acc: 0.7973\n",
      "Epoch 139/200\n",
      "345/345 [==============================] - 2s 6ms/step - loss: 0.3300 - acc: 0.8551 - val_loss: 0.5902 - val_acc: 0.7838\n",
      "Epoch 140/200\n",
      "345/345 [==============================] - 2s 6ms/step - loss: 0.3342 - acc: 0.8464 - val_loss: 0.5740 - val_acc: 0.7973\n",
      "Epoch 141/200\n",
      "345/345 [==============================] - 2s 7ms/step - loss: 0.3375 - acc: 0.8406 - val_loss: 0.6024 - val_acc: 0.7162\n",
      "Epoch 142/200\n",
      "345/345 [==============================] - 2s 6ms/step - loss: 0.3249 - acc: 0.8377 - val_loss: 0.5879 - val_acc: 0.7297\n",
      "Epoch 143/200\n",
      "345/345 [==============================] - 2s 6ms/step - loss: 0.3222 - acc: 0.8377 - val_loss: 0.5746 - val_acc: 0.8108\n",
      "Epoch 144/200\n",
      "345/345 [==============================] - 2s 6ms/step - loss: 0.3289 - acc: 0.8522 - val_loss: 0.5893 - val_acc: 0.8108\n",
      "Epoch 145/200\n",
      "345/345 [==============================] - 2s 6ms/step - loss: 0.3170 - acc: 0.8696 - val_loss: 0.6165 - val_acc: 0.7838\n",
      "Epoch 146/200\n",
      "345/345 [==============================] - 3s 8ms/step - loss: 0.3139 - acc: 0.8551 - val_loss: 0.5987 - val_acc: 0.7838\n",
      "Epoch 147/200\n",
      "345/345 [==============================] - 2s 6ms/step - loss: 0.3054 - acc: 0.8609 - val_loss: 0.6267 - val_acc: 0.7703\n",
      "Epoch 148/200\n",
      "345/345 [==============================] - 3s 8ms/step - loss: 0.3286 - acc: 0.8348 - val_loss: 0.5926 - val_acc: 0.7297\n",
      "Epoch 149/200\n",
      "345/345 [==============================] - 2s 6ms/step - loss: 0.3270 - acc: 0.8464 - val_loss: 0.6375 - val_acc: 0.7432\n",
      "Epoch 150/200\n",
      "345/345 [==============================] - 3s 8ms/step - loss: 0.3231 - acc: 0.8377 - val_loss: 0.5896 - val_acc: 0.7973\n",
      "Epoch 151/200\n",
      "345/345 [==============================] - 3s 8ms/step - loss: 0.3460 - acc: 0.8522 - val_loss: 0.5630 - val_acc: 0.7838\n",
      "Epoch 152/200\n",
      "345/345 [==============================] - 2s 7ms/step - loss: 0.3377 - acc: 0.8551 - val_loss: 0.5524 - val_acc: 0.8108\n",
      "Epoch 153/200\n",
      "345/345 [==============================] - 2s 6ms/step - loss: 0.3387 - acc: 0.8464 - val_loss: 0.5885 - val_acc: 0.7568\n",
      "Epoch 154/200\n",
      "345/345 [==============================] - 2s 6ms/step - loss: 0.3259 - acc: 0.8261 - val_loss: 0.5686 - val_acc: 0.6622\n",
      "Epoch 155/200\n",
      "345/345 [==============================] - 2s 6ms/step - loss: 0.3392 - acc: 0.8319 - val_loss: 0.6256 - val_acc: 0.7162\n",
      "Epoch 156/200\n",
      "345/345 [==============================] - 2s 6ms/step - loss: 0.3286 - acc: 0.8406 - val_loss: 0.5970 - val_acc: 0.7838\n",
      "Epoch 157/200\n",
      "345/345 [==============================] - 2s 6ms/step - loss: 0.3208 - acc: 0.8580 - val_loss: 0.5704 - val_acc: 0.7568\n",
      "Epoch 158/200\n",
      "345/345 [==============================] - 2s 6ms/step - loss: 0.3062 - acc: 0.8725 - val_loss: 0.6081 - val_acc: 0.7838\n",
      "Epoch 159/200\n",
      "345/345 [==============================] - 2s 6ms/step - loss: 0.3131 - acc: 0.8551 - val_loss: 0.5753 - val_acc: 0.7703\n",
      "Epoch 160/200\n",
      "345/345 [==============================] - 2s 7ms/step - loss: 0.3041 - acc: 0.8435 - val_loss: 0.6660 - val_acc: 0.7432\n",
      "Epoch 161/200\n",
      "345/345 [==============================] - 2s 6ms/step - loss: 0.3263 - acc: 0.8522 - val_loss: 0.5754 - val_acc: 0.7973\n",
      "Epoch 162/200\n",
      "345/345 [==============================] - 2s 6ms/step - loss: 0.3077 - acc: 0.8609 - val_loss: 0.5857 - val_acc: 0.7973\n",
      "Epoch 163/200\n",
      "345/345 [==============================] - 2s 6ms/step - loss: 0.2996 - acc: 0.8725 - val_loss: 0.5833 - val_acc: 0.8108\n",
      "Epoch 164/200\n",
      "345/345 [==============================] - 2s 6ms/step - loss: 0.2982 - acc: 0.8783 - val_loss: 0.6119 - val_acc: 0.8108\n",
      "Epoch 165/200\n",
      "345/345 [==============================] - 2s 7ms/step - loss: 0.2941 - acc: 0.8493 - val_loss: 0.6221 - val_acc: 0.7703\n",
      "Epoch 166/200\n",
      "345/345 [==============================] - 2s 6ms/step - loss: 0.2934 - acc: 0.8522 - val_loss: 0.5938 - val_acc: 0.8108\n",
      "Epoch 167/200\n",
      "345/345 [==============================] - 2s 6ms/step - loss: 0.3809 - acc: 0.8493 - val_loss: 0.6160 - val_acc: 0.7432\n",
      "Epoch 168/200\n",
      "345/345 [==============================] - 2s 6ms/step - loss: 0.4220 - acc: 0.8087 - val_loss: 0.7114 - val_acc: 0.7297\n",
      "Epoch 169/200\n",
      "345/345 [==============================] - 2s 7ms/step - loss: 0.4544 - acc: 0.8000 - val_loss: 0.6275 - val_acc: 0.7432\n",
      "Epoch 170/200\n",
      "345/345 [==============================] - 2s 7ms/step - loss: 0.4131 - acc: 0.8348 - val_loss: 0.6116 - val_acc: 0.7568\n",
      "Epoch 171/200\n",
      "345/345 [==============================] - 2s 6ms/step - loss: 0.3735 - acc: 0.8522 - val_loss: 0.5382 - val_acc: 0.8108\n",
      "Epoch 172/200\n",
      "345/345 [==============================] - 2s 6ms/step - loss: 0.3373 - acc: 0.8464 - val_loss: 0.5341 - val_acc: 0.8243\n",
      "Epoch 173/200\n",
      "345/345 [==============================] - 2s 6ms/step - loss: 0.3122 - acc: 0.8580 - val_loss: 0.5502 - val_acc: 0.8108\n",
      "Epoch 174/200\n",
      "345/345 [==============================] - 2s 6ms/step - loss: 0.3046 - acc: 0.8638 - val_loss: 0.5565 - val_acc: 0.8108\n",
      "Epoch 175/200\n",
      "345/345 [==============================] - 2s 7ms/step - loss: 0.2976 - acc: 0.8725 - val_loss: 0.5637 - val_acc: 0.8108\n",
      "Epoch 176/200\n",
      "345/345 [==============================] - 2s 6ms/step - loss: 0.3130 - acc: 0.8406 - val_loss: 0.5791 - val_acc: 0.7568\n",
      "Epoch 177/200\n",
      "345/345 [==============================] - 2s 6ms/step - loss: 0.3060 - acc: 0.8435 - val_loss: 0.6158 - val_acc: 0.7297\n",
      "Epoch 178/200\n",
      "345/345 [==============================] - 2s 6ms/step - loss: 0.2956 - acc: 0.8638 - val_loss: 0.5708 - val_acc: 0.8108\n",
      "Epoch 179/200\n",
      "345/345 [==============================] - 2s 6ms/step - loss: 0.2944 - acc: 0.8667 - val_loss: 0.5645 - val_acc: 0.7973\n",
      "Epoch 180/200\n",
      "345/345 [==============================] - 2s 6ms/step - loss: 0.3081 - acc: 0.8435 - val_loss: 0.5837 - val_acc: 0.7703\n",
      "Epoch 181/200\n"
     ]
    },
    {
     "name": "stdout",
     "output_type": "stream",
     "text": [
      "345/345 [==============================] - 2s 6ms/step - loss: 0.2940 - acc: 0.8638 - val_loss: 0.5754 - val_acc: 0.7838\n",
      "Epoch 182/200\n",
      "345/345 [==============================] - 2s 6ms/step - loss: 0.3042 - acc: 0.8551 - val_loss: 0.6070 - val_acc: 0.7703\n",
      "Epoch 183/200\n",
      "345/345 [==============================] - 2s 6ms/step - loss: 0.2995 - acc: 0.8522 - val_loss: 0.5699 - val_acc: 0.7568\n",
      "Epoch 184/200\n",
      "345/345 [==============================] - 2s 6ms/step - loss: 0.3232 - acc: 0.8377 - val_loss: 0.5683 - val_acc: 0.7703\n",
      "Epoch 185/200\n",
      "345/345 [==============================] - 2s 7ms/step - loss: 0.3121 - acc: 0.8638 - val_loss: 0.5764 - val_acc: 0.8108\n",
      "Epoch 186/200\n",
      "345/345 [==============================] - 2s 7ms/step - loss: 0.3547 - acc: 0.8377 - val_loss: 0.5950 - val_acc: 0.7973\n",
      "Epoch 187/200\n",
      "345/345 [==============================] - 2s 6ms/step - loss: 0.3220 - acc: 0.8493 - val_loss: 0.6594 - val_acc: 0.6757\n",
      "Epoch 188/200\n",
      "345/345 [==============================] - 2s 6ms/step - loss: 0.3087 - acc: 0.8348 - val_loss: 0.6094 - val_acc: 0.7297\n",
      "Epoch 189/200\n",
      "345/345 [==============================] - 2s 6ms/step - loss: 0.3041 - acc: 0.8435 - val_loss: 0.5924 - val_acc: 0.7703\n",
      "Epoch 190/200\n",
      "345/345 [==============================] - 2s 6ms/step - loss: 0.2853 - acc: 0.8783 - val_loss: 0.6195 - val_acc: 0.8243\n",
      "Epoch 191/200\n",
      "345/345 [==============================] - 2s 7ms/step - loss: 0.2825 - acc: 0.8725 - val_loss: 0.6063 - val_acc: 0.8108\n",
      "Epoch 192/200\n",
      "345/345 [==============================] - 2s 6ms/step - loss: 0.2796 - acc: 0.8696 - val_loss: 0.5987 - val_acc: 0.8108\n",
      "Epoch 193/200\n",
      "345/345 [==============================] - 2s 7ms/step - loss: 0.2795 - acc: 0.8812 - val_loss: 0.6245 - val_acc: 0.7973\n",
      "Epoch 194/200\n",
      "345/345 [==============================] - 2s 6ms/step - loss: 0.2814 - acc: 0.8783 - val_loss: 0.6346 - val_acc: 0.7703\n",
      "Epoch 195/200\n",
      "345/345 [==============================] - 2s 6ms/step - loss: 0.2779 - acc: 0.8841 - val_loss: 0.6218 - val_acc: 0.8108\n",
      "Epoch 196/200\n",
      "345/345 [==============================] - 2s 7ms/step - loss: 0.2744 - acc: 0.8725 - val_loss: 0.6491 - val_acc: 0.7568\n",
      "Epoch 197/200\n",
      "345/345 [==============================] - 2s 7ms/step - loss: 0.2683 - acc: 0.8783 - val_loss: 0.6272 - val_acc: 0.7973\n",
      "Epoch 198/200\n",
      "345/345 [==============================] - 2s 7ms/step - loss: 0.2660 - acc: 0.8812 - val_loss: 0.6489 - val_acc: 0.7973\n",
      "Epoch 199/200\n",
      "345/345 [==============================] - 2s 6ms/step - loss: 0.2669 - acc: 0.8899 - val_loss: 0.6218 - val_acc: 0.7973\n",
      "Epoch 200/200\n",
      "345/345 [==============================] - 2s 6ms/step - loss: 0.2783 - acc: 0.8928 - val_loss: 0.6577 - val_acc: 0.7973\n"
     ]
    }
   ],
   "source": [
    "adam = Adam(lr=0.0001)\n",
    "chk = ModelCheckpoint(f'../models/best_model_{version}.pkl', monitor='acc', save_best_only=True, mode='max', verbose=0) #monitor='val_acc'\n",
    "model.compile(loss='binary_crossentropy', optimizer=adam, metrics=['accuracy'])\n",
    "history_training = model.fit(X_train, y_train, epochs=200, batch_size=64, callbacks=[chk], validation_data=(X_dev, y_dev))\n",
    "play_bell()"
   ]
  },
  {
   "cell_type": "markdown",
   "metadata": {},
   "source": [
    "## Training history plot"
   ]
  },
  {
   "cell_type": "code",
   "execution_count": 23,
   "metadata": {},
   "outputs": [
    {
     "name": "stdout",
     "output_type": "stream",
     "text": [
      "Best accuracy on the dev set: 82.4%\n",
      "Best accuracy on the training set: 89.3%\n"
     ]
    },
    {
     "data": {
      "image/png": "[encoded data removed]",
      "text/plain": [
       "<Figure size 864x288 with 2 Axes>"
      ]
     },
     "metadata": {
      "needs_background": "light"
     },
     "output_type": "display_data"
    }
   ],
   "source": [
    "fig, (ax1, ax2) = plt.subplots(1, 2, figsize=(12,4))\n",
    "\n",
    "ax1.plot(history_training.history['acc'], label='train')\n",
    "ax1.plot(history_training.history['val_acc'], label='dev')\n",
    "\n",
    "ax2.plot(history_training.history['loss'], label='train')\n",
    "ax2.plot(history_training.history['val_loss'], label='dev')\n",
    "\n",
    "ax1.set_xlabel('Epoch')\n",
    "ax2.set_xlabel('Epoch')\n",
    "ax1.legend()\n",
    "ax2.legend()\n",
    "\n",
    "ax1.set_ylabel('Accuracy')\n",
    "ax2.set_ylabel('Loss')\n",
    "\n",
    "best_acc = max(history_training.history['val_acc'])\n",
    "print(f'Best accuracy on the dev set: {best_acc*100:.1f}%')\n",
    "best_acc_training = max(history_training.history['acc'])\n",
    "print(f'Best accuracy on the training set: {best_acc_training*100:.1f}%')\n",
    "fig.savefig(f'../plots/model_{version}.png', bbox_inches='tight')"
   ]
  },
  {
   "cell_type": "markdown",
   "metadata": {},
   "source": [
    "## Evaluation of the model"
   ]
  },
  {
   "cell_type": "code",
   "execution_count": 14,
   "metadata": {},
   "outputs": [],
   "source": [
    "model = load_model(f'../models/best_model_{version}.pkl') # load best model"
   ]
  },
  {
   "cell_type": "code",
   "execution_count": 15,
   "metadata": {},
   "outputs": [
    {
     "name": "stdout",
     "output_type": "stream",
     "text": [
      "Accuracy on the dev set: 79.7%\n",
      "Accuracy on the training set: 89.0%\n"
     ]
    }
   ],
   "source": [
    "dev_preds = model.predict_classes(X_dev)\n",
    "acc_dev = accuracy_score(y_dev, dev_preds)\n",
    "print(f'Accuracy on the dev set: {acc_dev*100:.1f}%')\n",
    "\n",
    "training_preds = model.predict_classes(X_train)\n",
    "acc_training = accuracy_score(y_train, training_preds)\n",
    "print(f'Accuracy on the training set: {acc_training*100:.1f}%')"
   ]
  },
  {
   "cell_type": "code",
   "execution_count": 24,
   "metadata": {},
   "outputs": [
    {
     "data": {
      "image/png": "[encoded data removed]",
      "text/plain": [
       "<Figure size 216x216 with 2 Axes>"
      ]
     },
     "metadata": {
      "needs_background": "light"
     },
     "output_type": "display_data"
    }
   ],
   "source": [
    "import itertools\n",
    "from sklearn.metrics import confusion_matrix\n",
    "\n",
    "cm = confusion_matrix(y_dev, dev_preds)\n",
    "#cm = confusion_matrix(y_train, training_preds)\n",
    "\n",
    "classes=['Right', 'Left']\n",
    "fig, ax = plt.subplots(1, figsize=(3,3))\n",
    "tick_marks = np.arange(len(classes))\n",
    "plt.xticks(tick_marks, classes)\n",
    "plt.yticks(tick_marks, classes)\n",
    "\n",
    "cm_norm = cm / cm.sum(axis=1)*100\n",
    "im = ax.imshow(cm_norm, cmap='Blues', interpolation='none', clim=(0,100))\n",
    "ax.set_title(f'Confusion matrix ({y_dev.shape[0]} samples)', size=13)\n",
    "\n",
    "\n",
    "for i, j in itertools.product(range(cm.shape[0]), range(cm.shape[1])):\n",
    "    ax.text(j, i, f'{cm[i,j]}\\n{cm_norm[i, j]:.1f}%', size=13,\n",
    "             horizontalalignment=\"center\", verticalalignment=\"center\",\n",
    "             color=\"white\" if cm[i, j] > 60 else \"black\")\n",
    "ax.set_ylabel('True label', size=12)\n",
    "ax.set_xlabel('Predicted label', size=12)\n",
    "\n",
    "cb_ax = fig.add_axes([0.95, 0.12, 0.1, 0.76])\n",
    "cb = fig.colorbar(im, cax=cb_ax, orientation='vertical')\n",
    "cb.set_label('%')\n",
    "\n",
    "fig.savefig(f'../plots/conf_matrix_{version}.png', bbox_inches='tight')"
   ]
  },
  {
   "cell_type": "code",
   "execution_count": null,
   "metadata": {},
   "outputs": [],
   "source": []
  },
  {
   "cell_type": "code",
   "execution_count": null,
   "metadata": {},
   "outputs": [],
   "source": []
  }
 ],
 "metadata": {
  "kernelspec": {
   "display_name": "Python 3",
   "language": "python",
   "name": "python3"
  },
  "language_info": {
   "codemirror_mode": {
    "name": "ipython",
    "version": 3
   },
   "file_extension": ".py",
   "mimetype": "text/x-python",
   "name": "python",
   "nbconvert_exporter": "python",
   "pygments_lexer": "ipython3",
   "version": "3.7.3"
  }
 },
 "nbformat": 4,
 "nbformat_minor": 2
}
