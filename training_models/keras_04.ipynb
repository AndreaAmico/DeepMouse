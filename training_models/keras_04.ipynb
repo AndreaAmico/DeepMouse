{
 "cells": [
  {
   "cell_type": "code",
   "execution_count": 10,
   "metadata": {},
   "outputs": [],
   "source": [
    "import tensorflow as tf\n",
    "import pandas as pd\n",
    "import numpy as np\n",
    "import matplotlib.pyplot as plt\n",
    "import pickle\n",
    "\n",
    "from keras.preprocessing import sequence\n",
    "from keras.models import Sequential\n",
    "from keras.layers import Dense\n",
    "from keras.layers import LSTM\n",
    "from keras.layers import SimpleRNN\n",
    "\n",
    "from keras.optimizers import Adam\n",
    "from keras.optimizers import SGD\n",
    "from keras.models import load_model\n",
    "from keras.callbacks import ModelCheckpoint\n",
    "\n",
    "from sklearn.model_selection import train_test_split\n",
    "from sklearn.metrics import accuracy_score\n",
    "\n",
    "%matplotlib inline\n",
    "version = '04'"
   ]
  },
  {
   "cell_type": "code",
   "execution_count": 2,
   "metadata": {},
   "outputs": [],
   "source": [
    "def play_bell():\n",
    "    import winsound\n",
    "    duration = 200  # millisecond\n",
    "    freq = 440  # Hz\n",
    "    for i in range(5):\n",
    "        winsound.Beep(int(freq*(i/2+1)), duration)\n",
    "        \n",
    "def save_history(history_t, version):\n",
    "    with open(f'../model_data/history_{version}.pkl', 'wb') as handle:\n",
    "        pickle.dump(history_t, handle, protocol=pickle.HIGHEST_PROTOCOL)"
   ]
  },
  {
   "cell_type": "markdown",
   "metadata": {},
   "source": [
    "## Dataset loading"
   ]
  },
  {
   "cell_type": "code",
   "execution_count": 3,
   "metadata": {},
   "outputs": [],
   "source": [
    "right = pd.read_csv(\"../data/right.txt\", header=None).values.tolist()\n",
    "left = pd.read_csv(\"../data/left.txt\", header=None).values.tolist()"
   ]
  },
  {
   "cell_type": "markdown",
   "metadata": {},
   "source": [
    "## Pre-processing"
   ]
  },
  {
   "cell_type": "code",
   "execution_count": 4,
   "metadata": {},
   "outputs": [],
   "source": [
    "batch_size = 200\n",
    "batch_right = [right[i:i + batch_size] for i in range(0, len(right), batch_size)]\n",
    "batch_left = [left[i:i + batch_size] for i in range(0, len(left), batch_size)]\n",
    "\n",
    "X = np.array(batch_right + batch_left)\n",
    "y = np.array([0]*len(batch_right) + [1]*len(batch_left))"
   ]
  },
  {
   "cell_type": "code",
   "execution_count": 5,
   "metadata": {},
   "outputs": [
    {
     "name": "stdout",
     "output_type": "stream",
     "text": [
      "X shape: (600, 200, 2)\n",
      "y shape: (600,)\n"
     ]
    }
   ],
   "source": [
    "print(f'X shape: {X.shape}\\ny shape: {y.shape}')"
   ]
  },
  {
   "cell_type": "code",
   "execution_count": 6,
   "metadata": {},
   "outputs": [],
   "source": [
    "X_diff = X[:,:-1,:].copy()\n",
    "X_diff[:,:,0] = np.diff(X[:,:,0])\n",
    "X_diff[:,:,1] = np.diff(X[:,:,1])"
   ]
  },
  {
   "cell_type": "code",
   "execution_count": 7,
   "metadata": {},
   "outputs": [
    {
     "data": {
      "text/plain": [
       "Text(0.5, 0, 'y relative movement (px)')"
      ]
     },
     "execution_count": 7,
     "metadata": {},
     "output_type": "execute_result"
    },
    {
     "data": {
      "image/png": "[encoded data removed]",
      "text/plain": [
       "<Figure size 864x288 with 2 Axes>"
      ]
     },
     "metadata": {
      "needs_background": "light"
     },
     "output_type": "display_data"
    }
   ],
   "source": [
    "sigma_x = np.std(X_diff[:,:,0], axis=1)\n",
    "sigma_y = np.std(X_diff[:,:,1], axis=1)\n",
    "mask = (sigma_x>0.1)*(sigma_y>0.1)\n",
    "\n",
    "X_filt = X_diff[mask]\n",
    "y_filt = y[mask]\n",
    "\n",
    "x_std = 3.398 # np.mean(np.std(X_filt[:,:,0], axis=1))\n",
    "y_std = 2.926 # np.mean(np.std(X_filt[:,:,1], axis=1))\n",
    "\n",
    "X_filt[:,:,0] = X_filt[:,:,0] / x_std\n",
    "X_filt[:,:,1] = X_filt[:,:,1] / y_std\n",
    "\n",
    "sigma_x_filt = np.std(X_filt[:,:,0], axis=1)\n",
    "sigma_y_filt = np.std(X_filt[:,:,1], axis=1)\n",
    "\n",
    "\n",
    "fig, (ax1, ax2) = plt.subplots(1, 2,  figsize=(12, 4))\n",
    "ax1.hist(sigma_x_filt, bins=50, density=True)\n",
    "ax2.hist(sigma_y_filt, bins=50, density=True)\n",
    "for ax in (ax1,ax2):\n",
    "    ax.set_xlim(0,5)\n",
    "    ax.set_ylabel('Occurrence (%)')\n",
    "    #ax.set_yticks(np.arange(0,0.41,0.1))\n",
    "ax1.set_xlabel('x relative movement (px)')\n",
    "ax2.set_xlabel('y relative movement (px)')\n",
    "\n",
    "#fig.savefig(f'../plots/relative_movement_hist_corrected.png', bbox_inches='tight')"
   ]
  },
  {
   "cell_type": "code",
   "execution_count": 8,
   "metadata": {},
   "outputs": [
    {
     "data": {
      "text/plain": [
       "1.4900517595356684"
      ]
     },
     "execution_count": 8,
     "metadata": {},
     "output_type": "execute_result"
    }
   ],
   "source": [
    "np.mean(np.std(X_filt[:,:,0], axis=1))"
   ]
  },
  {
   "cell_type": "markdown",
   "metadata": {},
   "source": [
    "## Training/dev/test set splitting"
   ]
  },
  {
   "cell_type": "code",
   "execution_count": 20,
   "metadata": {},
   "outputs": [],
   "source": [
    "def create_train_dev_test(X, y, seed=1):\n",
    "    X_train, X_test, y_train, y_test = train_test_split(X, y, test_size=0.30, random_state=seed, shuffle=True)\n",
    "    X_dev, X_test, y_dev, y_test = train_test_split(X_test, y_test, test_size=0.5, random_state=seed, shuffle=True)\n",
    "    return X_train, X_dev, X_test, y_train, y_dev, y_test\n",
    "\n",
    "X_train, X_dev, X_test, y_train, y_dev, y_test = create_train_dev_test(X_filt, y_filt, seed=1)"
   ]
  },
  {
   "cell_type": "markdown",
   "metadata": {},
   "source": [
    "## Model definition"
   ]
  },
  {
   "cell_type": "code",
   "execution_count": 29,
   "metadata": {},
   "outputs": [
    {
     "name": "stdout",
     "output_type": "stream",
     "text": [
      "_________________________________________________________________\n",
      "Layer (type)                 Output Shape              Param #   \n",
      "=================================================================\n",
      "lstm_1 (LSTM)                (None, 256)               265216    \n",
      "_________________________________________________________________\n",
      "dense_6 (Dense)              (None, 1)                 257       \n",
      "=================================================================\n",
      "Total params: 265,473\n",
      "Trainable params: 265,473\n",
      "Non-trainable params: 0\n",
      "_________________________________________________________________\n"
     ]
    }
   ],
   "source": [
    "def create_model():\n",
    "    model = Sequential()\n",
    "    model.add(LSTM(256, input_shape=(X_dev.shape[1], 2)))\n",
    "    model.add(Dense(1, activation='sigmoid'))\n",
    "    return model\n",
    "\n",
    "model = create_model()\n",
    "model.summary()"
   ]
  },
  {
   "cell_type": "markdown",
   "metadata": {},
   "source": [
    "## Training"
   ]
  },
  {
   "cell_type": "code",
   "execution_count": 32,
   "metadata": {
    "scrolled": true
   },
   "outputs": [
    {
     "name": "stdout",
     "output_type": "stream",
     "text": [
      "Train on 345 samples, validate on 74 samples\n",
      "Epoch 1/200\n",
      "345/345 [==============================] - 3s 8ms/step - loss: 0.6878 - acc: 0.5101 - val_loss: 0.7121 - val_acc: 0.4459\n",
      "Epoch 2/200\n",
      "345/345 [==============================] - 1s 4ms/step - loss: 0.6692 - acc: 0.5362 - val_loss: 0.7288 - val_acc: 0.4189\n",
      "Epoch 3/200\n",
      "345/345 [==============================] - 1s 4ms/step - loss: 0.6643 - acc: 0.5536 - val_loss: 0.7407 - val_acc: 0.4324\n",
      "Epoch 4/200\n",
      "345/345 [==============================] - 1s 4ms/step - loss: 0.6509 - acc: 0.5710 - val_loss: 0.7300 - val_acc: 0.4324\n",
      "Epoch 5/200\n",
      "345/345 [==============================] - 1s 4ms/step - loss: 0.6504 - acc: 0.5710 - val_loss: 0.7306 - val_acc: 0.4595\n",
      "Epoch 6/200\n",
      "345/345 [==============================] - 1s 4ms/step - loss: 0.6440 - acc: 0.5594 - val_loss: 0.7356 - val_acc: 0.4324\n",
      "Epoch 7/200\n",
      "345/345 [==============================] - 1s 4ms/step - loss: 0.6369 - acc: 0.5710 - val_loss: 0.7485 - val_acc: 0.4324\n",
      "Epoch 8/200\n",
      "345/345 [==============================] - 2s 5ms/step - loss: 0.6315 - acc: 0.6029 - val_loss: 0.7552 - val_acc: 0.5405\n",
      "Epoch 9/200\n",
      "345/345 [==============================] - 2s 6ms/step - loss: 0.6272 - acc: 0.6232 - val_loss: 0.7612 - val_acc: 0.5135\n",
      "Epoch 10/200\n",
      "345/345 [==============================] - 2s 6ms/step - loss: 0.6414 - acc: 0.5478 - val_loss: 0.7537 - val_acc: 0.5270\n",
      "Epoch 11/200\n",
      "345/345 [==============================] - 2s 7ms/step - loss: 0.6359 - acc: 0.5536 - val_loss: 0.7498 - val_acc: 0.5000\n",
      "Epoch 12/200\n",
      "345/345 [==============================] - 2s 6ms/step - loss: 0.6259 - acc: 0.5768 - val_loss: 0.7613 - val_acc: 0.5541\n",
      "Epoch 13/200\n",
      "345/345 [==============================] - 2s 5ms/step - loss: 0.6215 - acc: 0.5913 - val_loss: 0.7506 - val_acc: 0.6081\n",
      "Epoch 14/200\n",
      "345/345 [==============================] - 2s 5ms/step - loss: 0.6331 - acc: 0.5913 - val_loss: 0.7662 - val_acc: 0.5405\n",
      "Epoch 15/200\n",
      "345/345 [==============================] - 2s 5ms/step - loss: 0.6208 - acc: 0.5884 - val_loss: 0.7880 - val_acc: 0.4459\n",
      "Epoch 16/200\n",
      "345/345 [==============================] - 2s 6ms/step - loss: 0.6129 - acc: 0.5913 - val_loss: 0.7844 - val_acc: 0.4459\n",
      "Epoch 17/200\n",
      "345/345 [==============================] - 2s 6ms/step - loss: 0.6083 - acc: 0.6000 - val_loss: 0.7787 - val_acc: 0.4459\n",
      "Epoch 18/200\n",
      "345/345 [==============================] - 2s 5ms/step - loss: 0.6050 - acc: 0.5942 - val_loss: 0.8013 - val_acc: 0.4595\n",
      "Epoch 19/200\n",
      "345/345 [==============================] - 2s 5ms/step - loss: 0.5958 - acc: 0.5971 - val_loss: 0.8169 - val_acc: 0.4459\n",
      "Epoch 20/200\n",
      "345/345 [==============================] - 2s 5ms/step - loss: 0.5941 - acc: 0.6116 - val_loss: 0.8167 - val_acc: 0.4459\n",
      "Epoch 21/200\n",
      "345/345 [==============================] - 2s 5ms/step - loss: 0.5971 - acc: 0.6145 - val_loss: 0.8089 - val_acc: 0.5946\n",
      "Epoch 22/200\n",
      "345/345 [==============================] - 2s 5ms/step - loss: 0.5868 - acc: 0.6435 - val_loss: 0.7689 - val_acc: 0.6486\n",
      "Epoch 23/200\n",
      "345/345 [==============================] - 2s 5ms/step - loss: 0.5769 - acc: 0.6377 - val_loss: 0.7698 - val_acc: 0.6486\n",
      "Epoch 24/200\n",
      "345/345 [==============================] - 2s 5ms/step - loss: 0.5895 - acc: 0.6435 - val_loss: 0.7529 - val_acc: 0.6351\n",
      "Epoch 25/200\n",
      "345/345 [==============================] - 2s 5ms/step - loss: 0.5715 - acc: 0.6696 - val_loss: 0.7201 - val_acc: 0.5270\n",
      "Epoch 26/200\n",
      "345/345 [==============================] - 2s 5ms/step - loss: 0.5747 - acc: 0.6870 - val_loss: 0.7039 - val_acc: 0.6757\n",
      "Epoch 27/200\n",
      "345/345 [==============================] - 2s 6ms/step - loss: 0.5763 - acc: 0.6841 - val_loss: 0.7214 - val_acc: 0.6892\n",
      "Epoch 28/200\n",
      "345/345 [==============================] - 2s 5ms/step - loss: 0.5764 - acc: 0.6435 - val_loss: 0.7219 - val_acc: 0.6486\n",
      "Epoch 29/200\n",
      "345/345 [==============================] - 2s 6ms/step - loss: 0.5403 - acc: 0.6928 - val_loss: 0.7199 - val_acc: 0.6486\n",
      "Epoch 30/200\n",
      "345/345 [==============================] - 2s 7ms/step - loss: 0.5254 - acc: 0.7159 - val_loss: 0.7292 - val_acc: 0.6216\n",
      "Epoch 31/200\n",
      "345/345 [==============================] - 2s 5ms/step - loss: 0.5237 - acc: 0.6899 - val_loss: 0.7389 - val_acc: 0.6622\n",
      "Epoch 32/200\n",
      "345/345 [==============================] - 2s 6ms/step - loss: 0.6631 - acc: 0.6812 - val_loss: 0.6930 - val_acc: 0.6486\n",
      "Epoch 33/200\n",
      "345/345 [==============================] - 2s 5ms/step - loss: 0.6131 - acc: 0.6232 - val_loss: 0.7423 - val_acc: 0.6216\n",
      "Epoch 34/200\n",
      "345/345 [==============================] - 2s 6ms/step - loss: 0.6320 - acc: 0.6203 - val_loss: 0.7092 - val_acc: 0.6081\n",
      "Epoch 35/200\n",
      "345/345 [==============================] - 2s 5ms/step - loss: 0.6161 - acc: 0.6551 - val_loss: 0.7364 - val_acc: 0.5946\n",
      "Epoch 36/200\n",
      "345/345 [==============================] - 2s 5ms/step - loss: 0.6157 - acc: 0.5855 - val_loss: 0.7138 - val_acc: 0.5811\n",
      "Epoch 37/200\n",
      "345/345 [==============================] - 2s 6ms/step - loss: 0.6212 - acc: 0.6290 - val_loss: 0.7138 - val_acc: 0.6216\n",
      "Epoch 38/200\n",
      "345/345 [==============================] - 2s 5ms/step - loss: 0.6092 - acc: 0.6435 - val_loss: 0.7243 - val_acc: 0.6081\n",
      "Epoch 39/200\n",
      "345/345 [==============================] - 2s 5ms/step - loss: 0.6187 - acc: 0.6000 - val_loss: 0.7366 - val_acc: 0.4595\n",
      "Epoch 40/200\n",
      "345/345 [==============================] - 2s 5ms/step - loss: 0.6120 - acc: 0.6348 - val_loss: 0.7364 - val_acc: 0.6216\n",
      "Epoch 41/200\n",
      "345/345 [==============================] - 2s 5ms/step - loss: 0.6004 - acc: 0.6261 - val_loss: 0.7388 - val_acc: 0.6081\n",
      "Epoch 42/200\n",
      "345/345 [==============================] - 2s 6ms/step - loss: 0.5877 - acc: 0.6319 - val_loss: 0.7548 - val_acc: 0.5811\n",
      "Epoch 43/200\n",
      "345/345 [==============================] - 2s 6ms/step - loss: 0.5839 - acc: 0.5884 - val_loss: 0.7695 - val_acc: 0.6081\n",
      "Epoch 44/200\n",
      "345/345 [==============================] - 2s 5ms/step - loss: 0.5859 - acc: 0.6551 - val_loss: 0.7779 - val_acc: 0.5811\n",
      "Epoch 45/200\n",
      "345/345 [==============================] - 2s 5ms/step - loss: 0.5849 - acc: 0.6522 - val_loss: 0.7711 - val_acc: 0.6216\n",
      "Epoch 46/200\n",
      "345/345 [==============================] - 2s 5ms/step - loss: 0.5989 - acc: 0.6638 - val_loss: 0.7922 - val_acc: 0.6081\n",
      "Epoch 47/200\n",
      "345/345 [==============================] - 2s 5ms/step - loss: 0.6025 - acc: 0.6232 - val_loss: 0.7987 - val_acc: 0.5000\n",
      "Epoch 48/200\n",
      "345/345 [==============================] - 2s 6ms/step - loss: 0.6046 - acc: 0.6232 - val_loss: 0.7528 - val_acc: 0.6351\n",
      "Epoch 49/200\n",
      "345/345 [==============================] - 2s 5ms/step - loss: 0.5781 - acc: 0.6725 - val_loss: 0.7503 - val_acc: 0.6486\n",
      "Epoch 50/200\n",
      "345/345 [==============================] - 2s 5ms/step - loss: 0.5734 - acc: 0.6580 - val_loss: 0.8012 - val_acc: 0.6081\n",
      "Epoch 51/200\n",
      "345/345 [==============================] - 2s 5ms/step - loss: 0.5805 - acc: 0.6551 - val_loss: 0.7825 - val_acc: 0.5946\n",
      "Epoch 52/200\n",
      "345/345 [==============================] - 2s 5ms/step - loss: 0.5552 - acc: 0.6899 - val_loss: 0.7947 - val_acc: 0.5541\n",
      "Epoch 53/200\n",
      "345/345 [==============================] - 2s 6ms/step - loss: 0.5652 - acc: 0.6725 - val_loss: 0.8407 - val_acc: 0.5541\n",
      "Epoch 54/200\n",
      "345/345 [==============================] - 2s 5ms/step - loss: 0.6700 - acc: 0.6087 - val_loss: 0.7470 - val_acc: 0.6622\n",
      "Epoch 55/200\n",
      "345/345 [==============================] - 2s 5ms/step - loss: 0.6784 - acc: 0.6029 - val_loss: 0.7213 - val_acc: 0.6486\n",
      "Epoch 56/200\n",
      "345/345 [==============================] - 2s 5ms/step - loss: 0.6905 - acc: 0.5478 - val_loss: 0.7884 - val_acc: 0.3784\n",
      "Epoch 57/200\n",
      "345/345 [==============================] - 2s 5ms/step - loss: 0.6397 - acc: 0.5652 - val_loss: 0.7340 - val_acc: 0.6216\n",
      "Epoch 58/200\n",
      "345/345 [==============================] - 2s 5ms/step - loss: 0.6284 - acc: 0.6029 - val_loss: 0.6931 - val_acc: 0.6757\n",
      "Epoch 59/200\n",
      "345/345 [==============================] - 2s 6ms/step - loss: 0.6251 - acc: 0.6058 - val_loss: 0.6916 - val_acc: 0.6757\n",
      "Epoch 60/200\n",
      "345/345 [==============================] - 2s 5ms/step - loss: 0.6157 - acc: 0.5884 - val_loss: 0.6744 - val_acc: 0.6622\n",
      "Epoch 61/200\n",
      "345/345 [==============================] - 2s 5ms/step - loss: 0.6158 - acc: 0.6145 - val_loss: 0.7009 - val_acc: 0.6622\n"
     ]
    },
    {
     "name": "stdout",
     "output_type": "stream",
     "text": [
      "Epoch 62/200\n",
      "345/345 [==============================] - 2s 5ms/step - loss: 0.6347 - acc: 0.5942 - val_loss: 0.6690 - val_acc: 0.6351\n",
      "Epoch 63/200\n",
      "345/345 [==============================] - 2s 5ms/step - loss: 0.6365 - acc: 0.5681 - val_loss: 0.7332 - val_acc: 0.5811\n",
      "Epoch 64/200\n",
      "345/345 [==============================] - 2s 5ms/step - loss: 0.6437 - acc: 0.5681 - val_loss: 0.7964 - val_acc: 0.4865\n",
      "Epoch 65/200\n",
      "345/345 [==============================] - 2s 5ms/step - loss: 0.6459 - acc: 0.5594 - val_loss: 0.7968 - val_acc: 0.4595\n",
      "Epoch 66/200\n",
      "345/345 [==============================] - 2s 5ms/step - loss: 0.6275 - acc: 0.5971 - val_loss: 0.7814 - val_acc: 0.5676\n",
      "Epoch 67/200\n",
      "345/345 [==============================] - 2s 5ms/step - loss: 0.6227 - acc: 0.5652 - val_loss: 0.7682 - val_acc: 0.5541\n",
      "Epoch 68/200\n",
      "345/345 [==============================] - 2s 5ms/step - loss: 0.6218 - acc: 0.5739 - val_loss: 0.7563 - val_acc: 0.5811\n",
      "Epoch 69/200\n",
      "345/345 [==============================] - 2s 5ms/step - loss: 0.6230 - acc: 0.5420 - val_loss: 0.7479 - val_acc: 0.4865\n",
      "Epoch 70/200\n",
      "345/345 [==============================] - 2s 5ms/step - loss: 0.6146 - acc: 0.5768 - val_loss: 0.7315 - val_acc: 0.5946\n",
      "Epoch 71/200\n",
      "345/345 [==============================] - 2s 5ms/step - loss: 0.6102 - acc: 0.5913 - val_loss: 0.7245 - val_acc: 0.5946\n",
      "Epoch 72/200\n",
      "345/345 [==============================] - 2s 5ms/step - loss: 0.6065 - acc: 0.6000 - val_loss: 0.7269 - val_acc: 0.6081\n",
      "Epoch 73/200\n",
      "345/345 [==============================] - 2s 5ms/step - loss: 0.6007 - acc: 0.6203 - val_loss: 0.7269 - val_acc: 0.5946\n",
      "Epoch 74/200\n",
      "345/345 [==============================] - 2s 5ms/step - loss: 0.5926 - acc: 0.6348 - val_loss: 0.7571 - val_acc: 0.6351\n",
      "Epoch 75/200\n",
      "345/345 [==============================] - 2s 6ms/step - loss: 0.6308 - acc: 0.6203 - val_loss: 0.6825 - val_acc: 0.7027\n",
      "Epoch 76/200\n",
      "345/345 [==============================] - 2s 7ms/step - loss: 0.6477 - acc: 0.5710 - val_loss: 0.6860 - val_acc: 0.6351\n",
      "Epoch 77/200\n",
      "345/345 [==============================] - 2s 6ms/step - loss: 0.6198 - acc: 0.6435 - val_loss: 0.6940 - val_acc: 0.6622\n",
      "Epoch 78/200\n",
      "345/345 [==============================] - 2s 5ms/step - loss: 0.6086 - acc: 0.6406 - val_loss: 0.7020 - val_acc: 0.7162\n",
      "Epoch 79/200\n",
      "345/345 [==============================] - 2s 5ms/step - loss: 0.6217 - acc: 0.6174 - val_loss: 0.7131 - val_acc: 0.7027\n",
      "Epoch 80/200\n",
      "345/345 [==============================] - 2s 6ms/step - loss: 0.5962 - acc: 0.6493 - val_loss: 0.7568 - val_acc: 0.7027\n",
      "Epoch 81/200\n",
      "345/345 [==============================] - 2s 5ms/step - loss: 0.5958 - acc: 0.6522 - val_loss: 0.7495 - val_acc: 0.6892\n",
      "Epoch 82/200\n",
      "345/345 [==============================] - 2s 5ms/step - loss: 0.5893 - acc: 0.6667 - val_loss: 0.7503 - val_acc: 0.6892\n",
      "Epoch 83/200\n",
      "345/345 [==============================] - 2s 5ms/step - loss: 0.5822 - acc: 0.6551 - val_loss: 0.7495 - val_acc: 0.6757\n",
      "Epoch 84/200\n",
      "345/345 [==============================] - 2s 5ms/step - loss: 0.5803 - acc: 0.6638 - val_loss: 0.7450 - val_acc: 0.6892\n",
      "Epoch 85/200\n",
      "345/345 [==============================] - 2s 6ms/step - loss: 0.5772 - acc: 0.6638 - val_loss: 0.7638 - val_acc: 0.6216\n",
      "Epoch 86/200\n",
      "345/345 [==============================] - 2s 6ms/step - loss: 0.5706 - acc: 0.6609 - val_loss: 0.7525 - val_acc: 0.6622\n",
      "Epoch 87/200\n",
      "345/345 [==============================] - 2s 6ms/step - loss: 0.5688 - acc: 0.6609 - val_loss: 0.7573 - val_acc: 0.6486\n",
      "Epoch 88/200\n",
      "345/345 [==============================] - 2s 5ms/step - loss: 0.5622 - acc: 0.6696 - val_loss: 0.7567 - val_acc: 0.6622\n",
      "Epoch 89/200\n",
      "345/345 [==============================] - 2s 5ms/step - loss: 0.5807 - acc: 0.6667 - val_loss: 0.7623 - val_acc: 0.6892\n",
      "Epoch 90/200\n",
      "345/345 [==============================] - 2s 5ms/step - loss: 0.5868 - acc: 0.6667 - val_loss: 0.7477 - val_acc: 0.6622\n",
      "Epoch 91/200\n",
      "345/345 [==============================] - 2s 6ms/step - loss: 0.5808 - acc: 0.6696 - val_loss: 0.7395 - val_acc: 0.6892\n",
      "Epoch 92/200\n",
      "345/345 [==============================] - 2s 5ms/step - loss: 0.5742 - acc: 0.6667 - val_loss: 0.7237 - val_acc: 0.7027\n",
      "Epoch 93/200\n",
      "345/345 [==============================] - 2s 5ms/step - loss: 0.5726 - acc: 0.6696 - val_loss: 0.7347 - val_acc: 0.6486\n",
      "Epoch 94/200\n",
      "345/345 [==============================] - 2s 5ms/step - loss: 0.5747 - acc: 0.6725 - val_loss: 0.7288 - val_acc: 0.6757\n",
      "Epoch 95/200\n",
      "345/345 [==============================] - 2s 5ms/step - loss: 0.5642 - acc: 0.6783 - val_loss: 0.7711 - val_acc: 0.6351\n",
      "Epoch 96/200\n",
      "345/345 [==============================] - 2s 5ms/step - loss: 0.5602 - acc: 0.6754 - val_loss: 0.7600 - val_acc: 0.6892\n",
      "Epoch 97/200\n",
      "345/345 [==============================] - 2s 5ms/step - loss: 0.5746 - acc: 0.6377 - val_loss: 0.7537 - val_acc: 0.4730\n",
      "Epoch 98/200\n",
      "345/345 [==============================] - 2s 5ms/step - loss: 0.6259 - acc: 0.5768 - val_loss: 0.8170 - val_acc: 0.5676\n",
      "Epoch 99/200\n",
      "345/345 [==============================] - 2s 5ms/step - loss: 0.6042 - acc: 0.6435 - val_loss: 0.7903 - val_acc: 0.5946\n",
      "Epoch 100/200\n",
      "345/345 [==============================] - 2s 5ms/step - loss: 0.6370 - acc: 0.5826 - val_loss: 0.8399 - val_acc: 0.5000\n",
      "Epoch 101/200\n",
      "345/345 [==============================] - 2s 6ms/step - loss: 0.6539 - acc: 0.5797 - val_loss: 0.7569 - val_acc: 0.5135\n",
      "Epoch 102/200\n",
      "345/345 [==============================] - 2s 6ms/step - loss: 0.6546 - acc: 0.5855 - val_loss: 0.7781 - val_acc: 0.4865\n",
      "Epoch 103/200\n",
      "345/345 [==============================] - 2s 6ms/step - loss: 0.7188 - acc: 0.5478 - val_loss: 0.7225 - val_acc: 0.5405\n",
      "Epoch 104/200\n",
      "345/345 [==============================] - 2s 7ms/step - loss: 0.6799 - acc: 0.5304 - val_loss: 0.7171 - val_acc: 0.5541\n",
      "Epoch 105/200\n",
      "345/345 [==============================] - 2s 6ms/step - loss: 0.6752 - acc: 0.5275 - val_loss: 0.7447 - val_acc: 0.4865\n",
      "Epoch 106/200\n",
      "345/345 [==============================] - 2s 6ms/step - loss: 0.6544 - acc: 0.5681 - val_loss: 0.7016 - val_acc: 0.5541\n",
      "Epoch 107/200\n",
      "345/345 [==============================] - 2s 6ms/step - loss: 0.6733 - acc: 0.5333 - val_loss: 0.6983 - val_acc: 0.5541\n",
      "Epoch 108/200\n",
      "345/345 [==============================] - 2s 6ms/step - loss: 0.6523 - acc: 0.5536 - val_loss: 0.7170 - val_acc: 0.4730\n",
      "Epoch 109/200\n",
      "345/345 [==============================] - 2s 6ms/step - loss: 0.6583 - acc: 0.5565 - val_loss: 0.7159 - val_acc: 0.4730\n",
      "Epoch 110/200\n",
      "345/345 [==============================] - 2s 6ms/step - loss: 0.6476 - acc: 0.5565 - val_loss: 0.6976 - val_acc: 0.5811\n",
      "Epoch 111/200\n",
      "345/345 [==============================] - 2s 6ms/step - loss: 0.6585 - acc: 0.5362 - val_loss: 0.7007 - val_acc: 0.5811\n",
      "Epoch 112/200\n",
      "345/345 [==============================] - 2s 6ms/step - loss: 0.6446 - acc: 0.5855 - val_loss: 0.7222 - val_acc: 0.4730\n",
      "Epoch 113/200\n",
      "345/345 [==============================] - 2s 6ms/step - loss: 0.6498 - acc: 0.5478 - val_loss: 0.7135 - val_acc: 0.4730\n",
      "Epoch 114/200\n",
      "345/345 [==============================] - 2s 6ms/step - loss: 0.6427 - acc: 0.5536 - val_loss: 0.7138 - val_acc: 0.4324\n",
      "Epoch 115/200\n",
      "345/345 [==============================] - 2s 6ms/step - loss: 0.6403 - acc: 0.5594 - val_loss: 0.7176 - val_acc: 0.4324\n",
      "Epoch 116/200\n",
      "345/345 [==============================] - 2s 7ms/step - loss: 0.6403 - acc: 0.5594 - val_loss: 0.7522 - val_acc: 0.4730\n",
      "Epoch 117/200\n",
      "345/345 [==============================] - 3s 8ms/step - loss: 0.6424 - acc: 0.5536 - val_loss: 0.7138 - val_acc: 0.5676\n",
      "Epoch 118/200\n",
      "345/345 [==============================] - 2s 7ms/step - loss: 0.6425 - acc: 0.5652 - val_loss: 0.7112 - val_acc: 0.5676\n",
      "Epoch 119/200\n",
      "345/345 [==============================] - 2s 6ms/step - loss: 0.6452 - acc: 0.5478 - val_loss: 0.7126 - val_acc: 0.5676\n",
      "Epoch 120/200\n",
      "345/345 [==============================] - 2s 6ms/step - loss: 0.6445 - acc: 0.5652 - val_loss: 0.7369 - val_acc: 0.4459\n",
      "Epoch 121/200\n",
      "345/345 [==============================] - 2s 6ms/step - loss: 0.6385 - acc: 0.5043 - val_loss: 0.7677 - val_acc: 0.5135\n",
      "Epoch 122/200\n",
      "345/345 [==============================] - 2s 6ms/step - loss: 0.6426 - acc: 0.5739 - val_loss: 0.7724 - val_acc: 0.4459\n"
     ]
    },
    {
     "name": "stdout",
     "output_type": "stream",
     "text": [
      "Epoch 123/200\n",
      "345/345 [==============================] - 2s 6ms/step - loss: 0.6384 - acc: 0.5449 - val_loss: 0.7542 - val_acc: 0.5811\n",
      "Epoch 124/200\n",
      "345/345 [==============================] - 2s 6ms/step - loss: 0.6332 - acc: 0.5942 - val_loss: 0.7539 - val_acc: 0.5541\n",
      "Epoch 125/200\n",
      "345/345 [==============================] - 2s 6ms/step - loss: 0.6295 - acc: 0.5884 - val_loss: 0.7490 - val_acc: 0.5405\n",
      "Epoch 126/200\n",
      "345/345 [==============================] - 2s 6ms/step - loss: 0.6242 - acc: 0.5855 - val_loss: 0.7401 - val_acc: 0.5541\n",
      "Epoch 127/200\n",
      "345/345 [==============================] - 2s 6ms/step - loss: 0.6278 - acc: 0.5797 - val_loss: 0.7218 - val_acc: 0.5541\n",
      "Epoch 128/200\n",
      "345/345 [==============================] - 2s 6ms/step - loss: 0.6231 - acc: 0.6116 - val_loss: 0.7217 - val_acc: 0.4865\n",
      "Epoch 129/200\n",
      "345/345 [==============================] - 2s 6ms/step - loss: 0.6223 - acc: 0.5942 - val_loss: 0.7117 - val_acc: 0.5946\n",
      "Epoch 130/200\n",
      "345/345 [==============================] - 2s 6ms/step - loss: 0.6250 - acc: 0.5942 - val_loss: 0.7151 - val_acc: 0.5405\n",
      "Epoch 131/200\n",
      "345/345 [==============================] - 2s 6ms/step - loss: 0.6189 - acc: 0.6029 - val_loss: 0.7555 - val_acc: 0.4595\n",
      "Epoch 132/200\n",
      "345/345 [==============================] - 2s 7ms/step - loss: 0.6165 - acc: 0.6029 - val_loss: 0.7115 - val_acc: 0.5811\n",
      "Epoch 133/200\n",
      "345/345 [==============================] - 2s 7ms/step - loss: 0.6184 - acc: 0.6029 - val_loss: 0.7106 - val_acc: 0.5946\n",
      "Epoch 134/200\n",
      "345/345 [==============================] - 3s 8ms/step - loss: 0.6089 - acc: 0.6232 - val_loss: 0.7305 - val_acc: 0.4865\n",
      "Epoch 135/200\n",
      "345/345 [==============================] - 2s 7ms/step - loss: 0.6081 - acc: 0.6058 - val_loss: 0.7128 - val_acc: 0.5946\n",
      "Epoch 136/200\n",
      "345/345 [==============================] - 2s 7ms/step - loss: 0.6116 - acc: 0.6087 - val_loss: 0.7176 - val_acc: 0.5946\n",
      "Epoch 137/200\n",
      "345/345 [==============================] - 2s 6ms/step - loss: 0.6084 - acc: 0.6000 - val_loss: 0.7066 - val_acc: 0.6216\n",
      "Epoch 138/200\n",
      "345/345 [==============================] - 2s 6ms/step - loss: 0.6080 - acc: 0.6058 - val_loss: 0.7096 - val_acc: 0.5676\n",
      "Epoch 139/200\n",
      "345/345 [==============================] - 2s 6ms/step - loss: 0.5976 - acc: 0.6609 - val_loss: 0.7415 - val_acc: 0.5541\n",
      "Epoch 140/200\n",
      "345/345 [==============================] - 2s 6ms/step - loss: 0.5996 - acc: 0.6406 - val_loss: 0.7168 - val_acc: 0.5946\n",
      "Epoch 141/200\n",
      "345/345 [==============================] - 2s 6ms/step - loss: 0.5888 - acc: 0.6638 - val_loss: 0.7378 - val_acc: 0.5135\n",
      "Epoch 142/200\n",
      "345/345 [==============================] - 2s 6ms/step - loss: 0.5906 - acc: 0.6377 - val_loss: 0.7380 - val_acc: 0.5541\n",
      "Epoch 143/200\n",
      "345/345 [==============================] - 2s 6ms/step - loss: 0.5929 - acc: 0.6406 - val_loss: 0.7426 - val_acc: 0.5946\n",
      "Epoch 144/200\n",
      "345/345 [==============================] - 3s 8ms/step - loss: 0.5876 - acc: 0.6667 - val_loss: 0.7171 - val_acc: 0.5811\n",
      "Epoch 145/200\n",
      "345/345 [==============================] - 3s 8ms/step - loss: 0.5846 - acc: 0.6551 - val_loss: 0.7279 - val_acc: 0.5405\n",
      "Epoch 146/200\n",
      "345/345 [==============================] - 2s 7ms/step - loss: 0.5825 - acc: 0.6667 - val_loss: 0.7140 - val_acc: 0.6081\n",
      "Epoch 147/200\n",
      "345/345 [==============================] - 2s 6ms/step - loss: 0.5762 - acc: 0.6696 - val_loss: 0.7469 - val_acc: 0.5405\n",
      "Epoch 148/200\n",
      "345/345 [==============================] - 2s 6ms/step - loss: 0.5757 - acc: 0.6667 - val_loss: 0.7436 - val_acc: 0.5405\n",
      "Epoch 149/200\n",
      "345/345 [==============================] - 2s 7ms/step - loss: 0.5852 - acc: 0.6406 - val_loss: 0.7710 - val_acc: 0.5000\n",
      "Epoch 150/200\n",
      "345/345 [==============================] - 2s 7ms/step - loss: 0.5972 - acc: 0.6522 - val_loss: 0.7466 - val_acc: 0.5000\n",
      "Epoch 151/200\n",
      "345/345 [==============================] - 2s 6ms/step - loss: 0.6092 - acc: 0.6232 - val_loss: 0.7585 - val_acc: 0.5541\n",
      "Epoch 152/200\n",
      "345/345 [==============================] - 2s 6ms/step - loss: 0.6050 - acc: 0.6145 - val_loss: 0.7591 - val_acc: 0.5541\n",
      "Epoch 153/200\n",
      "345/345 [==============================] - 2s 7ms/step - loss: 0.5928 - acc: 0.6493 - val_loss: 0.7113 - val_acc: 0.5946\n",
      "Epoch 154/200\n",
      "345/345 [==============================] - 2s 7ms/step - loss: 0.5756 - acc: 0.6667 - val_loss: 0.7799 - val_acc: 0.4865\n",
      "Epoch 155/200\n",
      "345/345 [==============================] - 2s 6ms/step - loss: 0.5909 - acc: 0.6261 - val_loss: 0.7686 - val_acc: 0.5541\n",
      "Epoch 156/200\n",
      "345/345 [==============================] - 2s 7ms/step - loss: 0.5801 - acc: 0.6667 - val_loss: 0.7504 - val_acc: 0.5811\n",
      "Epoch 157/200\n",
      "345/345 [==============================] - 2s 7ms/step - loss: 0.5713 - acc: 0.6841 - val_loss: 0.7645 - val_acc: 0.5946\n",
      "Epoch 158/200\n",
      "345/345 [==============================] - 3s 7ms/step - loss: 0.5730 - acc: 0.6580 - val_loss: 0.8073 - val_acc: 0.5405\n",
      "Epoch 159/200\n",
      "345/345 [==============================] - 2s 7ms/step - loss: 0.5678 - acc: 0.6841 - val_loss: 0.7968 - val_acc: 0.5946\n",
      "Epoch 160/200\n",
      "345/345 [==============================] - 2s 7ms/step - loss: 0.5600 - acc: 0.6899 - val_loss: 0.7805 - val_acc: 0.5541\n",
      "Epoch 161/200\n",
      "345/345 [==============================] - 3s 7ms/step - loss: 0.5571 - acc: 0.6754 - val_loss: 0.7595 - val_acc: 0.5541\n",
      "Epoch 162/200\n",
      "345/345 [==============================] - 2s 7ms/step - loss: 0.5589 - acc: 0.6870 - val_loss: 0.7671 - val_acc: 0.5405\n",
      "Epoch 163/200\n",
      "345/345 [==============================] - 2s 6ms/step - loss: 0.5450 - acc: 0.6870 - val_loss: 0.7694 - val_acc: 0.5541\n",
      "Epoch 164/200\n",
      "345/345 [==============================] - 2s 7ms/step - loss: 0.5372 - acc: 0.6986 - val_loss: 0.7721 - val_acc: 0.5811\n",
      "Epoch 165/200\n",
      "345/345 [==============================] - 3s 7ms/step - loss: 0.5394 - acc: 0.6986 - val_loss: 0.7763 - val_acc: 0.5811\n",
      "Epoch 166/200\n",
      "345/345 [==============================] - 2s 6ms/step - loss: 0.5434 - acc: 0.6899 - val_loss: 0.8470 - val_acc: 0.5811\n",
      "Epoch 167/200\n",
      "345/345 [==============================] - 2s 7ms/step - loss: 0.5384 - acc: 0.6957 - val_loss: 0.7762 - val_acc: 0.5541\n",
      "Epoch 168/200\n",
      "345/345 [==============================] - 2s 6ms/step - loss: 0.5373 - acc: 0.7101 - val_loss: 0.8214 - val_acc: 0.5541\n",
      "Epoch 169/200\n",
      "345/345 [==============================] - 2s 6ms/step - loss: 0.5290 - acc: 0.7188 - val_loss: 0.8031 - val_acc: 0.5811\n",
      "Epoch 170/200\n",
      "345/345 [==============================] - 3s 8ms/step - loss: 0.5325 - acc: 0.7014 - val_loss: 0.8777 - val_acc: 0.5676\n",
      "Epoch 171/200\n",
      "345/345 [==============================] - 2s 6ms/step - loss: 0.5607 - acc: 0.6667 - val_loss: 0.8147 - val_acc: 0.5676\n",
      "Epoch 172/200\n",
      "345/345 [==============================] - 2s 6ms/step - loss: 0.5300 - acc: 0.7072 - val_loss: 0.8212 - val_acc: 0.5405\n",
      "Epoch 173/200\n",
      "345/345 [==============================] - 2s 6ms/step - loss: 0.5544 - acc: 0.6957 - val_loss: 0.7698 - val_acc: 0.5946\n",
      "Epoch 174/200\n",
      "345/345 [==============================] - 2s 6ms/step - loss: 0.5351 - acc: 0.6928 - val_loss: 0.8186 - val_acc: 0.5541\n",
      "Epoch 175/200\n",
      "345/345 [==============================] - 2s 6ms/step - loss: 0.5162 - acc: 0.7217 - val_loss: 0.8087 - val_acc: 0.5676\n",
      "Epoch 176/200\n",
      "345/345 [==============================] - 2s 6ms/step - loss: 0.5026 - acc: 0.7275 - val_loss: 0.8146 - val_acc: 0.5811\n",
      "Epoch 177/200\n",
      "345/345 [==============================] - 2s 6ms/step - loss: 0.5348 - acc: 0.6812 - val_loss: 0.8485 - val_acc: 0.6081\n",
      "Epoch 178/200\n",
      "345/345 [==============================] - 2s 6ms/step - loss: 0.5193 - acc: 0.7072 - val_loss: 0.8402 - val_acc: 0.5676\n",
      "Epoch 179/200\n",
      "345/345 [==============================] - 2s 6ms/step - loss: 0.5305 - acc: 0.7072 - val_loss: 0.8631 - val_acc: 0.5270\n",
      "Epoch 180/200\n",
      "345/345 [==============================] - 3s 8ms/step - loss: 0.5287 - acc: 0.6696 - val_loss: 0.8118 - val_acc: 0.5811\n",
      "Epoch 181/200\n",
      "345/345 [==============================] - 2s 7ms/step - loss: 0.5135 - acc: 0.7246 - val_loss: 0.7944 - val_acc: 0.6081\n",
      "Epoch 182/200\n",
      "345/345 [==============================] - 2s 6ms/step - loss: 0.4778 - acc: 0.7536 - val_loss: 0.9023 - val_acc: 0.5541\n",
      "Epoch 183/200\n"
     ]
    },
    {
     "name": "stdout",
     "output_type": "stream",
     "text": [
      "345/345 [==============================] - 2s 6ms/step - loss: 0.5040 - acc: 0.7043 - val_loss: 0.8296 - val_acc: 0.5946\n",
      "Epoch 184/200\n",
      "345/345 [==============================] - 2s 6ms/step - loss: 0.4800 - acc: 0.7391 - val_loss: 0.8355 - val_acc: 0.5676\n",
      "Epoch 185/200\n",
      "345/345 [==============================] - 2s 6ms/step - loss: 0.4840 - acc: 0.7391 - val_loss: 0.7725 - val_acc: 0.6081\n",
      "Epoch 186/200\n",
      "345/345 [==============================] - 2s 7ms/step - loss: 0.5099 - acc: 0.7101 - val_loss: 0.7819 - val_acc: 0.5676\n",
      "Epoch 187/200\n",
      "345/345 [==============================] - 2s 7ms/step - loss: 0.4751 - acc: 0.7391 - val_loss: 0.7424 - val_acc: 0.6216\n",
      "Epoch 188/200\n",
      "345/345 [==============================] - 3s 10ms/step - loss: 0.4599 - acc: 0.7536 - val_loss: 0.8327 - val_acc: 0.5946\n",
      "Epoch 189/200\n",
      "345/345 [==============================] - 2s 7ms/step - loss: 0.4724 - acc: 0.7217 - val_loss: 0.7418 - val_acc: 0.5946\n",
      "Epoch 190/200\n",
      "345/345 [==============================] - 2s 7ms/step - loss: 0.5191 - acc: 0.6986 - val_loss: 0.8045 - val_acc: 0.5405\n",
      "Epoch 191/200\n",
      "345/345 [==============================] - 3s 8ms/step - loss: 0.4944 - acc: 0.7391 - val_loss: 0.8288 - val_acc: 0.5946\n",
      "Epoch 192/200\n",
      "345/345 [==============================] - 2s 7ms/step - loss: 0.4864 - acc: 0.7275 - val_loss: 0.7464 - val_acc: 0.6081\n",
      "Epoch 193/200\n",
      "345/345 [==============================] - 2s 7ms/step - loss: 0.4723 - acc: 0.7333 - val_loss: 0.8532 - val_acc: 0.5811\n",
      "Epoch 194/200\n",
      "345/345 [==============================] - 2s 6ms/step - loss: 0.4751 - acc: 0.7275 - val_loss: 0.8548 - val_acc: 0.5811\n",
      "Epoch 195/200\n",
      "345/345 [==============================] - 2s 6ms/step - loss: 0.4582 - acc: 0.7391 - val_loss: 0.8798 - val_acc: 0.5135\n",
      "Epoch 196/200\n",
      "345/345 [==============================] - 2s 7ms/step - loss: 0.4835 - acc: 0.7507 - val_loss: 0.8962 - val_acc: 0.5405\n",
      "Epoch 197/200\n",
      "345/345 [==============================] - 2s 7ms/step - loss: 0.4871 - acc: 0.7275 - val_loss: 0.8243 - val_acc: 0.5405\n",
      "Epoch 198/200\n",
      "345/345 [==============================] - 2s 6ms/step - loss: 0.4898 - acc: 0.7420 - val_loss: 0.8767 - val_acc: 0.4865\n",
      "Epoch 199/200\n",
      "345/345 [==============================] - 2s 6ms/step - loss: 0.4831 - acc: 0.7014 - val_loss: 0.8146 - val_acc: 0.5811\n",
      "Epoch 200/200\n",
      "345/345 [==============================] - 2s 7ms/step - loss: 0.4731 - acc: 0.7449 - val_loss: 0.8967 - val_acc: 0.5405\n"
     ]
    }
   ],
   "source": [
    "X_train, X_dev, X_test, y_train, y_dev, y_test = create_train_dev_test(X_filt, y_filt, seed=1)\n",
    "adam = Adam(lr=0.001)\n",
    "chk = ModelCheckpoint(f'../models/best_model_{version}.pkl', monitor='acc', save_best_only=True, mode='max', verbose=0) #monitor='val_acc'\n",
    "weights = model.get_weights()\n",
    "model.compile(loss='binary_crossentropy', optimizer=adam, metrics=['accuracy'])\n",
    "\n",
    "history_t = model.fit(X_train, y_train, epochs=200, batch_size=64,\n",
    "                                                callbacks=[chk], validation_data=(X_dev, y_dev))\n",
    "model.set_weights(weights)\n",
    "\n",
    "play_bell()"
   ]
  },
  {
   "cell_type": "markdown",
   "metadata": {},
   "source": [
    "## Training history plot"
   ]
  },
  {
   "cell_type": "code",
   "execution_count": 33,
   "metadata": {},
   "outputs": [
    {
     "name": "stdout",
     "output_type": "stream",
     "text": [
      "Best accuracy on the dev set: 71.6%\n",
      "Best accuracy on the training set: 75.4%\n"
     ]
    },
    {
     "data": {
      "image/png": "[encoded data removed]",
      "text/plain": [
       "<Figure size 864x288 with 2 Axes>"
      ]
     },
     "metadata": {
      "needs_background": "light"
     },
     "output_type": "display_data"
    }
   ],
   "source": [
    "fig, (ax1, ax2) = plt.subplots(1, 2, figsize=(12,4))\n",
    "\n",
    "ax1.plot(history_t.history['acc'], label='train')\n",
    "ax1.plot(history_t.history['val_acc'], label='dev')\n",
    "\n",
    "ax2.plot(history_t.history['loss'], label='train')\n",
    "ax2.plot(history_t.history['val_loss'], label='dev')\n",
    "\n",
    "ax1.set_xlabel('Epoch')\n",
    "ax2.set_xlabel('Epoch')\n",
    "ax1.legend()\n",
    "ax2.legend()\n",
    "\n",
    "ax1.set_ylabel('Accuracy')\n",
    "ax2.set_ylabel('Loss')\n",
    "\n",
    "best_acc = max(history_t.history['val_acc'])\n",
    "print(f'Best accuracy on the dev set: {best_acc*100:.1f}%')\n",
    "best_acc_training = max(history_t.history['acc'])\n",
    "print(f'Best accuracy on the training set: {best_acc_training*100:.1f}%')\n",
    "#fig.savefig(f'../plots/model_{version}.png', bbox_inches='tight')"
   ]
  },
  {
   "cell_type": "markdown",
   "metadata": {},
   "source": [
    "## Evaluation of the model"
   ]
  },
  {
   "cell_type": "code",
   "execution_count": 34,
   "metadata": {},
   "outputs": [],
   "source": [
    "model = load_model(f'../models/best_model_{version}.pkl') # load best model"
   ]
  },
  {
   "cell_type": "code",
   "execution_count": 35,
   "metadata": {},
   "outputs": [
    {
     "name": "stdout",
     "output_type": "stream",
     "text": [
      "Accuracy on the dev set: 59.5%\n",
      "Accuracy on the training set: 77.4%\n",
      "Accuracy on the test set: 60.8%\n"
     ]
    }
   ],
   "source": [
    "dev_preds = model.predict_classes(X_dev)\n",
    "acc_dev = accuracy_score(y_dev, dev_preds)\n",
    "print(f'Accuracy on the dev set: {acc_dev*100:.1f}%')\n",
    "\n",
    "training_preds = model.predict_classes(X_train)\n",
    "acc_training = accuracy_score(y_train, training_preds)\n",
    "print(f'Accuracy on the training set: {acc_training*100:.1f}%')\n",
    "\n",
    "test_preds = model.predict_classes(X_test)\n",
    "acc_test = accuracy_score(y_test, test_preds)\n",
    "print(f'Accuracy on the test set: {acc_test*100:.1f}%')"
   ]
  },
  {
   "cell_type": "code",
   "execution_count": 36,
   "metadata": {},
   "outputs": [
    {
     "data": {
      "image/png": "[encoded data removed]",
      "text/plain": [
       "<Figure size 216x216 with 2 Axes>"
      ]
     },
     "metadata": {
      "needs_background": "light"
     },
     "output_type": "display_data"
    }
   ],
   "source": [
    "import itertools\n",
    "from sklearn.metrics import confusion_matrix\n",
    "\n",
    "cm = confusion_matrix(y_test, test_preds)\n",
    "#cm = confusion_matrix(y_dev, dev_preds)\n",
    "#cm = confusion_matrix(y_train, training_preds)\n",
    "\n",
    "classes=['Right', 'Left']\n",
    "fig, ax = plt.subplots(1, figsize=(3,3))\n",
    "tick_marks = np.arange(len(classes))\n",
    "plt.xticks(tick_marks, classes)\n",
    "plt.yticks(tick_marks, classes)\n",
    "\n",
    "cm_norm = cm / cm.sum(axis=1)*100\n",
    "im = ax.imshow(cm_norm, cmap='Blues', interpolation='none', clim=(0,100))\n",
    "ax.set_title(f'Confusion matrix ({y_dev.shape[0]} samples)', size=13)\n",
    "\n",
    "\n",
    "for i, j in itertools.product(range(cm.shape[0]), range(cm.shape[1])):\n",
    "    ax.text(j, i, f'{cm[i,j]}\\n{cm_norm[i, j]:.1f}%', size=13,\n",
    "             horizontalalignment=\"center\", verticalalignment=\"center\",\n",
    "             color=\"white\" if cm[i, j] > 60 else \"black\")\n",
    "ax.set_ylabel('True label', size=12)\n",
    "ax.set_xlabel('Predicted label', size=12)\n",
    "\n",
    "cb_ax = fig.add_axes([0.95, 0.12, 0.1, 0.76])\n",
    "cb = fig.colorbar(im, cax=cb_ax, orientation='vertical')\n",
    "cb.set_label('%')\n",
    "\n",
    "#fig.savefig(f'../plots/conf_matrix_{version}.png', bbox_inches='tight')"
   ]
  },
  {
   "cell_type": "code",
   "execution_count": 17,
   "metadata": {},
   "outputs": [
    {
     "data": {
      "text/plain": [
       "0.4579710144927536"
      ]
     },
     "execution_count": 17,
     "metadata": {},
     "output_type": "execute_result"
    }
   ],
   "source": [
    "sum(y_train)/len(y_train)"
   ]
  },
  {
   "cell_type": "code",
   "execution_count": null,
   "metadata": {},
   "outputs": [],
   "source": []
  }
 ],
 "metadata": {
  "kernelspec": {
   "display_name": "Python 3",
   "language": "python",
   "name": "python3"
  },
  "language_info": {
   "codemirror_mode": {
    "name": "ipython",
    "version": 3
   },
   "file_extension": ".py",
   "mimetype": "text/x-python",
   "name": "python",
   "nbconvert_exporter": "python",
   "pygments_lexer": "ipython3",
   "version": "3.7.3"
  }
 },
 "nbformat": 4,
 "nbformat_minor": 2
}
