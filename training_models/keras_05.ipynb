{
 "cells": [
  {
   "cell_type": "code",
   "execution_count": 1,
   "metadata": {},
   "outputs": [
    {
     "name": "stderr",
     "output_type": "stream",
     "text": [
      "Using TensorFlow backend.\n"
     ]
    }
   ],
   "source": [
    "import os\n",
    "os.environ['PYTHONHASHSEED']=str(0)\n",
    "import random\n",
    "random.seed(0)\n",
    "import numpy as np\n",
    "np.random.seed(0)\n",
    "import tensorflow as tf\n",
    "tf.set_random_seed(0)\n",
    "\n",
    "# ## uncomment for reproducibility ##\n",
    "# from keras import backend as K\n",
    "# session_conf = tf.ConfigProto(intra_op_parallelism_threads=1, inter_op_parallelism_threads=1)\n",
    "# sess = tf.Session(graph=tf.get_default_graph(), config=session_conf)\n",
    "# K.set_session(sess)\n",
    "\n",
    "import pandas as pd\n",
    "import matplotlib.pyplot as plt\n",
    "import pickle\n",
    "import itertools\n",
    "import time\n",
    "import itertools\n",
    "\n",
    "from keras.preprocessing import sequence\n",
    "from keras.models import Sequential\n",
    "from keras.layers import Dense\n",
    "from keras.layers import LSTM\n",
    "from keras.layers import SimpleRNN\n",
    "from keras.initializers import glorot_uniform\n",
    "\n",
    "from keras.optimizers import Adam\n",
    "from keras.models import load_model\n",
    "from keras.callbacks import ModelCheckpoint\n",
    "from keras.callbacks import Callback\n",
    "\n",
    "from sklearn.model_selection import train_test_split\n",
    "from sklearn.model_selection import StratifiedKFold\n",
    "from sklearn.metrics import accuracy_score\n",
    "from sklearn.metrics import confusion_matrix\n",
    "from sklearn.model_selection import cross_val_score\n",
    "from sklearn import svm\n",
    "from sklearn.svm import SVC\n",
    "from bayes_opt import BayesianOptimization\n",
    "from bayes_opt.util import Colours\n",
    "from sklearn.ensemble import RandomForestClassifier as RFC\n",
    "\n",
    "%config InlineBackend.figure_format = 'retina'\n",
    "%matplotlib inline\n",
    "version = '05'"
   ]
  },
  {
   "cell_type": "code",
   "execution_count": 2,
   "metadata": {
    "collapsed": true
   },
   "outputs": [],
   "source": [
    "def play_bell():\n",
    "    import winsound\n",
    "    duration = 200  # millisecond\n",
    "    freq = 440  # Hz\n",
    "    for i in range(5):\n",
    "        winsound.Beep(int(freq*(i/2+1)), duration)"
   ]
  },
  {
   "cell_type": "markdown",
   "metadata": {},
   "source": [
    "## Dataset loading"
   ]
  },
  {
   "cell_type": "code",
   "execution_count": 3,
   "metadata": {
    "collapsed": true
   },
   "outputs": [],
   "source": [
    "right = pd.read_csv(\"../data/right.txt\", header=None).values.tolist()\n",
    "left = pd.read_csv(\"../data/left.txt\", header=None).values.tolist()"
   ]
  },
  {
   "cell_type": "markdown",
   "metadata": {},
   "source": [
    "## Pre-processing"
   ]
  },
  {
   "cell_type": "code",
   "execution_count": 4,
   "metadata": {
    "collapsed": true
   },
   "outputs": [],
   "source": [
    "batch_size = 200\n",
    "batch_right = [right[i:i + batch_size] for i in range(0, len(right), batch_size)]\n",
    "batch_left = [left[i:i + batch_size] for i in range(0, len(left), batch_size)]\n",
    "\n",
    "X_load = np.array(batch_right + batch_left)\n",
    "y_load = np.array([0]*len(batch_right) + [1]*len(batch_left))"
   ]
  },
  {
   "cell_type": "code",
   "execution_count": 5,
   "metadata": {},
   "outputs": [
    {
     "name": "stdout",
     "output_type": "stream",
     "text": [
      "X shape: (600, 200, 2)\n",
      "y shape: (600,)\n"
     ]
    }
   ],
   "source": [
    "print(f'X shape: {X_load.shape}\\ny shape: {y_load.shape}')"
   ]
  },
  {
   "cell_type": "code",
   "execution_count": 6,
   "metadata": {
    "collapsed": true
   },
   "outputs": [],
   "source": [
    "X_diff = X_load[:,:-1,:].copy()\n",
    "X_diff[:,:,0] = np.diff(X_load[:,:,0])\n",
    "X_diff[:,:,1] = np.diff(X_load[:,:,1])"
   ]
  },
  {
   "cell_type": "code",
   "execution_count": 7,
   "metadata": {},
   "outputs": [
    {
     "data": {
      "image/png": "[encoded data removed]",
      "text/plain": [
       "<Figure size 864x288 with 2 Axes>"
      ]
     },
     "metadata": {
      "image/png": {
       "height": 263,
       "width": 723
      },
      "needs_background": "light"
     },
     "output_type": "display_data"
    }
   ],
   "source": [
    "sigma_x = np.std(X_diff[:,:,0], axis=1)\n",
    "sigma_y = np.std(X_diff[:,:,1], axis=1)\n",
    "mask = (sigma_x>0.1)*(sigma_y>0.1)\n",
    "\n",
    "X_filt = X_diff[mask]\n",
    "y_filt = y_load[mask]\n",
    "\n",
    "x_std = 3.398 # np.mean(np.std(X_filt[:,:,0], axis=1))\n",
    "y_std = 2.926 # np.mean(np.std(X_filt[:,:,1], axis=1))\n",
    "\n",
    "X_filt[:,:,0] = X_filt[:,:,0] / x_std\n",
    "X_filt[:,:,1] = X_filt[:,:,1] / y_std\n",
    "\n",
    "sigma_x_filt = np.std(X_filt[:,:,0], axis=1)\n",
    "sigma_y_filt = np.std(X_filt[:,:,1], axis=1)\n",
    "\n",
    "\n",
    "fig, (ax1, ax2) = plt.subplots(1, 2,  figsize=(12, 4))\n",
    "ax1.hist(sigma_x_filt, bins=50, density=True)\n",
    "ax2.hist(sigma_y_filt, bins=50, density=True)\n",
    "for ax in (ax1,ax2):\n",
    "    ax.set_xlim(0,5)\n",
    "    ax.set_ylabel('Occurrence (%)')\n",
    "    #ax.set_yticks(np.arange(0,0.41,0.1))\n",
    "ax1.set_xlabel('x relative movement (px)')\n",
    "ax2.set_xlabel('y relative movement (px)')\n",
    "\n",
    "X = X_filt\n",
    "y = y_filt\n",
    "\n",
    "#fig.savefig(f'../plots/relative_movement_hist_corrected.png', bbox_inches='tight')"
   ]
  },
  {
   "cell_type": "markdown",
   "metadata": {},
   "source": [
    "## Model definition"
   ]
  },
  {
   "cell_type": "code",
   "execution_count": 8,
   "metadata": {},
   "outputs": [],
   "source": [
    "def create_train_test(X, y):\n",
    "    X_train_dev, X_test, y_train_dev, y_test = train_test_split(X, y, test_size=0.15, random_state=0, shuffle=True)   \n",
    "    nsamples, nx, ny = X_train_dev.shape\n",
    "    X_train_dev_2D = X_train_dev.reshape((nsamples,nx*ny))\n",
    "    \n",
    "    nsamples, nx, ny = X_test.shape\n",
    "    X_test_2D = X_test.reshape((nsamples,nx*ny))\n",
    "    \n",
    "    return X_train_dev_2D, X_test_2D, y_train_dev, y_test\n",
    "    \n",
    "def svc_cv(C, gamma, data, targets):\n",
    "    estimator = SVC(C=C, gamma=gamma, random_state=2)\n",
    "    cval = cross_val_score(estimator, data, targets, scoring='roc_auc', cv=4)\n",
    "    return cval.mean()\n",
    "\n",
    "\n",
    "def optimize_svc(data, targets):\n",
    "    \"\"\"Apply Bayesian Optimization to SVC parameters.\"\"\"\n",
    "    def svc_crossval(expC, expGamma):\n",
    "        \"\"\"Wrapper of SVC cross validation.\n",
    "        Notice how we transform between regular and log scale. While this\n",
    "        is not technically necessary, it greatly improves the performance\n",
    "        of the optimizer.\n",
    "        \"\"\"\n",
    "        C = 10 ** expC\n",
    "        gamma = 10 ** expGamma\n",
    "        return svc_cv(C=C, gamma=gamma, data=data, targets=targets)\n",
    "\n",
    "    optimizer = BayesianOptimization(\n",
    "        f=svc_crossval,\n",
    "        pbounds={\"expC\": (-3, 2), \"expGamma\": (-4, -1)},\n",
    "        random_state=1234,\n",
    "        verbose=2\n",
    "    )\n",
    "    optimizer.maximize(n_iter=50)\n",
    "    print(\"Final result:\", optimizer.max)\n"
   ]
  },
  {
   "cell_type": "code",
   "execution_count": 73,
   "metadata": {},
   "outputs": [
    {
     "name": "stdout",
     "output_type": "stream",
     "text": [
      "|   iter    |  target   |   expC    | expGamma  |\n",
      "-------------------------------------------------\n",
      "| \u001b[0m 1       \u001b[0m | \u001b[0m 0.6169  \u001b[0m | \u001b[0m-2.042   \u001b[0m | \u001b[0m-2.134   \u001b[0m |\n",
      "| \u001b[0m 2       \u001b[0m | \u001b[0m 0.6065  \u001b[0m | \u001b[0m-0.8114  \u001b[0m | \u001b[0m-1.644   \u001b[0m |\n",
      "| \u001b[0m 3       \u001b[0m | \u001b[0m 0.5856  \u001b[0m | \u001b[0m 0.8999  \u001b[0m | \u001b[0m-3.182   \u001b[0m |\n",
      "| \u001b[0m 4       \u001b[0m | \u001b[0m 0.5963  \u001b[0m | \u001b[0m-1.618   \u001b[0m | \u001b[0m-1.594   \u001b[0m |\n",
      "| \u001b[0m 5       \u001b[0m | \u001b[0m 0.5253  \u001b[0m | \u001b[0m 1.791   \u001b[0m | \u001b[0m-1.372   \u001b[0m |\n",
      "| \u001b[0m 6       \u001b[0m | \u001b[0m 0.5806  \u001b[0m | \u001b[0m-3.0     \u001b[0m | \u001b[0m-4.0     \u001b[0m |\n",
      "| \u001b[0m 7       \u001b[0m | \u001b[0m 0.5805  \u001b[0m | \u001b[0m-1.084   \u001b[0m | \u001b[0m-4.0     \u001b[0m |\n",
      "| \u001b[95m 8       \u001b[0m | \u001b[95m 0.6222  \u001b[0m | \u001b[95m-0.9358  \u001b[0m | \u001b[95m-2.697   \u001b[0m |\n",
      "| \u001b[0m 9       \u001b[0m | \u001b[0m 0.6218  \u001b[0m | \u001b[0m-3.0     \u001b[0m | \u001b[0m-2.238   \u001b[0m |\n",
      "| \u001b[0m 10      \u001b[0m | \u001b[0m 0.6219  \u001b[0m | \u001b[0m-2.998   \u001b[0m | \u001b[0m-2.853   \u001b[0m |\n",
      "| \u001b[0m 11      \u001b[0m | \u001b[0m 0.602   \u001b[0m | \u001b[0m-0.04574 \u001b[0m | \u001b[0m-2.373   \u001b[0m |\n",
      "| \u001b[0m 12      \u001b[0m | \u001b[0m 0.5523  \u001b[0m | \u001b[0m 2.0     \u001b[0m | \u001b[0m-4.0     \u001b[0m |\n",
      "| \u001b[0m 13      \u001b[0m | \u001b[0m 0.6218  \u001b[0m | \u001b[0m-1.93    \u001b[0m | \u001b[0m-2.926   \u001b[0m |\n",
      "| \u001b[0m 14      \u001b[0m | \u001b[0m 0.6204  \u001b[0m | \u001b[0m-1.428   \u001b[0m | \u001b[0m-2.505   \u001b[0m |\n",
      "| \u001b[0m 15      \u001b[0m | \u001b[0m 0.6217  \u001b[0m | \u001b[0m-2.563   \u001b[0m | \u001b[0m-2.603   \u001b[0m |\n",
      "| \u001b[0m 16      \u001b[0m | \u001b[0m 0.6204  \u001b[0m | \u001b[0m-2.998   \u001b[0m | \u001b[0m-2.574   \u001b[0m |\n",
      "| \u001b[0m 17      \u001b[0m | \u001b[0m 0.5913  \u001b[0m | \u001b[0m-3.0     \u001b[0m | \u001b[0m-1.0     \u001b[0m |\n",
      "| \u001b[0m 18      \u001b[0m | \u001b[0m 0.6219  \u001b[0m | \u001b[0m-1.279   \u001b[0m | \u001b[0m-2.938   \u001b[0m |\n",
      "| \u001b[95m 19      \u001b[0m | \u001b[95m 0.6223  \u001b[0m | \u001b[95m-2.036   \u001b[0m | \u001b[95m-2.655   \u001b[0m |\n",
      "| \u001b[95m 20      \u001b[0m | \u001b[95m 0.6223  \u001b[0m | \u001b[95m-1.58    \u001b[0m | \u001b[95m-2.761   \u001b[0m |\n",
      "| \u001b[0m 21      \u001b[0m | \u001b[0m 0.6219  \u001b[0m | \u001b[0m-2.403   \u001b[0m | \u001b[0m-2.856   \u001b[0m |\n",
      "| \u001b[95m 22      \u001b[0m | \u001b[95m 0.6225  \u001b[0m | \u001b[95m-1.142   \u001b[0m | \u001b[95m-2.666   \u001b[0m |\n",
      "| \u001b[0m 23      \u001b[0m | \u001b[0m 0.6221  \u001b[0m | \u001b[0m-2.154   \u001b[0m | \u001b[0m-2.653   \u001b[0m |\n",
      "| \u001b[0m 24      \u001b[0m | \u001b[0m 0.6216  \u001b[0m | \u001b[0m-0.9404  \u001b[0m | \u001b[0m-2.895   \u001b[0m |\n",
      "| \u001b[0m 25      \u001b[0m | \u001b[0m 0.6219  \u001b[0m | \u001b[0m-1.302   \u001b[0m | \u001b[0m-2.787   \u001b[0m |\n",
      "| \u001b[0m 26      \u001b[0m | \u001b[0m 0.6206  \u001b[0m | \u001b[0m-2.591   \u001b[0m | \u001b[0m-2.552   \u001b[0m |\n",
      "| \u001b[95m 27      \u001b[0m | \u001b[95m 0.6228  \u001b[0m | \u001b[95m-1.869   \u001b[0m | \u001b[95m-2.715   \u001b[0m |\n",
      "| \u001b[0m 28      \u001b[0m | \u001b[0m 0.6206  \u001b[0m | \u001b[0m-1.037   \u001b[0m | \u001b[0m-2.576   \u001b[0m |\n",
      "| \u001b[95m 29      \u001b[0m | \u001b[95m 0.623   \u001b[0m | \u001b[95m-1.833   \u001b[0m | \u001b[95m-2.721   \u001b[0m |\n",
      "| \u001b[0m 30      \u001b[0m | \u001b[0m 0.623   \u001b[0m | \u001b[0m-2.006   \u001b[0m | \u001b[0m-2.696   \u001b[0m |\n",
      "| \u001b[0m 31      \u001b[0m | \u001b[0m 0.6215  \u001b[0m | \u001b[0m-1.67    \u001b[0m | \u001b[0m-2.796   \u001b[0m |\n",
      "| \u001b[0m 32      \u001b[0m | \u001b[0m 0.6229  \u001b[0m | \u001b[0m-2.119   \u001b[0m | \u001b[0m-2.703   \u001b[0m |\n",
      "| \u001b[0m 33      \u001b[0m | \u001b[0m 0.623   \u001b[0m | \u001b[0m-2.143   \u001b[0m | \u001b[0m-2.723   \u001b[0m |\n",
      "| \u001b[0m 34      \u001b[0m | \u001b[0m 0.6229  \u001b[0m | \u001b[0m-2.05    \u001b[0m | \u001b[0m-2.673   \u001b[0m |\n",
      "| \u001b[0m 35      \u001b[0m | \u001b[0m 0.6219  \u001b[0m | \u001b[0m-2.143   \u001b[0m | \u001b[0m-2.839   \u001b[0m |\n",
      "| \u001b[0m 36      \u001b[0m | \u001b[0m 0.6222  \u001b[0m | \u001b[0m-1.923   \u001b[0m | \u001b[0m-2.658   \u001b[0m |\n",
      "| \u001b[0m 37      \u001b[0m | \u001b[0m 0.6209  \u001b[0m | \u001b[0m-2.999   \u001b[0m | \u001b[0m-2.535   \u001b[0m |\n",
      "| \u001b[0m 38      \u001b[0m | \u001b[0m 0.6224  \u001b[0m | \u001b[0m-2.193   \u001b[0m | \u001b[0m-2.637   \u001b[0m |\n",
      "| \u001b[0m 39      \u001b[0m | \u001b[0m 0.622   \u001b[0m | \u001b[0m-1.267   \u001b[0m | \u001b[0m-2.816   \u001b[0m |\n",
      "| \u001b[0m 40      \u001b[0m | \u001b[0m 0.6229  \u001b[0m | \u001b[0m-1.917   \u001b[0m | \u001b[0m-2.685   \u001b[0m |\n",
      "| \u001b[0m 41      \u001b[0m | \u001b[0m 0.6229  \u001b[0m | \u001b[0m-2.121   \u001b[0m | \u001b[0m-2.672   \u001b[0m |\n",
      "| \u001b[0m 42      \u001b[0m | \u001b[0m 0.623   \u001b[0m | \u001b[0m-1.855   \u001b[0m | \u001b[0m-2.691   \u001b[0m |\n",
      "| \u001b[0m 43      \u001b[0m | \u001b[0m 0.6215  \u001b[0m | \u001b[0m-2.004   \u001b[0m | \u001b[0m-2.796   \u001b[0m |\n",
      "| \u001b[0m 44      \u001b[0m | \u001b[0m 0.6223  \u001b[0m | \u001b[0m-2.176   \u001b[0m | \u001b[0m-2.636   \u001b[0m |\n",
      "| \u001b[0m 45      \u001b[0m | \u001b[0m 0.6229  \u001b[0m | \u001b[0m-1.81    \u001b[0m | \u001b[0m-2.674   \u001b[0m |\n",
      "| \u001b[0m 46      \u001b[0m | \u001b[0m 0.6225  \u001b[0m | \u001b[0m-1.817   \u001b[0m | \u001b[0m-2.665   \u001b[0m |\n",
      "| \u001b[0m 47      \u001b[0m | \u001b[0m 0.6224  \u001b[0m | \u001b[0m-2.085   \u001b[0m | \u001b[0m-2.63    \u001b[0m |\n",
      "| \u001b[0m 48      \u001b[0m | \u001b[0m 0.6221  \u001b[0m | \u001b[0m-1.56    \u001b[0m | \u001b[0m-2.767   \u001b[0m |\n",
      "| \u001b[0m 49      \u001b[0m | \u001b[0m 0.6223  \u001b[0m | \u001b[0m-1.978   \u001b[0m | \u001b[0m-2.644   \u001b[0m |\n",
      "| \u001b[0m 50      \u001b[0m | \u001b[0m 0.6218  \u001b[0m | \u001b[0m-1.195   \u001b[0m | \u001b[0m-2.805   \u001b[0m |\n",
      "| \u001b[0m 51      \u001b[0m | \u001b[0m 0.6228  \u001b[0m | \u001b[0m-2.253   \u001b[0m | \u001b[0m-2.735   \u001b[0m |\n",
      "| \u001b[0m 52      \u001b[0m | \u001b[0m 0.6222  \u001b[0m | \u001b[0m-2.221   \u001b[0m | \u001b[0m-2.663   \u001b[0m |\n",
      "| \u001b[0m 53      \u001b[0m | \u001b[0m 0.6219  \u001b[0m | \u001b[0m-1.97    \u001b[0m | \u001b[0m-2.785   \u001b[0m |\n",
      "| \u001b[0m 54      \u001b[0m | \u001b[0m 0.6226  \u001b[0m | \u001b[0m-1.851   \u001b[0m | \u001b[0m-2.666   \u001b[0m |\n",
      "| \u001b[0m 55      \u001b[0m | \u001b[0m 0.6223  \u001b[0m | \u001b[0m-2.106   \u001b[0m | \u001b[0m-2.647   \u001b[0m |\n",
      "=================================================\n",
      "Final result: {'target': 0.6230471380471381, 'params': {'expC': -1.8331454373389602, 'expGamma': -2.721074033718442}}\n"
     ]
    }
   ],
   "source": [
    "np.random.seed(grid['seed_numpy'][1])\n",
    "tf.set_random_seed(grid['seed_tensorflow'][1])\n",
    "random.seed(grid['seed_random'][1])\n",
    "\n",
    "X_train, X_test, y_train, y_test = create_train_test(X, y)\n",
    "\n",
    "optimize_svc(X_train, y_train)"
   ]
  },
  {
   "cell_type": "code",
   "execution_count": null,
   "metadata": {},
   "outputs": [],
   "source": []
  }
 ],
 "metadata": {
  "kernelspec": {
   "display_name": "Python 3",
   "language": "python",
   "name": "python3"
  },
  "language_info": {
   "codemirror_mode": {
    "name": "ipython",
    "version": 3
   },
   "file_extension": ".py",
   "mimetype": "text/x-python",
   "name": "python",
   "nbconvert_exporter": "python",
   "pygments_lexer": "ipython3",
   "version": "3.7.3"
  }
 },
 "nbformat": 4,
 "nbformat_minor": 2
}
