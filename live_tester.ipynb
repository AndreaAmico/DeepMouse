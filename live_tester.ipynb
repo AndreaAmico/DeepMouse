{
 "cells": [
  {
   "cell_type": "code",
   "execution_count": 6,
   "metadata": {},
   "outputs": [],
   "source": [
    "import numpy as np\n",
    "from keras.models import load_model\n",
    "import matplotlib.pyplot as plt\n",
    "import win32gui\n",
    "import time\n",
    "\n",
    "%matplotlib inline"
   ]
  },
  {
   "cell_type": "code",
   "execution_count": 7,
   "metadata": {},
   "outputs": [],
   "source": [
    "version = '01'\n",
    "model = load_model(f'./models/best_model_{version}.pkl')"
   ]
  },
  {
   "cell_type": "code",
   "execution_count": 8,
   "metadata": {},
   "outputs": [],
   "source": [
    "def get_batch(batch_size=200):\n",
    "    X_pred = np.ones([1, batch_size, 2])\n",
    "    for index in range(batch_size):\n",
    "        x, y = win32gui.GetCursorPos()\n",
    "        X_pred[0,index,:] = np.array([x, y])\n",
    "        time.sleep(0.01)\n",
    "    return X_pred"
   ]
  },
  {
   "cell_type": "code",
   "execution_count": 9,
   "metadata": {},
   "outputs": [
    {
     "name": "stdout",
     "output_type": "stream",
     "text": [
      "Run_4: Current prediction = Right   Left probability = 0.0%   Right probability = 100.0%"
     ]
    }
   ],
   "source": [
    "time_in_sec = 10\n",
    "left_guesses = 0\n",
    "for index in range(1, max(2, int(time_in_sec/2))):\n",
    "    X_pred = get_batch()\n",
    "    pred = model.predict_classes(X_pred)[0][0]\n",
    "    left_guesses += pred\n",
    "    print(f'\\rRun_{index}: Current prediction = {\"Left \" if pred else \"Right\"}   '+\n",
    "        f'Left probability = {left_guesses/index * 100:.1f}%   '+\n",
    "        f'Right probability = {(1 - left_guesses/index) * 100:.1f}%', end='')"
   ]
  },
  {
   "cell_type": "code",
   "execution_count": null,
   "metadata": {},
   "outputs": [],
   "source": []
  }
 ],
 "metadata": {
  "kernelspec": {
   "display_name": "Python 3",
   "language": "python",
   "name": "python3"
  },
  "language_info": {
   "codemirror_mode": {
    "name": "ipython",
    "version": 3
   },
   "file_extension": ".py",
   "mimetype": "text/x-python",
   "name": "python",
   "nbconvert_exporter": "python",
   "pygments_lexer": "ipython3",
   "version": "3.7.3"
  }
 },
 "nbformat": 4,
 "nbformat_minor": 2
}
