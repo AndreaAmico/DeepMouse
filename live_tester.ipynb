{
 "cells": [
  {
   "cell_type": "code",
   "execution_count": 1,
   "metadata": {},
   "outputs": [
    {
     "name": "stderr",
     "output_type": "stream",
     "text": [
      "Using TensorFlow backend.\n"
     ]
    }
   ],
   "source": [
    "import numpy as np\n",
    "from keras.models import load_model\n",
    "import matplotlib.pyplot as plt\n",
    "import win32gui\n",
    "import time\n",
    "\n",
    "%matplotlib inline"
   ]
  },
  {
   "cell_type": "code",
   "execution_count": 2,
   "metadata": {},
   "outputs": [
    {
     "name": "stdout",
     "output_type": "stream",
     "text": [
      "WARNING:tensorflow:From C:\\Users\\aamico\\AppData\\Local\\Continuum\\anaconda3\\lib\\site-packages\\tensorflow\\python\\framework\\op_def_library.py:263: colocate_with (from tensorflow.python.framework.ops) is deprecated and will be removed in a future version.\n",
      "Instructions for updating:\n",
      "Colocations handled automatically by placer.\n",
      "WARNING:tensorflow:From C:\\Users\\aamico\\AppData\\Local\\Continuum\\anaconda3\\lib\\site-packages\\tensorflow\\python\\ops\\math_ops.py:3066: to_int32 (from tensorflow.python.ops.math_ops) is deprecated and will be removed in a future version.\n",
      "Instructions for updating:\n",
      "Use tf.cast instead.\n"
     ]
    }
   ],
   "source": [
    "version = '04'\n",
    "# model = load_model(f'./models/best_model_{version}.pkl')\n",
    "model = load_model('./models/04/best_model_04_6.pkl')"
   ]
  },
  {
   "cell_type": "code",
   "execution_count": 3,
   "metadata": {},
   "outputs": [],
   "source": [
    "# def get_batch(batch_size=199):  #01\n",
    "#     X_pred = np.ones([1, batch_size, 2])\n",
    "#     for index in range(batch_size):\n",
    "#         x, y = win32gui.GetCursorPos()\n",
    "#         X_pred[0,index,:] = np.array([x, y])\n",
    "#         time.sleep(0.01)\n",
    "#     return X_pred\n",
    "\n",
    "def get_batch(batch_size=200): # 02\n",
    "    X_pred = np.ones([1, batch_size, 2])\n",
    "    for index in range(batch_size):\n",
    "        x, y = win32gui.GetCursorPos()\n",
    "        X_pred[0,index,:] = np.array([x, y])\n",
    "        time.sleep(0.01)\n",
    "        \n",
    "    X_diff = X_pred[:,:-1,:].copy()\n",
    "    X_diff[:,:,0] = np.diff(X_pred[:,:,0])\n",
    "    X_diff[:,:,1] = np.diff(X_pred[:,:,1])\n",
    "    \n",
    "    x_std = 3.398 # np.mean(np.std(X_filt[:,:,0], axis=1))\n",
    "    y_std = 2.926 # np.mean(np.std(X_filt[:,:,1], axis=1))\n",
    "\n",
    "    X_diff[:,:,0] = X_diff[:,:,0] / x_std\n",
    "    X_diff[:,:,1] = X_diff[:,:,1] / y_std\n",
    "    return X_diff"
   ]
  },
  {
   "cell_type": "code",
   "execution_count": 5,
   "metadata": {},
   "outputs": [
    {
     "name": "stdout",
     "output_type": "stream",
     "text": [
      "Run_14: Current prediction = Left    Left probability = 42.9%   Right probability = 57.1%"
     ]
    }
   ],
   "source": [
    "time_in_sec = 30\n",
    "left_guesses = 0\n",
    "for index in range(1, max(2, int(time_in_sec/2))):\n",
    "    X_pred = get_batch()\n",
    "    pred = model.predict_classes(X_pred)[0][0]\n",
    "    left_guesses += pred\n",
    "    print(f'\\rRun_{index}: Current prediction = {\"Left \" if pred else \"Right\"}   '+\n",
    "        f'Left probability = {left_guesses/index * 100:.1f}%   '+\n",
    "        f'Right probability = {(1 - left_guesses/index) * 100:.1f}%', end='')"
   ]
  },
  {
   "cell_type": "code",
   "execution_count": null,
   "metadata": {},
   "outputs": [],
   "source": []
  }
 ],
 "metadata": {
  "kernelspec": {
   "display_name": "Python 3",
   "language": "python",
   "name": "python3"
  },
  "language_info": {
   "codemirror_mode": {
    "name": "ipython",
    "version": 3
   },
   "file_extension": ".py",
   "mimetype": "text/x-python",
   "name": "python",
   "nbconvert_exporter": "python",
   "pygments_lexer": "ipython3",
   "version": "3.7.3"
  }
 },
 "nbformat": 4,
 "nbformat_minor": 2
}
